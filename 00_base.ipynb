{
 "cells": [
  {
   "cell_type": "code",
   "execution_count": 1,
   "id": "de23bb9e-37c5-4377-9a82-d7b6c648eeb6",
   "metadata": {},
   "outputs": [],
   "source": [
    "import os\n",
    "import json\n",
    "import requests\n",
    "from dotenv import load_dotenv\n",
    "from openai import OpenAI\n",
    "from rich.console import Console"
   ]
  },
  {
   "cell_type": "markdown",
   "id": "6a78b8cf",
   "metadata": {},
   "source": []
  },
  {
   "cell_type": "code",
   "execution_count": 2,
   "id": "17ce3c2c",
   "metadata": {},
   "outputs": [],
   "source": [
    "console = Console()"
   ]
  },
  {
   "cell_type": "code",
   "execution_count": 3,
   "id": "1179b4c5-cd1f-4131-a876-4c9f3f38d2ba",
   "metadata": {},
   "outputs": [
    {
     "name": "stdout",
     "output_type": "stream",
     "text": [
      "OpenAI API Key exists and begins:sk-proj-\n",
      "Anthropic API Key exists and begins: sk-ant-\n",
      "Groq API Key exists and begins: gsk_FZH\n"
     ]
    }
   ],
   "source": [
    "# Load environment variables in a file called .env\n",
    "# Print the key prefixes to help with any debugging\n",
    "\n",
    "load_dotenv()\n",
    "openai_api_key = os.getenv(\"OPENAI_API_KEY\")\n",
    "anthropic_api_key = os.getenv(\"ANTHROPIC_API_KEY\")\n",
    "groq_api_key = os.getenv(\"GROQ_API_KEY\")\n",
    "\n",
    "if openai_api_key:\n",
    "    print(f\"OpenAI API Key exists and begins:{openai_api_key[:8]}\")\n",
    "else:\n",
    "    print(\"OpenAI API Key not set\")\n",
    "\n",
    "if anthropic_api_key:\n",
    "    print(f\"Anthropic API Key exists and begins: {anthropic_api_key[:7]}\")\n",
    "else:\n",
    "    print(\"Anthropic API Key not set\")\n",
    "\n",
    "if groq_api_key:\n",
    "    print(f\"Groq API Key exists and begins: {groq_api_key[:7]}\")\n",
    "else:\n",
    "    print(\"Groq API Key not set\")"
   ]
  },
  {
   "cell_type": "code",
   "execution_count": 4,
   "id": "797fe7b0-ad43-42d2-acf0-e4f309b112f0",
   "metadata": {},
   "outputs": [],
   "source": [
    "client = OpenAI()"
   ]
  },
  {
   "cell_type": "code",
   "execution_count": 5,
   "id": "bd497f36",
   "metadata": {},
   "outputs": [],
   "source": [
    "MODEL = \"gpt-4o-mini\""
   ]
  },
  {
   "cell_type": "code",
   "execution_count": 6,
   "id": "6f5989eb",
   "metadata": {},
   "outputs": [
    {
     "name": "stdout",
     "output_type": "stream",
     "text": [
      "MODEL: gpt-4o-mini\n"
     ]
    }
   ],
   "source": [
    "print(f\"MODEL: {MODEL}\")"
   ]
  },
  {
   "cell_type": "code",
   "execution_count": 7,
   "id": "41c16dc8",
   "metadata": {},
   "outputs": [],
   "source": [
    "system_message = \"You are a helpful assistant.\"\n",
    "user_prompt = \"What is an AI Agent?\""
   ]
  },
  {
   "cell_type": "code",
   "execution_count": 8,
   "id": "f4d56a0f-2a3d-484d-9344-0efa6862aff4",
   "metadata": {},
   "outputs": [],
   "source": [
    "prompts = [\n",
    "    {\"role\": \"system\", \"content\": system_message},\n",
    "    {\"role\": \"user\", \"content\": user_prompt},\n",
    "]"
   ]
  },
  {
   "cell_type": "code",
   "execution_count": 10,
   "id": "3b3879b6-9a55-4fed-a18c-1ea2edfaf397",
   "metadata": {},
   "outputs": [
    {
     "name": "stdout",
     "output_type": "stream",
     "text": [
      "An AI agent is a computational entity that can perceive its environment, make decisions, and take actions to achieve specific goals. It operates autonomously or semi-autonomously, utilizing artificial intelligence techniques to process information and apply reasoning.\n",
      "\n",
      "Key characteristics of an AI agent include:\n",
      "\n",
      "1. **Autonomy**: It can operate without human intervention, making decisions based on its programming and learning.\n",
      "\n",
      "2. **Perception**: AI agents can receive input from their environment through sensors or data sources. This enables them to gather information and understand their surroundings.\n",
      "\n",
      "3. **Reasoning**: They use algorithms and models to process information, analyze it, and make informed decisions.\n",
      "\n",
      "4. **Action**: After processing information, AI agents perform actions that can affect the environment or respond to user inputs.\n",
      "\n",
      "5. **Adaptability**: Many AI agents can learn and improve over time through experience, often using machine learning techniques.\n",
      "\n",
      "AI agents can be found in various forms and applications, including:\n",
      "\n",
      "- **Chatbots**: AI agents that interact with users in natural language.\n",
      "- **Robots**: Physical agents that can perform tasks in the real world, such as cleaning or manufacturing.\n",
      "- **Recommendation Systems**: AI agents that suggest products, services, or content based on user preferences and behaviors.\n",
      "- **Autonomous Vehicles**: AI systems that navigate and operate vehicles without human control.\n",
      "- **Game AI**: Agents designed to simulate intelligent behavior in non-player characters.\n",
      "\n",
      "Overall, AI agents are central to many applications of artificial intelligence, facilitating automation, decision-making, and interaction in diverse areas.\n"
     ]
    }
   ],
   "source": [
    "# GPT-3.5-Turbo\n",
    "\n",
    "response = client.chat.completions.create(model=MODEL, messages=prompts)\n",
    "print(response.choices[0].message.content)\n",
    "output = response.choices[0].message.content"
   ]
  }
 ],
 "metadata": {
  "kernelspec": {
   "display_name": "Python 3",
   "language": "python",
   "name": "python3"
  },
  "language_info": {
   "codemirror_mode": {
    "name": "ipython",
    "version": 3
   },
   "file_extension": ".py",
   "mimetype": "text/x-python",
   "name": "python",
   "nbconvert_exporter": "python",
   "pygments_lexer": "ipython3",
   "version": "3.12.8"
  }
 },
 "nbformat": 4,
 "nbformat_minor": 5
}
