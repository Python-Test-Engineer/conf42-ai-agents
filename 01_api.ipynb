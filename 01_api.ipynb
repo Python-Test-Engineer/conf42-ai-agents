{
 "cells": [
  {
   "cell_type": "code",
   "execution_count": 1,
   "id": "de23bb9e-37c5-4377-9a82-d7b6c648eeb6",
   "metadata": {},
   "outputs": [],
   "source": [
    "import os\n",
    "import json\n",
    "import requests\n",
    "from dotenv import load_dotenv\n",
    "from openai import OpenAI\n",
    "import anthropic\n",
    "from rich.console import Console\n",
    "# from groq import Groq"
   ]
  },
  {
   "cell_type": "markdown",
   "id": "6a78b8cf",
   "metadata": {},
   "source": []
  },
  {
   "cell_type": "code",
   "execution_count": 2,
   "id": "17ce3c2c",
   "metadata": {},
   "outputs": [],
   "source": [
    "console = Console()"
   ]
  },
  {
   "cell_type": "code",
   "execution_count": 3,
   "id": "e8e3ff6d",
   "metadata": {},
   "outputs": [
    {
     "name": "stdout",
     "output_type": "stream",
     "text": [
      "{'type': 'programming', 'setup': \"['hip', 'hip']\", 'punchline': '(hip hip array)', 'id': 26}\n"
     ]
    }
   ],
   "source": [
    "# We are familiar with a standard API request\n",
    "# This is a public API that returns a random joke\n",
    "# The API developers have a very deterministic response even if random\n",
    "# Both sides program imperatively\n",
    "\n",
    "get_random_joke_internet = requests.get(\n",
    "    \"https://official-joke-api.appspot.com/random_joke\"\n",
    ")\n",
    "\n",
    "print(get_random_joke_internet.json())"
   ]
  },
  {
   "cell_type": "code",
   "execution_count": 4,
   "id": "1179b4c5-cd1f-4131-a876-4c9f3f38d2ba",
   "metadata": {},
   "outputs": [
    {
     "name": "stdout",
     "output_type": "stream",
     "text": [
      "OpenAI API Key exists and begins:sk-proj-\n",
      "Anthropic API Key exists and begins: sk-ant-\n",
      "Groq API Key exists and begins: gsk_pxW\n"
     ]
    }
   ],
   "source": [
    "# Load environment variables in a file called .env\n",
    "# Print the key prefixes to help with any debugging\n",
    "\n",
    "load_dotenv()\n",
    "openai_api_key = os.getenv(\"OPENAI_API_KEY\")\n",
    "anthropic_api_key = os.getenv(\"ANTHROPIC_API_KEY\")\n",
    "groq_api_key = os.getenv(\"GROQ_API_KEY\")\n",
    "\n",
    "if openai_api_key:\n",
    "    print(f\"OpenAI API Key exists and begins:{openai_api_key[:8]}\")\n",
    "else:\n",
    "    print(\"OpenAI API Key not set\")\n",
    "\n",
    "if anthropic_api_key:\n",
    "    print(f\"Anthropic API Key exists and begins: {anthropic_api_key[:7]}\")\n",
    "else:\n",
    "    print(\"Anthropic API Key not set\")\n",
    "\n",
    "if groq_api_key:\n",
    "    print(f\"Groq API Key exists and begins: {groq_api_key[:7]}\")\n",
    "else:\n",
    "    print(\"Groq API Key not set\")"
   ]
  },
  {
   "cell_type": "code",
   "execution_count": 5,
   "id": "797fe7b0-ad43-42d2-acf0-e4f309b112f0",
   "metadata": {},
   "outputs": [],
   "source": [
    "client = OpenAI()\n",
    "claude = anthropic.Anthropic()\n"
   ]
  },
  {
   "cell_type": "code",
   "execution_count": 6,
   "id": "bd497f36",
   "metadata": {},
   "outputs": [],
   "source": [
    "MODEL = \"gpt-4o-mini\""
   ]
  },
  {
   "cell_type": "code",
   "execution_count": 7,
   "id": "6f5989eb",
   "metadata": {},
   "outputs": [
    {
     "name": "stdout",
     "output_type": "stream",
     "text": [
      "MODEL: gpt-4o-mini\n"
     ]
    }
   ],
   "source": [
    "print(f\"MODEL: {MODEL}\")"
   ]
  },
  {
   "cell_type": "code",
   "execution_count": 8,
   "id": "378a0296-59a2-45c6-82eb-941344d3eeff",
   "metadata": {},
   "outputs": [],
   "source": [
    "# original propmt\n",
    "system_message = \"\"\"\n",
    "You are an assistant that is great at telling jokes.\n",
    "\"\"\"\n",
    "\n",
    "# Here is where we can do some AI programming\n",
    "ai_programming = \"\"\"\n",
    "A joke worthy of publishing is a joke that has a rating of 8.5/10 or above.\n",
    "\n",
    "If the joke is worthy of publishing also include next: PUBLISH otherwise next: RETRY\n",
    "\n",
    "Here is an example of a joke worth of publishing:\n",
    "Supply the respoinse in the following format:\n",
    "|{\"setup\": \"The setup of the joke\",\n",
    "\"punchline\": \"The punchline of the joke\",   \n",
    "\"rating\": \"9.0\",\n",
    "\"next\": \"PUBLISH\"\n",
    "}|\n",
    "\n",
    "Remove all back ticks and other unnecessary characters and just print the JSON format and nothing else.\n",
    "\n",
    "Please ensure jokes are not repeated on retries\n",
    "\n",
    "Thank you.\n",
    "\n",
    "\"\"\"\n",
    "\n",
    "system_message += ai_programming\n",
    "\n",
    "user_prompt = \"Tell a light-hearted joke for an audience of Pythonistas in Brighton\""
   ]
  },
  {
   "cell_type": "code",
   "execution_count": 9,
   "id": "f4d56a0f-2a3d-484d-9344-0efa6862aff4",
   "metadata": {},
   "outputs": [],
   "source": [
    "prompts = [\n",
    "    {\"role\": \"system\", \"content\": system_message},\n",
    "    {\"role\": \"user\", \"content\": user_prompt},\n",
    "]"
   ]
  },
  {
   "cell_type": "code",
   "execution_count": 10,
   "id": "3b3879b6-9a55-4fed-a18c-1ea2edfaf397",
   "metadata": {},
   "outputs": [
    {
     "name": "stdout",
     "output_type": "stream",
     "text": [
      "|{\"setup\": \"Why do Python programmers prefer dark mode?\", \"punchline\": \"Because light attracts bugs!\", \"rating\": \"8.7\", \"next\": \"PUBLISH\"}|\n"
     ]
    }
   ],
   "source": [
    "# GPT-3.5-Turbo\n",
    "\n",
    "response = client.chat.completions.create(model=MODEL, messages=prompts)\n",
    "print(response.choices[0].message.content)\n",
    "output = response.choices[0].message.content.replace(\"\\n\", \"\")"
   ]
  },
  {
   "cell_type": "code",
   "execution_count": 11,
   "id": "e2378ced",
   "metadata": {},
   "outputs": [],
   "source": [
    "state = {\"next\": \"\", \"setup\": \"\", \"punchline\": \"\", \"rating\": \"\"}"
   ]
  },
  {
   "cell_type": "code",
   "execution_count": 12,
   "id": "b83b7094",
   "metadata": {},
   "outputs": [
    {
     "name": "stdout",
     "output_type": "stream",
     "text": [
      "<class 'dict'>\n",
      "{'setup': 'Why do Python programmers prefer dark mode?', 'punchline': 'Because light attracts bugs!', 'rating': '8.7', 'next': 'PUBLISH'}\n",
      "PUBLISH: TRUE\n"
     ]
    }
   ],
   "source": [
    "# print(output)\n",
    "output_json = output.split(\"|\")\n",
    "# print(output_json[1])\n",
    "output_dict = json.loads(output_json[1])\n",
    "print(type(output_dict))\n",
    "print(output_dict)\n",
    "if output_dict[\"next\"] == \"PUBLISH\":\n",
    "    print(\"PUBLISH: TRUE\")\n",
    "    state[\"next\"] = output_dict[\"next\"]\n",
    "    state[\"setup\"] = output_dict[\"setup\"]\n",
    "    state[\"rating\"] = output_dict[\"rating\"]\n",
    "    state[\"punchline\"] = output_dict[\"punchline\"]\n",
    "\n",
    "else:\n",
    "    print(\"RETRY\")\n",
    "    state[\"next\"] = \"RETRY\""
   ]
  },
  {
   "cell_type": "code",
   "execution_count": 13,
   "id": "8ee3edbe",
   "metadata": {},
   "outputs": [
    {
     "data": {
      "text/html": [
       "<pre style=\"white-space:pre;overflow-x:auto;line-height:normal;font-family:Menlo,'DejaVu Sans Mono',consolas,'Courier New',monospace\">next: <span style=\"color: #ff8700; text-decoration-color: #ff8700; font-weight: bold\">PUBLISH</span>\n",
       "</pre>\n"
      ],
      "text/plain": [
       "next: \u001b[1;38;5;208mPUBLISH\u001b[0m\n"
      ]
     },
     "metadata": {},
     "output_type": "display_data"
    }
   ],
   "source": [
    "console.print(f\"next: [dark_orange bold]{state['next']}[/]\")"
   ]
  }
 ],
 "metadata": {
  "kernelspec": {
   "display_name": "Python 3",
   "language": "python",
   "name": "python3"
  },
  "language_info": {
   "codemirror_mode": {
    "name": "ipython",
    "version": 3
   },
   "file_extension": ".py",
   "mimetype": "text/x-python",
   "name": "python",
   "nbconvert_exporter": "python",
   "pygments_lexer": "ipython3",
   "version": "3.12.8"
  }
 },
 "nbformat": 4,
 "nbformat_minor": 5
}
