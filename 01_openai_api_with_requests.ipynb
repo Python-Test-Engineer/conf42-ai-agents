{
 "cells": [
  {
   "cell_type": "code",
   "execution_count": 1,
   "id": "de23bb9e-37c5-4377-9a82-d7b6c648eeb6",
   "metadata": {},
   "outputs": [],
   "source": [
    "import os\n",
    "import json\n",
    "import requests\n",
    "from dotenv import load_dotenv"
   ]
  },
  {
   "cell_type": "markdown",
   "id": "6a78b8cf",
   "metadata": {},
   "source": []
  },
  {
   "cell_type": "code",
   "execution_count": 2,
   "id": "1179b4c5-cd1f-4131-a876-4c9f3f38d2ba",
   "metadata": {},
   "outputs": [
    {
     "name": "stdout",
     "output_type": "stream",
     "text": [
      "OpenAI API Key exists and begins sk-proj-\n"
     ]
    }
   ],
   "source": [
    "# Load environment variables in a file called .env\n",
    "# Print the key prefixes to help with any debugging\n",
    "\n",
    "load_dotenv()\n",
    "openai_api_key = os.getenv(\"OPENAI_API_KEY\")\n",
    "\n",
    "if openai_api_key:\n",
    "    print(f\"OpenAI API Key exists and begins {openai_api_key[:8]}\")\n",
    "else:\n",
    "    print(\"OpenAI API Key not set\")"
   ]
  },
  {
   "cell_type": "code",
   "execution_count": 3,
   "id": "9a90e8a5",
   "metadata": {},
   "outputs": [
    {
     "name": "stdout",
     "output_type": "stream",
     "text": [
      "Model selected: gpt-4o-mini\n"
     ]
    }
   ],
   "source": [
    "MODEL = \"gpt-4o-mini\"\n",
    "print(f\"Model selected: {MODEL}\")"
   ]
  },
  {
   "cell_type": "code",
   "execution_count": 4,
   "id": "1226148f",
   "metadata": {},
   "outputs": [],
   "source": [
    "class MyCustomOpenAI:\n",
    "    def __init__(self, system_prompt, temperature=0.5, model=MODEL):\n",
    "        self.model_endpoint = \"https://api.openai.com/v1/chat/completions\"\n",
    "        self.temperature = temperature\n",
    "        self.model = model\n",
    "        self.system_prompt = system_prompt\n",
    "\n",
    "        self.api_key = openai_api_key\n",
    "        self.headers = {\n",
    "            \"Content-Type\": \"application/json\",\n",
    "            \"Authorization\": f\"Bearer {self.api_key}\",\n",
    "        }\n",
    "\n",
    "    def generate_text(self, prompt):\n",
    "\n",
    "        payload = {\n",
    "            \"model\": self.model,\n",
    "            # \"response_format\": {\"type\": \"json_object\"},\n",
    "            \"messages\": [\n",
    "                {\"role\": \"system\", \"content\": self.system_prompt},\n",
    "                {\"role\": \"user\", \"content\": prompt},\n",
    "            ],\n",
    "            \"stream\": False,\n",
    "            \"temperature\": self.temperature,\n",
    "        }\n",
    "        # Use HTTP POST method\n",
    "        response = requests.post(\n",
    "            self.model_endpoint, headers=self.headers, data=json.dumps(payload)\n",
    "        ).json()\n",
    "\n",
    "        return response"
   ]
  },
  {
   "cell_type": "code",
   "execution_count": 5,
   "id": "548bb3a5",
   "metadata": {},
   "outputs": [],
   "source": [
    "client = MyCustomOpenAI(\n",
    "    model=MODEL,\n",
    "    system_prompt=\"You are a grat joke teller\",\n",
    "    temperature=0.5,\n",
    ")\n",
    "\n",
    "response = client.generate_text(\"What is Pydantic?\")"
   ]
  },
  {
   "cell_type": "code",
   "execution_count": 10,
   "id": "b39feb11",
   "metadata": {},
   "outputs": [
    {
     "name": "stdout",
     "output_type": "stream",
     "text": [
      "Pydantic is a data validation and settings management library for Python, primarily used with FastAPI but applicable in various contexts. It allows you to define data models using Python type annotations, ensuring that the data conforms to specified types and constraints. Pydantic automatically validates input data and can serialize and deserialize data to and from various formats, such as JSON.\n",
      "Key features of Pydantic include:\n",
      "1. **Data Validation**: Automatically checks that the data types and values match the defined model.\n",
      "2. **Type Safety**: Uses Python's type hints to ensure that the data adheres to expected types.\n",
      "3. **Serialization/Deserialization**: Easily converts data to and from dictionaries or JSON.\n",
      "4. **Settings Management**: Can be used to manage application settings with environment variable support.\n",
      "Overall, Pydantic helps developers write cleaner and more reliable code by enforcing data integrity and reducing the chances of runtime errors related to data handling.\n"
     ]
    }
   ],
   "source": [
    "# print(response)\n",
    "# print(response[\"choices\"][0])\n",
    "# print(response[\"choices\"][0][\"message\"])\n",
    "# print(response[\"choices\"][0][\"message\"][\"content\"])\n",
    "print(response[\"choices\"][0][\"message\"][\"content\"].replace(\"\\n\\n\", \"\\n\"))"
   ]
  },
  {
   "cell_type": "markdown",
   "id": "31c8ee55",
   "metadata": {},
   "source": []
  },
  {
   "cell_type": "code",
   "execution_count": null,
   "id": "19b074cc",
   "metadata": {},
   "outputs": [],
   "source": []
  }
 ],
 "metadata": {
  "kernelspec": {
   "display_name": "Python 3",
   "language": "python",
   "name": "python3"
  },
  "language_info": {
   "codemirror_mode": {
    "name": "ipython",
    "version": 3
   },
   "file_extension": ".py",
   "mimetype": "text/x-python",
   "name": "python",
   "nbconvert_exporter": "python",
   "pygments_lexer": "ipython3",
   "version": "3.12.8"
  }
 },
 "nbformat": 4,
 "nbformat_minor": 5
}
