{
 "cells": [
  {
   "cell_type": "code",
   "execution_count": 1,
   "id": "de23bb9e-37c5-4377-9a82-d7b6c648eeb6",
   "metadata": {},
   "outputs": [],
   "source": [
    "# imports\n",
    "\n",
    "import os\n",
    "import json\n",
    "from dotenv import load_dotenv\n",
    "from openai import OpenAI\n",
    "import anthropic\n",
    "import requests"
   ]
  },
  {
   "cell_type": "code",
   "execution_count": 2,
   "id": "1179b4c5-cd1f-4131-a876-4c9f3f38d2ba",
   "metadata": {},
   "outputs": [
    {
     "name": "stdout",
     "output_type": "stream",
     "text": [
      "OpenAI API Key exists and begins sk-proj-\n",
      "Anthropic API Key exists and begins sk-ant-\n"
     ]
    }
   ],
   "source": [
    "# Load environment variables in a file called .env\n",
    "# Print the key prefixes to help with any debugging\n",
    "\n",
    "load_dotenv()\n",
    "openai_api_key = os.getenv(\"OPENAI_API_KEY\")\n",
    "anthropic_api_key = os.getenv(\"ANTHROPIC_API_KEY\")\n",
    "# google_api_key = os.getenv('GOOGLE_API_KEY')\n",
    "\n",
    "if openai_api_key:\n",
    "    print(f\"OpenAI API Key exists and begins {openai_api_key[:8]}\")\n",
    "else:\n",
    "    print(\"OpenAI API Key not set\")\n",
    "\n",
    "if anthropic_api_key:\n",
    "    print(f\"Anthropic API Key exists and begins {anthropic_api_key[:7]}\")\n",
    "else:\n",
    "    print(\"Anthropic API Key not set\")"
   ]
  },
  {
   "cell_type": "code",
   "execution_count": 3,
   "id": "797fe7b0-ad43-42d2-acf0-e4f309b112f0",
   "metadata": {},
   "outputs": [],
   "source": [
    "openai = OpenAI()\n",
    "claude = anthropic.Anthropic()"
   ]
  },
  {
   "cell_type": "code",
   "execution_count": 4,
   "id": "dd922b42",
   "metadata": {},
   "outputs": [],
   "source": [
    "# original propmt\n",
    "system_message = \"\"\"\n",
    "You are an assistant that is very good at determining what tool to use to solve queries.\n",
    "\"\"\"\n",
    "\n",
    "ai_programming = \"\"\"\n",
    "\n",
    "# TOOLS\n",
    "\n",
    "You have two tools:\n",
    "\n",
    "1. A calculator tool that can perform basic arithmetic operations, such as addition, subtraction, multiplication, and division. If this tool is used then respond in JSON FORMAT.\n",
    "\n",
    "## Example JSON format:\n",
    "\n",
    "{\"tool\": \"calculator\", \"next\": \"do_calculation\", \"arguments\": {\"num1\": 5, \"num2\": 5, \"operation\": \"addition\"}} \n",
    "\n",
    "2. A jokes tool that can provide a light-hearted joke for the audience reqested. If this tool is used then respond in JSON FORMAT.\n",
    "\n",
    "## Example JSON format:\n",
    "\n",
    "{\"tool\": \"joke\", \"next\": \"do_joke\", \"audience\": \"Pythonistas\" }} \n",
    "\n",
    "    \n",
    "Thank you for your being accurate and complete with this query.\n",
    "\"\"\"\n",
    "\n",
    "system_message += ai_programming"
   ]
  },
  {
   "cell_type": "code",
   "execution_count": 5,
   "id": "9fa6d2ce",
   "metadata": {},
   "outputs": [
    {
     "name": "stdout",
     "output_type": "stream",
     "text": [
      "{\"tool\": \"calculator\", \"next\": \"do_calculation\", \"arguments\": {\"num1\": 10, \"num2\": 9, \"operation\": \"multiplication\"}} \n"
     ]
    }
   ],
   "source": [
    "user_prompt = \"What is 10 times 9?\"\n",
    "# user_prompt = \"Tell me a joke when I am doing stand up at a Builders Conference\"\n",
    "\n",
    "prompts = [\n",
    "    {\"role\": \"system\", \"content\": system_message},\n",
    "    {\"role\": \"user\", \"content\": user_prompt},\n",
    "]\n",
    "\n",
    "# GPT-3.5-Turbo\n",
    "\n",
    "response = openai.chat.completions.create(model=\"gpt-3.5-turbo\", messages=prompts)\n",
    "\n",
    "print(response.choices[0].message.content)\n",
    "\n",
    "output = response.choices[0].message.content.replace(\"\\n\", \"\")"
   ]
  },
  {
   "cell_type": "code",
   "execution_count": 6,
   "id": "7fe3437e",
   "metadata": {},
   "outputs": [
    {
     "name": "stdout",
     "output_type": "stream",
     "text": [
      "{'tool': 'calculator', 'next': 'do_calculation', 'arguments': {'num1': 10, 'num2': 9, 'operation': 'multiplication'}}\n"
     ]
    }
   ],
   "source": [
    "json_output = output.strip()\n",
    "json_output = json.loads(json_output)\n",
    "print(json_output)\n",
    "do_next = json_output[\"next\"]"
   ]
  },
  {
   "cell_type": "code",
   "execution_count": 7,
   "id": "473647c9",
   "metadata": {},
   "outputs": [
    {
     "name": "stdout",
     "output_type": "stream",
     "text": [
      "10 multiplication 9 = 90\n"
     ]
    }
   ],
   "source": [
    "if do_next == \"do_calculation\":\n",
    "    tool = json_output[\"tool\"]\n",
    "    num1 = json_output[\"arguments\"][\"num1\"]\n",
    "    num2 = json_output[\"arguments\"][\"num2\"]\n",
    "    operation = json_output[\"arguments\"][\"operation\"]\n",
    "    if operation == \"addition\":\n",
    "        answer = num1 + num2\n",
    "    elif operation == \"subtraction\":\n",
    "        answer = num1 - num2\n",
    "    elif operation == \"multiplication\":\n",
    "        answer = num1 * num2\n",
    "    elif operation == \"division\":\n",
    "        answer = num1 / num2\n",
    "    print(f\"{num1} {operation} {num2} = {answer}\")"
   ]
  },
  {
   "cell_type": "code",
   "execution_count": 8,
   "id": "25e268dd",
   "metadata": {},
   "outputs": [],
   "source": [
    "if do_next == \"do_joke\":\n",
    "    get_random_joke_internet = requests.get(\n",
    "        \"https://official-joke-api.appspot.com/random_joke\"\n",
    "    )\n",
    "\n",
    "    print(get_random_joke_internet.json())"
   ]
  }
 ],
 "metadata": {
  "kernelspec": {
   "display_name": "Python 3",
   "language": "python",
   "name": "python3"
  },
  "language_info": {
   "codemirror_mode": {
    "name": "ipython",
    "version": 3
   },
   "file_extension": ".py",
   "mimetype": "text/x-python",
   "name": "python",
   "nbconvert_exporter": "python",
   "pygments_lexer": "ipython3",
   "version": "3.12.8"
  }
 },
 "nbformat": 4,
 "nbformat_minor": 5
}
