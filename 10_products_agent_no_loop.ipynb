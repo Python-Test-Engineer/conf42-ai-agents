{
 "cells": [
  {
   "cell_type": "code",
   "execution_count": 1,
   "metadata": {},
   "outputs": [],
   "source": [
    "from dotenv import load_dotenv\n",
    "import os\n",
    "from openai import OpenAI"
   ]
  },
  {
   "cell_type": "code",
   "execution_count": 2,
   "metadata": {},
   "outputs": [
    {
     "name": "stdout",
     "output_type": "stream",
     "text": [
      "OpenAI API Key exists and begins:sk-proj-\n",
      "Anthropic API Key exists and begins: sk-ant-\n"
     ]
    }
   ],
   "source": [
    "# Load environment variables in a file called .env\n",
    "# Print the key prefixes to help with any debugging\n",
    "\n",
    "load_dotenv()\n",
    "openai_api_key = os.getenv(\"OPENAI_API_KEY\")\n",
    "anthropic_api_key = os.getenv(\"ANTHROPIC_API_KEY\")\n",
    "\n",
    "\n",
    "if openai_api_key:\n",
    "    print(f\"OpenAI API Key exists and begins:{openai_api_key[:8]}\")\n",
    "else:\n",
    "    print(\"OpenAI API Key not set\")\n",
    "\n",
    "if anthropic_api_key:\n",
    "    print(f\"Anthropic API Key exists and begins: {anthropic_api_key[:7]}\")\n",
    "else:\n",
    "    print(\"Anthropic API Key not set\")"
   ]
  },
  {
   "cell_type": "code",
   "execution_count": 3,
   "metadata": {},
   "outputs": [
    {
     "name": "stdout",
     "output_type": "stream",
     "text": [
      "An AI agent is a system or entity that uses artificial intelligence techniques to perceive its environment, make decisions, and take actions to achieve specific goals. AI agents can operate autonomously or semi-autonomously and can be found in various applications, ranging from simple rule-based systems to complex machine learning models.\n",
      "\n",
      "Key characteristics of AI agents include:\n",
      "\n",
      "1. **Perception**: AI agents can gather information from their environment through sensors or data inputs. This could involve processing visual data, audio signals, or other forms of input.\n",
      "\n",
      "2. **Decision-Making**: Based on the information they perceive, AI agents can analyze the data and make decisions. This can involve reasoning, planning, and learning from past experiences.\n",
      "\n",
      "3. **Action**: After making decisions, AI agents can take actions to interact with their environment. This could involve physical actions (like a robot moving) or digital actions (like a software agent executing commands).\n",
      "\n",
      "4. **Autonomy**: Many AI agents operate with a degree of autonomy, meaning they can perform tasks without human intervention. However, some may require human oversight or input.\n",
      "\n",
      "5. **Learning**: Advanced AI agents can improve their performance over time through learning algorithms, adapting to new information or changing environments.\n",
      "\n",
      "AI agents can be categorized into different types, such as:\n",
      "\n",
      "- **Reactive Agents**: These agents respond to specific stimuli in their environment without maintaining an internal state or memory.\n",
      "  \n",
      "- **Deliberative Agents**: These agents maintain an internal model of the world and can plan and reason about their actions.\n",
      "\n",
      "- **Learning Agents**: These agents can learn from their experiences and improve their performance over time.\n",
      "\n",
      "Examples of AI agents include virtual assistants (like Siri or Alexa), autonomous vehicles, chatbots, recommendation systems, and game-playing AI. Each of these agents uses AI techniques to perform tasks and interact with users or their environment effectively.\n"
     ]
    }
   ],
   "source": [
    "client = OpenAI()\n",
    "MODEL = \"gpt-4o-mini\"\n",
    "chat_completion = client.chat.completions.create(\n",
    "    messages=[{\"role\": \"user\", \"content\": \"What is an AI Agent?\"}],\n",
    "    model=MODEL,\n",
    "    temperature=0,\n",
    ")\n",
    "\n",
    "print(chat_completion.choices[0].message.content)"
   ]
  },
  {
   "cell_type": "code",
   "execution_count": 4,
   "metadata": {},
   "outputs": [],
   "source": [
    "class Agent:\n",
    "    def __init__(self, client, model=MODEL, system: str = \"\") -> None:\n",
    "        self.client = client\n",
    "        self.system = system\n",
    "        self.messages: list = []\n",
    "        if self.system:\n",
    "            self.messages.append({\"role\": \"system\", \"content\": system})\n",
    "\n",
    "    def __call__(self, message=\"\"):\n",
    "        if message:\n",
    "            self.messages.append({\"role\": \"user\", \"content\": message})\n",
    "            result = self.execute()\n",
    "            self.messages.append({\"role\": \"assistant\", \"content\": result})\n",
    "            return result\n",
    "        else:\n",
    "            print(\"NO MESSAGE\")\n",
    "\n",
    "    def execute(self):\n",
    "        completion = client.chat.completions.create(model=MODEL, messages=self.messages)\n",
    "        return completion.choices[0].message.content"
   ]
  },
  {
   "cell_type": "code",
   "execution_count": 5,
   "metadata": {},
   "outputs": [],
   "source": [
    "system_prompt = \"\"\"\n",
    "\n",
    "\n",
    "You run in a loop of THOUGHT, ACTION, PAUSE, OBSERVATION.\n",
    "\n",
    "When you have a THOUGHT you return the THOUGHT and ACTION\n",
    "\n",
    "At the end of the loop you output an Answer\n",
    "\n",
    "Use THOUGHT to describe your THOUGHTs about the question you have been asked.\n",
    "\n",
    "Use ACTION to run one of the ACTIONs available to you - then return PAUSE.\n",
    "\n",
    "OBSERVATION will be the result of running those ACTIONs.\n",
    "\n",
    "\n",
    "Your available ACTIONs are:\n",
    "\n",
    "\n",
    "## calculate_total\n",
    "\n",
    "if amount = 200\n",
    "\n",
    "then calculate_total(amount)\n",
    "\n",
    "\n",
    "This returns amount * 1.2\n",
    "\n",
    "\n",
    "Runs the calculate_total function and returns a JSON FORMAT output as follows:\n",
    "\n",
    "{\"result\": 240, \"fn\": \"calculate_total\", \"next\": \"PAUSE\"}\n",
    "\n",
    "\n",
    "## get_product_price\n",
    "\n",
    "This uses the get_product_price function and passes in the value of the product\n",
    "\n",
    "e.g. get_product_price('bike')\n",
    "\n",
    "\n",
    "This uses the get_product_price with a product = 'bike', finds the price of the bike and then returns a JSON FORMAT output as follows:\n",
    "\n",
    "{\"result\": 200, \"fn\": \"get_product_price\", \"next\": \"PAUSE\"}\n",
    "\n",
    "\n",
    "Example session:\n",
    "\n",
    "\n",
    "\n",
    "Question: What is the cost of a bike??\n",
    "\n",
    "THOUGHT: I need to find the cost of a bike|ACTION|get_product_price|bike\n",
    "\n",
    "\n",
    "You will be called again with this:\n",
    "\n",
    "\n",
    "OBSERVATION|200\n",
    "\n",
    "\n",
    "THOUGHT: I need to calculate the total including the VAT|ACTION|calculate_total|200\n",
    "\n",
    "\n",
    "\n",
    "You will be called again with this: \n",
    "\n",
    "\n",
    "OBSERVATION|240\n",
    "\n",
    "\n",
    "If you have the answer, output it as the ANSWER.\n",
    "\n",
    "\n",
    "ANSWER|The price of the bike including VAT is 240\n",
    "\n",
    "\n",
    "Now it's your turn:\n",
    "\n",
    "\"\"\".strip()\n",
    "\n",
    "\n",
    "def calculate_total(amount) -> float:\n",
    "\n",
    "    return int(amount * 1.2)\n",
    "\n",
    "\n",
    "def get_product_price(product):\n",
    "\n",
    "    if product == \"bike\":\n",
    "\n",
    "        return 100\n",
    "\n",
    "    if product == \"tv\":\n",
    "\n",
    "        return 200\n",
    "\n",
    "    if product == \"laptop\":\n",
    "\n",
    "        return 300\n",
    "\n",
    "    return None"
   ]
  },
  {
   "cell_type": "code",
   "execution_count": 6,
   "metadata": {},
   "outputs": [],
   "source": [
    "agent = Agent(client=client, system=system_prompt)"
   ]
  },
  {
   "cell_type": "code",
   "execution_count": 7,
   "metadata": {},
   "outputs": [
    {
     "name": "stdout",
     "output_type": "stream",
     "text": [
      "THOUGHT: I need to find the cost of a TV|ACTION|get_product_price|tv\n"
     ]
    }
   ],
   "source": [
    "result = agent(\"What is cost of a laptop including the VAT?\")\n",
    "result = agent(\"What is cost of a bike including the VAT?\")\n",
    "result = agent(\"What is cost of a tv including the VAT?\")\n",
    "\n",
    "\n",
    "print(result)"
   ]
  },
  {
   "cell_type": "code",
   "execution_count": 8,
   "metadata": {},
   "outputs": [
    {
     "name": "stdout",
     "output_type": "stream",
     "text": [
      "['THOUGHT: I need to find the cost of a TV', 'ACTION', 'get_product_price', 'tv']\n",
      "get_product_price tv\n"
     ]
    }
   ],
   "source": [
    "next = result.split(\"|\")\n",
    "print(next)\n",
    "next_function = next[2]\n",
    "next_arg = next[3]\n",
    "print(next_function, next_arg)"
   ]
  },
  {
   "cell_type": "code",
   "execution_count": 9,
   "metadata": {},
   "outputs": [
    {
     "name": "stdout",
     "output_type": "stream",
     "text": [
      "get_product_price | tv\n",
      "200\n"
     ]
    }
   ],
   "source": [
    "print(next_function, \"|\", next_arg)\n",
    "if next_function == \"get_product_price\":\n",
    "    result = get_product_price(next_arg)\n",
    "    print(result)"
   ]
  },
  {
   "cell_type": "code",
   "execution_count": 10,
   "metadata": {},
   "outputs": [
    {
     "data": {
      "text/plain": [
       "'Observation|200'"
      ]
     },
     "execution_count": 10,
     "metadata": {},
     "output_type": "execute_result"
    }
   ],
   "source": [
    "next_prompt = f\"Observation|{result}\"\n",
    "next_prompt"
   ]
  },
  {
   "cell_type": "code",
   "execution_count": 11,
   "metadata": {},
   "outputs": [
    {
     "name": "stdout",
     "output_type": "stream",
     "text": [
      "THOUGHT: I need to calculate the total for the TV including the VAT|ACTION|calculate_total|200\n"
     ]
    }
   ],
   "source": [
    "result = agent(next_prompt)\n",
    "print(result)"
   ]
  },
  {
   "cell_type": "code",
   "execution_count": 12,
   "metadata": {},
   "outputs": [
    {
     "name": "stdout",
     "output_type": "stream",
     "text": [
      "['THOUGHT: I need to calculate the total for the TV including the VAT', 'ACTION', 'calculate_total', '200']\n",
      "FUNCTION - calculate_total |  ARGUMENT - 200\n"
     ]
    }
   ],
   "source": [
    "next = result.split(\"|\")\n",
    "print(next)\n",
    "next_function = next[2]\n",
    "next_arg = int(next[3])\n",
    "print(f\"FUNCTION - {next_function} |  ARGUMENT - {next_arg}\")"
   ]
  },
  {
   "cell_type": "code",
   "execution_count": 13,
   "metadata": {},
   "outputs": [
    {
     "name": "stdout",
     "output_type": "stream",
     "text": [
      "calculate_total | 200\n",
      "240\n"
     ]
    }
   ],
   "source": [
    "print(next_function, \"|\", next_arg)\n",
    "if next_function == \"calculate_total\":\n",
    "    result = calculate_total(next_arg)\n",
    "    print(result)"
   ]
  },
  {
   "cell_type": "code",
   "execution_count": 14,
   "metadata": {},
   "outputs": [
    {
     "data": {
      "text/plain": [
       "'OBSERVATION|240'"
      ]
     },
     "execution_count": 14,
     "metadata": {},
     "output_type": "execute_result"
    }
   ],
   "source": [
    "next_prompt = f\"OBSERVATION|{result}\"\n",
    "next_prompt"
   ]
  },
  {
   "cell_type": "code",
   "execution_count": 15,
   "metadata": {},
   "outputs": [
    {
     "name": "stdout",
     "output_type": "stream",
     "text": [
      "ANSWER|The price of the TV including VAT is 240\n"
     ]
    }
   ],
   "source": [
    "result = agent(next_prompt)\n",
    "print(result)"
   ]
  },
  {
   "cell_type": "code",
   "execution_count": null,
   "metadata": {},
   "outputs": [],
   "source": []
  }
 ],
 "metadata": {
  "kernelspec": {
   "display_name": "Python 3",
   "language": "python",
   "name": "python3"
  },
  "language_info": {
   "codemirror_mode": {
    "name": "ipython",
    "version": 3
   },
   "file_extension": ".py",
   "mimetype": "text/x-python",
   "name": "python",
   "nbconvert_exporter": "python",
   "pygments_lexer": "ipython3",
   "version": "3.12.8"
  }
 },
 "nbformat": 4,
 "nbformat_minor": 2
}
