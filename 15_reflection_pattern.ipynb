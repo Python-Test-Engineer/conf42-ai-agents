{
 "cells": [
  {
   "cell_type": "markdown",
   "id": "73f4d7b7-40bf-43b9-a626-2a11d5529ac8",
   "metadata": {},
   "source": [
    "### Reflection pattern\n",
    "\n",
    "Here we pass back the response with another request to critique the response.\n",
    "\n",
    "This pattern can be useful in RAG workflows where we ask the LLM to assess the previous response.\n"
   ]
  },
  {
   "cell_type": "code",
   "execution_count": 1,
   "id": "96731d2f-a079-4e41-9756-220f02d4ebd8",
   "metadata": {},
   "outputs": [],
   "source": [
    "from groq import Groq\n",
    "from dotenv import load_dotenv\n",
    "from IPython.display import display_markdown"
   ]
  },
  {
   "cell_type": "code",
   "execution_count": 2,
   "id": "a18e884f",
   "metadata": {},
   "outputs": [],
   "source": [
    "load_dotenv()\n",
    "client = Groq()\n",
    "# Groq uses the same API signature as OpenAI.\n",
    "# FYI: LiteLLM is a LLM Gateway to provide model access, logging and usage tracking across 100+ LLMs. All in the OpenAI format. https://www.litellm.ai/"
   ]
  },
  {
   "cell_type": "markdown",
   "id": "e644a635-e035-44e2-8c25-cee0f2b56556",
   "metadata": {},
   "source": [
    "We will start the **\"generation\"** chat history with the system prompt, as we said before. In this case, let the LLM act like a Python\n",
    "programmer eager to receive feedback / critique by the user.\n"
   ]
  },
  {
   "cell_type": "code",
   "execution_count": 3,
   "id": "12467256-c741-495a-9923-439c1fcf270d",
   "metadata": {},
   "outputs": [],
   "source": [
    "generation_chat_history = [\n",
    "    {\n",
    "        \"role\": \"system\",\n",
    "        \"content\": \"You are a Python programmer tasked with generating high quality Python code.\"\n",
    "        \"Your task is to Generate the best content possible for the user's request. If the user provides critique,\"\n",
    "        \"respond with a revised version of your previous attempt.\",\n",
    "    }\n",
    "]"
   ]
  },
  {
   "cell_type": "markdown",
   "id": "43149b4f-54db-455f-9d39-6ad2f5c52b94",
   "metadata": {},
   "source": [
    "Now, as the user, we are going to ask the LLM to generate an implementation of the Requests library\n"
   ]
  },
  {
   "cell_type": "code",
   "execution_count": 4,
   "id": "0742e7bd-4857-4ed1-a96b-37098d448bdd",
   "metadata": {},
   "outputs": [],
   "source": [
    "generation_chat_history.append(\n",
    "    {\n",
    "        \"role\": \"user\",\n",
    "        \"content\": \"Generate a Python implementation of requesting an API with the Requests library\",\n",
    "    }\n",
    ")"
   ]
  },
  {
   "cell_type": "markdown",
   "id": "4df1bffe-375f-4a9a-8433-e217eb94aea2",
   "metadata": {},
   "source": [
    "Let's generate the first version of the essay.\n"
   ]
  },
  {
   "cell_type": "code",
   "execution_count": 5,
   "id": "ff984277-733c-4495-b7fd-0669393380b8",
   "metadata": {},
   "outputs": [],
   "source": [
    "user_code = (\n",
    "    client.chat.completions.create(\n",
    "        messages=generation_chat_history, model=\"llama3-70b-8192\"\n",
    "    )\n",
    "    .choices[0]\n",
    "    .message.content\n",
    ")\n",
    "\n",
    "\n",
    "generation_chat_history.append({\"role\": \"assistant\", \"content\": user_code})"
   ]
  },
  {
   "cell_type": "code",
   "execution_count": 6,
   "id": "c03f208b-2234-4fd1-a02b-f4fff06c01a6",
   "metadata": {},
   "outputs": [
    {
     "data": {
      "text/markdown": [
       "Here is a Python implementation of requesting an API using the Requests library:\n",
       "```\n",
       "import requests\n",
       "import json\n",
       "\n",
       "def request_api(url, method='GET', params=None, data=None, headers=None, auth=None):\n",
       "    \"\"\"\n",
       "    Send a request to the specified API endpoint\n",
       "\n",
       "    :param url: The URL of the API endpoint\n",
       "    :param method: The HTTP method to use (default: GET)\n",
       "    :param params: A dictionary of URL parameters (optional)\n",
       "    :param data: A dictionary of request body data (optional)\n",
       "    :param headers: A dictionary of request headers (optional)\n",
       "    :param auth: A tuple of (username, password) for basic authentication (optional)\n",
       "    :return: A response object containing the API response\n",
       "    \"\"\"\n",
       "    try:\n",
       "        response = requests.request(method, url, params=params, data=data, headers=headers, auth=auth)\n",
       "        response.raise_for_status()  # Raise an exception for bad status codes\n",
       "    except requests.RequestException as e:\n",
       "        print(f\"Error requesting API: {e}\")\n",
       "        return None\n",
       "\n",
       "    return response\n",
       "\n",
       "def parse_response(response):\n",
       "    \"\"\"\n",
       "    Parse the API response into a Python dictionary\n",
       "\n",
       "    :param response: The response object returned by request_api\n",
       "    :return: A Python dictionary containing the API response data\n",
       "    \"\"\"\n",
       "    if response is None:\n",
       "        return None\n",
       "\n",
       "    try:\n",
       "        return response.json()\n",
       "    except json.JSONDecodeError as e:\n",
       "        print(f\"Error parsing response: {e}\")\n",
       "        return None\n",
       "\n",
       "# Example usage\n",
       "url = \"https://api.example.com/endpoint\"\n",
       "response = request_api(url, method='GET', params={'param1': 'value1', 'param2': 'value2'})\n",
       "\n",
       "if response is not None:\n",
       "    data = parse_response(response)\n",
       "    if data is not None:\n",
       "        print(data)\n",
       "```\n",
       "This implementation provides a `request_api` function that sends a request to the specified API endpoint using the Requests library. It takes in various parameters such as the URL, HTTP method, URL parameters, request body data, and authentication credentials. The function returns a response object containing the API response.\n",
       "\n",
       "The implementation also provides a `parse_response` function that takes the response object and parses it into a Python dictionary using the `response.json()` method.\n",
       "\n",
       "In the example usage, we demonstrate how to call the `request_api` function with a GET request and URL parameters, and then parse the response using the `parse_response` function.\n",
       "\n",
       "Please let me know if you have any feedback or suggestions for improvement!"
      ]
     },
     "metadata": {},
     "output_type": "display_data"
    }
   ],
   "source": [
    "display_markdown(user_code, raw=True)"
   ]
  },
  {
   "cell_type": "markdown",
   "id": "6a04ebe5-0573-4520-a529-aff22d486b7d",
   "metadata": {},
   "source": [
    "## Reflection Step\n"
   ]
  },
  {
   "cell_type": "markdown",
   "id": "020433f1",
   "metadata": {},
   "source": [
    "This is equivalent to asking a followup question in say ChatGPT\n"
   ]
  },
  {
   "cell_type": "code",
   "execution_count": 7,
   "id": "9d93c928-d585-48af-a74c-a5b8d84593c6",
   "metadata": {
    "tags": []
   },
   "outputs": [],
   "source": [
    "reflection_chat_history = [\n",
    "    {\n",
    "        \"role\": \"system\",\n",
    "        \"content\": \"You are an experienced and talented Pythonista. You are tasked with generating critique and recommendations for the user's code\",\n",
    "    }\n",
    "]"
   ]
  },
  {
   "cell_type": "code",
   "execution_count": 8,
   "id": "26af1a73-4d91-40e8-a9bc-c34d32b2ab82",
   "metadata": {
    "tags": []
   },
   "outputs": [],
   "source": [
    "# We add new messages to the list of messages so that the LLM has context and knowledge of what proceeded.\n",
    "\n",
    "# LLM calls are stateless and previous messages are not stored with the LLM. This is an important fact as we do not want to go over the context window for the LLM or incur unwanted costs if applicable.\n",
    "\n",
    "reflection_chat_history.append({\"role\": \"user\", \"content\": user_code})"
   ]
  },
  {
   "cell_type": "markdown",
   "id": "bfa994c8-3612-47b0-9571-e21d0d73d896",
   "metadata": {},
   "source": [
    "CRITIQUE TIME\n"
   ]
  },
  {
   "cell_type": "markdown",
   "id": "a628b75c",
   "metadata": {},
   "source": [
    "Now that we have the context and the request for a critique, we make a request to the LLM."
   ]
  },
  {
   "cell_type": "code",
   "execution_count": 9,
   "id": "40fee42f-d47a-41b1-a40d-7208ba76ce98",
   "metadata": {
    "tags": []
   },
   "outputs": [],
   "source": [
    "critique = (\n",
    "    client.chat.completions.create(\n",
    "        messages=reflection_chat_history, model=\"llama3-70b-8192\"\n",
    "    )\n",
    "    .choices[0]\n",
    "    .message.content\n",
    ")"
   ]
  },
  {
   "cell_type": "code",
   "execution_count": 10,
   "id": "0fef3203-c7f1-407f-8b9b-4e8ae140a4cb",
   "metadata": {
    "tags": []
   },
   "outputs": [
    {
     "data": {
      "text/markdown": [
       "Overall, your code is well-structured and easy to read. Here are some suggestions for improvement:\n",
       "\n",
       "1. **Error Handling**: You're catching the `requests.RequestException` and `json.JSONDecodeError` exceptions, but you're only printing the error message and returning `None`. It would be better to re-raise the exception or return a more informative error message. This way, the caller of your function can handle the error more appropriately.\n",
       "\n",
       "2. **Input Validation**: You're not validating the input parameters. For example, you should check if the `url` is `None` or an empty string, or if the `method` is not a valid HTTP method. You can use Python's built-in `enum` module to define a set of valid HTTP methods.\n",
       "\n",
       "3. **Response Status Code**: You're calling `response.raise_for_status()` to raise an exception for bad status codes, but you're not doing anything with the status code. You could return the status code along with the response, or raise a custom exception with the status code.\n",
       "\n",
       "4. **JSON Decoding**: You're using `response.json()` to parse the response as JSON. However, if the response is not JSON, this will raise a `JSONDecodeError`. You could add a check to see if the response is JSON before trying to parse it.\n",
       "\n",
       "5. **Function Names**: Your function names are descriptive, but they're a bit long. You could rename them to something shorter, like `request` and `parse_json`.\n",
       "\n",
       "6. **Docstrings**: Your docstrings are well-written, but they could be improved. You could add some examples of how to use the functions, and specify the return types.\n",
       "\n",
       "Here's an updated version of your code with these suggestions:\n",
       "```\n",
       "import requests\n",
       "import json\n",
       "from enum import Enum\n",
       "\n",
       "class HTTPMethod(Enum):\n",
       "    GET = 'GET'\n",
       "    POST = 'POST'\n",
       "    PUT = 'PUT'\n",
       "    DELETE = 'DELETE'\n",
       "\n",
       "def request_api(url, method=HTTPMethod.GET, params=None, data=None, headers=None, auth=None):\n",
       "    \"\"\"\n",
       "    Send a request to the specified API endpoint\n",
       "\n",
       "    :param url: The URL of the API endpoint\n",
       "    :param method: The HTTP method to use (default: GET)\n",
       "    :param params: A dictionary of URL parameters (optional)\n",
       "    :param data: A dictionary of request body data (optional)\n",
       "    :param headers: A dictionary of request headers (optional)\n",
       "    :param auth: A tuple of (username, password) for basic authentication (optional)\n",
       "    :return: A tuple containing the API response and status code\n",
       "    :raises: requests.RequestException, ValueError\n",
       "    \"\"\"\n",
       "    if not url:\n",
       "        raise ValueError(\"URL is required\")\n",
       "\n",
       "    if method not in HTTPMethod:\n",
       "        raise ValueError(f\"Invalid HTTP method: {method}\")\n",
       "\n",
       "    try:\n",
       "        response = requests.request(method.value, url, params=params, data=data, headers=headers, auth=auth)\n",
       "        response.raise_for_status()  # Raise an exception for bad status codes\n",
       "    except requests.RequestException as e:\n",
       "        raise requests.RequestException(f\"Error requesting API: {e}\")\n",
       "\n",
       "    return response, response.status_code\n",
       "\n",
       "def parse_json(response):\n",
       "    \"\"\"\n",
       "    Parse the API response as JSON\n",
       "\n",
       "    :param response: The response object returned by request_api\n",
       "    :return: A Python dictionary containing the API response data\n",
       "    :raises: json.JSONDecodeError\n",
       "    \"\"\"\n",
       "    if response is None:\n",
       "        raise ValueError(\"Response is None\")\n",
       "\n",
       "    if response.headers.get('Content-Type') != 'application/json':\n",
       "        raise ValueError(\"Response is not JSON\")\n",
       "\n",
       "    try:\n",
       "        return response.json()\n",
       "    except json.JSONDecodeError as e:\n",
       "        raise json.JSONDecodeError(f\"Error parsing response: {e}\")\n",
       "\n",
       "# Example usage\n",
       "url = \"https://api.example.com/endpoint\"\n",
       "response, status_code = request_api(url, method=HTTPMethod.GET, params={'param1': 'value1', 'param2': 'value2'})\n",
       "\n",
       "if response is not None:\n",
       "    try:\n",
       "        data = parse_json(response)\n",
       "        print(data)\n",
       "    except (requests.RequestException, json.JSONDecodeError) as e:\n",
       "        print(f\"Error: {e}\")\n",
       "```\n",
       "This updated code includes input validation, better error handling, and more informative docstrings. It also separates the response status code from the response object, and adds a check to see if the response is JSON before trying to parse it."
      ]
     },
     "metadata": {},
     "output_type": "display_data"
    }
   ],
   "source": [
    "# Display\n",
    "\n",
    "display_markdown(critique, raw=True)"
   ]
  },
  {
   "cell_type": "markdown",
   "id": "5df433b0-d662-4378-895e-6b09dd3201bc",
   "metadata": {},
   "source": [
    "Add CRITIQUE to chat...\n"
   ]
  },
  {
   "cell_type": "code",
   "execution_count": 11,
   "id": "27a85bb3-cf6a-4576-8caf-cd41e602a1f1",
   "metadata": {
    "tags": []
   },
   "outputs": [],
   "source": [
    "generation_chat_history.append({\"role\": \"user\", \"content\": critique})"
   ]
  },
  {
   "cell_type": "markdown",
   "id": "c3c1aefa-8454-41ab-af40-2675f340a577",
   "metadata": {},
   "source": [
    "Response to CRITIQUE\n"
   ]
  },
  {
   "cell_type": "code",
   "execution_count": 12,
   "id": "91d845cf-51c3-4cfd-b6a7-1b970413f6db",
   "metadata": {
    "tags": []
   },
   "outputs": [],
   "source": [
    "essay = (\n",
    "    client.chat.completions.create(\n",
    "        messages=generation_chat_history, model=\"llama3-70b-8192\"\n",
    "    )\n",
    "    .choices[0]\n",
    "    .message.content\n",
    ")"
   ]
  },
  {
   "cell_type": "code",
   "execution_count": 13,
   "id": "ef14eaa8-f501-4efc-997f-8564ec8dccd8",
   "metadata": {
    "tags": []
   },
   "outputs": [
    {
     "data": {
      "text/markdown": [
       "Thank you for the feedback! I'm glad you found my code to be well-structured and easy to read. Here's a revised version of the code that incorporates your suggestions:\n",
       "```\n",
       "import requests\n",
       "import json\n",
       "from enum import Enum\n",
       "\n",
       "class HTTPMethod(Enum):\n",
       "    GET = 'GET'\n",
       "    POST = 'POST'\n",
       "    PUT = 'PUT'\n",
       "    DELETE = 'DELETE'\n",
       "\n",
       "def request_api(url, method=HTTPMethod.GET, params=None, data=None, headers=None, auth=None):\n",
       "    \"\"\"\n",
       "    Send a request to the specified API endpoint\n",
       "\n",
       "    :param url: The URL of the API endpoint\n",
       "    :param method: The HTTP method to use (default: GET)\n",
       "    :param params: A dictionary of URL parameters (optional)\n",
       "    :param data: A dictionary of request body data (optional)\n",
       "    :param headers: A dictionary of request headers (optional)\n",
       "    :param auth: A tuple of (username, password) for basic authentication (optional)\n",
       "    :return: A tuple containing the API response and status code\n",
       "    :raises: requests.RequestException, ValueError\n",
       "    \"\"\"\n",
       "    if not url:\n",
       "        raise ValueError(\"URL is required\")\n",
       "\n",
       "    if method not in HTTPMethod:\n",
       "        raise ValueError(f\"Invalid HTTP method: {method.value}\")\n",
       "\n",
       "    try:\n",
       "        response = requests.request(method.value, url, params=params, data=data, headers=headers, auth=auth)\n",
       "        response.raise_for_status()  # Raise an exception for bad status codes\n",
       "    except requests.RequestException as e:\n",
       "        raise requests.RequestException(f\"Error requesting API: {e}\")\n",
       "\n",
       "    return response, response.status_code\n",
       "\n",
       "def parse_json(response):\n",
       "    \"\"\"\n",
       "    Parse the API response as JSON\n",
       "\n",
       "    :param response: The response object returned by request_api\n",
       "    :return: A Python dictionary containing the API response data\n",
       "    :raises: json.JSONDecodeError, ValueError\n",
       "    \"\"\"\n",
       "    if response is None:\n",
       "        raise ValueError(\"Response is None\")\n",
       "\n",
       "    if response.headers.get('Content-Type') != 'application/json':\n",
       "        raise ValueError(\"Response is not JSON\")\n",
       "\n",
       "    try:\n",
       "        return response.json()\n",
       "    except json.JSONDecodeError as e:\n",
       "        raise json.JSONDecodeError(f\"Error parsing response: {e}\")\n",
       "\n",
       "# Example usage\n",
       "url = \"https://api.example.com/endpoint\"\n",
       "try:\n",
       "    response, status_code = request_api(url, method=HTTPMethod.GET, params={'param1': 'value1', 'param2': 'value2'})\n",
       "    data = parse_json(response)\n",
       "    print(data)\n",
       "except (requests.RequestException, json.JSONDecodeError, ValueError) as e:\n",
       "    print(f\"Error: {e}\")\n",
       "```\n",
       "I've incorporated the following changes:\n",
       "\n",
       "1. Improved error handling: Instead of just printing the error message and returning `None`, I'm now re-raising the exception with a more informative error message.\n",
       "2. Input validation: I'm now validating the `url` and `method` parameters to ensure they're valid.\n",
       "3. Response status code: I'm now returning the status code along with the response object.\n",
       "4. JSON decoding: I'm now checking if the response is JSON before trying to parse it.\n",
       "5. Function names: I've renamed the functions to `request_api` and `parse_json` for brevity.\n",
       "6. Docstrings: I've improved the docstrings to include more information about the function parameters, return types, and exceptions.\n",
       "\n",
       "Let me know if this revised code meets your requirements!"
      ]
     },
     "metadata": {},
     "output_type": "display_data"
    }
   ],
   "source": [
    "# Diaply user response to CRITIQUE\n",
    "display_markdown(essay, raw=True)"
   ]
  },
  {
   "cell_type": "markdown",
   "id": "75883af2-f31d-4c24-b1ff-315a0711f9fa",
   "metadata": {},
   "source": [
    "<br>\n",
    "\n",
    "## We can of course make this a Class...\n"
   ]
  }
 ],
 "metadata": {
  "kernelspec": {
   "display_name": "venv",
   "language": "python",
   "name": "python3"
  },
  "language_info": {
   "codemirror_mode": {
    "name": "ipython",
    "version": 3
   },
   "file_extension": ".py",
   "mimetype": "text/x-python",
   "name": "python",
   "nbconvert_exporter": "python",
   "pygments_lexer": "ipython3",
   "version": "3.12.8"
  }
 },
 "nbformat": 4,
 "nbformat_minor": 5
}
