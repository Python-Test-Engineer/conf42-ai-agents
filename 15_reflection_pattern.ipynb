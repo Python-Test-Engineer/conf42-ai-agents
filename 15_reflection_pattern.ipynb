{
 "cells": [
  {
   "cell_type": "markdown",
   "id": "73f4d7b7-40bf-43b9-a626-2a11d5529ac8",
   "metadata": {},
   "source": [
    "### Groq Client and relevant imports\n"
   ]
  },
  {
   "cell_type": "code",
   "execution_count": 1,
   "id": "96731d2f-a079-4e41-9756-220f02d4ebd8",
   "metadata": {},
   "outputs": [],
   "source": [
    "from groq import Groq\n",
    "from dotenv import load_dotenv\n",
    "from IPython.display import display_markdown"
   ]
  },
  {
   "cell_type": "code",
   "execution_count": 2,
   "id": "a18e884f",
   "metadata": {},
   "outputs": [],
   "source": [
    "load_dotenv()\n",
    "client = Groq()\n",
    "# Groq uses the same API signature as OpenAI.\n",
    "# FYI: LiteLLM is a LLM Gateway to provide model access, logging and usage tracking across 100+ LLMs. All in the OpenAI format. https://www.litellm.ai/"
   ]
  },
  {
   "cell_type": "markdown",
   "id": "e644a635-e035-44e2-8c25-cee0f2b56556",
   "metadata": {},
   "source": [
    "We will start the **\"generation\"** chat history with the system prompt, as we said before. In this case, let the LLM act like a Python\n",
    "programmer eager to receive feedback / critique by the user.\n"
   ]
  },
  {
   "cell_type": "code",
   "execution_count": 3,
   "id": "12467256-c741-495a-9923-439c1fcf270d",
   "metadata": {},
   "outputs": [],
   "source": [
    "generation_chat_history = [\n",
    "    {\n",
    "        \"role\": \"system\",\n",
    "        \"content\": \"You are a Python programmer tasked with generating high quality Python code.\"\n",
    "        \"Your task is to Generate the best content possible for the user's request. If the user provides critique,\"\n",
    "        \"respond with a revised version of your previous attempt.\",\n",
    "    }\n",
    "]"
   ]
  },
  {
   "cell_type": "markdown",
   "id": "43149b4f-54db-455f-9d39-6ad2f5c52b94",
   "metadata": {},
   "source": [
    "Now, as the user, we are going to ask the LLM to generate an implementation of the Requests library\n"
   ]
  },
  {
   "cell_type": "code",
   "execution_count": 4,
   "id": "0742e7bd-4857-4ed1-a96b-37098d448bdd",
   "metadata": {},
   "outputs": [],
   "source": [
    "generation_chat_history.append(\n",
    "    {\n",
    "        \"role\": \"user\",\n",
    "        \"content\": \"Generate a Python implementation of requesting an API with the Requests library\",\n",
    "    }\n",
    ")"
   ]
  },
  {
   "cell_type": "markdown",
   "id": "4df1bffe-375f-4a9a-8433-e217eb94aea2",
   "metadata": {},
   "source": [
    "Let's generate the first version of the essay.\n"
   ]
  },
  {
   "cell_type": "code",
   "execution_count": 5,
   "id": "ff984277-733c-4495-b7fd-0669393380b8",
   "metadata": {},
   "outputs": [],
   "source": [
    "user_code = (\n",
    "    client.chat.completions.create(\n",
    "        messages=generation_chat_history, model=\"llama3-70b-8192\"\n",
    "    )\n",
    "    .choices[0]\n",
    "    .message.content\n",
    ")\n",
    "\n",
    "\n",
    "generation_chat_history.append({\"role\": \"assistant\", \"content\": user_code})"
   ]
  },
  {
   "cell_type": "code",
   "execution_count": 6,
   "id": "c03f208b-2234-4fd1-a02b-f4fff06c01a6",
   "metadata": {},
   "outputs": [
    {
     "data": {
      "text/markdown": [
       "Here is a basic implementation of requesting an API using the Requests library in Python:\n",
       "```\n",
       "import requests\n",
       "\n",
       "def request_api(url, method='GET', params=None, data=None, headers=None):\n",
       "    \"\"\"\n",
       "    Send a request to the specified API endpoint\n",
       "\n",
       "    Args:\n",
       "        url (str): The URL of the API endpoint\n",
       "        method (str, optional): The HTTP method to use (default: 'GET')\n",
       "        params (dict, optional): URL parameters to include in the request\n",
       "        data (dict, optional): Data to include in the request body\n",
       "        headers (dict, optional): Custom headers to include in the request\n",
       "\n",
       "    Returns:\n",
       "        response (requests.Response): The response from the API\n",
       "    \"\"\"\n",
       "    try:\n",
       "        response = requests.request(method, url, params=params, data=data, headers=headers)\n",
       "        response.raise_for_status()  # Raise an exception for bad status codes\n",
       "    except requests.exceptions.RequestException as e:\n",
       "        print(f\"Error: {e}\")\n",
       "        return None\n",
       "\n",
       "    return response\n",
       "\n",
       "# Example usage:\n",
       "url = \"https://api.example.com/endpoint\"\n",
       "params = {\"key\": \"value\"}\n",
       "headers = {\"Authorization\": \"Bearer YOUR_API_KEY\"}\n",
       "\n",
       "response = request_api(url, params=params, headers=headers)\n",
       "\n",
       "if response:\n",
       "    print(response.json())  # Print the response JSON\n",
       "```\n",
       "This implementation provides a basic wrapper around the Requests library's `request` method, allowing you to specify the URL, method, parameters, data, and headers for the request. It also includes some basic error handling to catch any exceptions raised by the Requests library.\n",
       "\n",
       "Please let me know if you have any specific requirements or constraints for the implementation, or if you'd like me to revise anything!"
      ]
     },
     "metadata": {},
     "output_type": "display_data"
    }
   ],
   "source": [
    "display_markdown(user_code, raw=True)"
   ]
  },
  {
   "cell_type": "markdown",
   "id": "6a04ebe5-0573-4520-a529-aff22d486b7d",
   "metadata": {},
   "source": [
    "## Reflection Step\n"
   ]
  },
  {
   "cell_type": "markdown",
   "id": "020433f1",
   "metadata": {},
   "source": [
    "This is equivalent to asking a followup question in say ChatGPT\n"
   ]
  },
  {
   "cell_type": "code",
   "execution_count": 7,
   "id": "9d93c928-d585-48af-a74c-a5b8d84593c6",
   "metadata": {
    "tags": []
   },
   "outputs": [],
   "source": [
    "reflection_chat_history = [\n",
    "    {\n",
    "        \"role\": \"system\",\n",
    "        \"content\": \"You are an experienced and talented Pythonista. You are tasked with generating critique and recommendations for the user's code\",\n",
    "    }\n",
    "]"
   ]
  },
  {
   "cell_type": "code",
   "execution_count": 8,
   "id": "26af1a73-4d91-40e8-a9bc-c34d32b2ab82",
   "metadata": {
    "tags": []
   },
   "outputs": [],
   "source": [
    "# We add new messages to the list of messages so that the LLM has context and knowledge of what proceeded.\n",
    "\n",
    "# LLM calls are stateless and previous messages are not stored with the LLM. This is an important fact as we do not want to go over the context window for the LLM or incur unwanted costs if applicable.\n",
    "\n",
    "reflection_chat_history.append({\"role\": \"user\", \"content\": user_code})"
   ]
  },
  {
   "cell_type": "markdown",
   "id": "bfa994c8-3612-47b0-9571-e21d0d73d896",
   "metadata": {},
   "source": [
    "CRITIQUE TIME\n"
   ]
  },
  {
   "cell_type": "markdown",
   "id": "a628b75c",
   "metadata": {},
   "source": [
    "Now that we have the context and the request for a critique, we make a request to the LLM."
   ]
  },
  {
   "cell_type": "code",
   "execution_count": 9,
   "id": "40fee42f-d47a-41b1-a40d-7208ba76ce98",
   "metadata": {
    "tags": []
   },
   "outputs": [],
   "source": [
    "critique = (\n",
    "    client.chat.completions.create(\n",
    "        messages=reflection_chat_history, model=\"llama3-70b-8192\"\n",
    "    )\n",
    "    .choices[0]\n",
    "    .message.content\n",
    ")"
   ]
  },
  {
   "cell_type": "code",
   "execution_count": 10,
   "id": "0fef3203-c7f1-407f-8b9b-4e8ae140a4cb",
   "metadata": {
    "tags": []
   },
   "outputs": [
    {
     "data": {
      "text/markdown": [
       "The implementation you provided is a good start, but there are a few areas where it can be improved. Here are some suggestions:\n",
       "\n",
       "1. **Error Handling:** The current error handling is quite basic. Instead of just printing the error message, consider logging the error using a logger like `logger.error(str(e))`. This way, you can configure the logging to log errors to a file or a centralized logging system.\n",
       "\n",
       "2. **Returning None:** When an error occurs, the function returns `None`. This can lead to issues if the caller doesn't check for `None` before trying to access the response. Consider raising an exception instead, or returning a custom error object.\n",
       "\n",
       "3. **JSON Parsing:** The `response.json()` call can raise a `ValueError` if the response is not JSON. You should handle this exception. \n",
       "\n",
       "4. **Timeout:** The `requests` library has a default timeout of none, which means that it will wait indefinitely for a response. This can lead to your program hanging if the API is not responding. Consider adding a timeout parameter to your function and passing it to the `requests.request` call.\n",
       "\n",
       "5. **Type Hints:** Your function is missing type hints for the return value and the `response` variable. \n",
       "\n",
       "Here's an updated version of your code:\n",
       "\n",
       "```\n",
       "import requests\n",
       "import logging\n",
       "\n",
       "def request_api(url: str, method: str = 'GET', params: dict = None, data: dict = None, headers: dict = None, timeout: int = 10) -> requests.Response:\n",
       "    \"\"\"\n",
       "    Send a request to the specified API endpoint\n",
       "\n",
       "    Args:\n",
       "        url (str): The URL of the API endpoint\n",
       "        method (str, optional): The HTTP method to use (default: 'GET')\n",
       "        params (dict, optional): URL parameters to include in the request\n",
       "        data (dict, optional): Data to include in the request body\n",
       "        headers (dict, optional): Custom headers to include in the request\n",
       "        timeout (int, optional): The timeout in seconds for the request (default: 10)\n",
       "\n",
       "    Returns:\n",
       "        response (requests.Response): The response from the API\n",
       "    \"\"\"\n",
       "    logger = logging.getLogger(__name__)\n",
       "\n",
       "    try:\n",
       "        response = requests.request(method, url, params=params, data=data, headers=headers, timeout=timeout)\n",
       "        response.raise_for_status()  # Raise an exception for bad status codes\n",
       "    except requests.exceptions.RequestException as e:\n",
       "        logger.error(f\"Error: {e}\")\n",
       "        raise  # Reraise the exception\n",
       "\n",
       "    try:\n",
       "        return response\n",
       "    except AttributeError:\n",
       "        logger.error(\"Failed to get response\")\n",
       "        raise  # Reraise the exception\n",
       "\n",
       "# Example usage:\n",
       "url = \"https://api.example.com/endpoint\"\n",
       "params = {\"key\": \"value\"}\n",
       "headers = {\"Authorization\": \"Bearer YOUR_API_KEY\"}\n",
       "\n",
       "try:\n",
       "    response = request_api(url, params=params, headers=headers)\n",
       "    if response:\n",
       "        try:\n",
       "            print(response.json())  # Print the response JSON\n",
       "        except ValueError:\n",
       "            logger.error(\"Failed to parse JSON response\")\n",
       "except Exception as e:\n",
       "    logger.error(f\"Failed to request API: {e}\")\n",
       "```\n",
       "\n",
       "This updated code includes:\n",
       "\n",
       "*   Better error handling using a logger and re-raising exceptions\n",
       "*   A timeout parameter to prevent hanging\n",
       "*   Type hints for the return value and the `response` variable\n",
       "*   Handling of a `ValueError` when parsing the JSON response"
      ]
     },
     "metadata": {},
     "output_type": "display_data"
    }
   ],
   "source": [
    "# Display\n",
    "\n",
    "display_markdown(critique, raw=True)"
   ]
  },
  {
   "cell_type": "markdown",
   "id": "5df433b0-d662-4378-895e-6b09dd3201bc",
   "metadata": {},
   "source": [
    "Add CRITIQUE to chat...\n"
   ]
  },
  {
   "cell_type": "code",
   "execution_count": 11,
   "id": "27a85bb3-cf6a-4576-8caf-cd41e602a1f1",
   "metadata": {
    "tags": []
   },
   "outputs": [],
   "source": [
    "generation_chat_history.append({\"role\": \"user\", \"content\": critique})"
   ]
  },
  {
   "cell_type": "markdown",
   "id": "c3c1aefa-8454-41ab-af40-2675f340a577",
   "metadata": {},
   "source": [
    "Response to CRITIQUE\n"
   ]
  },
  {
   "cell_type": "code",
   "execution_count": 12,
   "id": "91d845cf-51c3-4cfd-b6a7-1b970413f6db",
   "metadata": {
    "tags": []
   },
   "outputs": [],
   "source": [
    "essay = (\n",
    "    client.chat.completions.create(\n",
    "        messages=generation_chat_history, model=\"llama3-70b-8192\"\n",
    "    )\n",
    "    .choices[0]\n",
    "    .message.content\n",
    ")"
   ]
  },
  {
   "cell_type": "code",
   "execution_count": 13,
   "id": "ef14eaa8-f501-4efc-997f-8564ec8dccd8",
   "metadata": {
    "tags": []
   },
   "outputs": [
    {
     "data": {
      "text/markdown": [
       "Thank you for the suggestions! Your updated code indeed improves the implementation in several ways. Here's a revised version that incorporates your suggestions and provides additional improvements:\n",
       "\n",
       "```\n",
       "import requests\n",
       "import logging\n",
       "from typing import Union\n",
       "\n",
       "def request_api(url: str, method: str = 'GET', params: dict = None, data: dict = None, headers: dict = None, timeout: int = 10) -> Union[requests.Response, None]:\n",
       "    \"\"\"\n",
       "    Send a request to the specified API endpoint\n",
       "\n",
       "    Args:\n",
       "        url (str): The URL of the API endpoint\n",
       "        method (str, optional): The HTTP method to use (default: 'GET')\n",
       "        params (dict, optional): URL parameters to include in the request\n",
       "        data (dict, optional): Data to include in the request body\n",
       "        headers (dict, optional): Custom headers to include in the request\n",
       "        timeout (int, optional): The timeout in seconds for the request (default: 10)\n",
       "\n",
       "    Returns:\n",
       "        response (requests.Response or None): The response from the API, or None if an error occurs\n",
       "    \"\"\"\n",
       "    logger = logging.getLogger(__name__)\n",
       "\n",
       "    try:\n",
       "        response = requests.request(method, url, params=params, data=data, headers=headers, timeout=timeout)\n",
       "        response.raise_for_status()  # Raise an exception for bad status codes\n",
       "    except requests.exceptions.RequestException as e:\n",
       "        logger.error(f\"Error: {e}\")\n",
       "        return None\n",
       "\n",
       "    try:\n",
       "        return response\n",
       "    except AttributeError:\n",
       "        logger.error(\"Failed to get response\")\n",
       "        return None\n",
       "\n",
       "# Example usage:\n",
       "url = \"https://api.example.com/endpoint\"\n",
       "params = {\"key\": \"value\"}\n",
       "headers = {\"Authorization\": \"Bearer YOUR_API_KEY\"}\n",
       "\n",
       "response = request_api(url, params=params, headers=headers)\n",
       "\n",
       "if response:\n",
       "    try:\n",
       "        print(response.json())  # Print the response JSON\n",
       "    except ValueError:\n",
       "        logging.error(\"Failed to parse JSON response\")\n",
       "else:\n",
       "    logging.error(\"Failed to request API\")\n",
       "```\n",
       "\n",
       "The key changes I made include:\n",
       "\n",
       "1.  I added a `Union` type hint to indicate that the function can return either a `requests.Response` object or `None`.\n",
       "2.  I removed the `raise` statement in the `except` block and instead returned `None` to indicate that an error occurred. This allows the caller to handle the error accordingly.\n",
       "3.  I added a check to see if `response` is not `None` before trying to access its `json()` method.\n",
       "4.  I used the `logging` module to log errors instead of printing them. This allows for more flexibility in configuring the logging behavior.\n",
       "\n",
       "Overall, this revised implementation provides better error handling, improved type hints, and more robust logging."
      ]
     },
     "metadata": {},
     "output_type": "display_data"
    }
   ],
   "source": [
    "# Diaply user response to CRITIQUE\n",
    "display_markdown(essay, raw=True)"
   ]
  },
  {
   "cell_type": "markdown",
   "id": "75883af2-f31d-4c24-b1ff-315a0711f9fa",
   "metadata": {},
   "source": [
    "<br>\n",
    "\n",
    "## We can of course make this a Class...\n"
   ]
  }
 ],
 "metadata": {
  "kernelspec": {
   "display_name": "venv",
   "language": "python",
   "name": "python3"
  },
  "language_info": {
   "codemirror_mode": {
    "name": "ipython",
    "version": 3
   },
   "file_extension": ".py",
   "mimetype": "text/x-python",
   "name": "python",
   "nbconvert_exporter": "python",
   "pygments_lexer": "ipython3",
   "version": "3.12.8"
  }
 },
 "nbformat": 4,
 "nbformat_minor": 5
}
