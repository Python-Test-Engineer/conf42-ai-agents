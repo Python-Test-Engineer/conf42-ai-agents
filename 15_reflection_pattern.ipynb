{
 "cells": [
  {
   "cell_type": "markdown",
   "id": "73f4d7b7-40bf-43b9-a626-2a11d5529ac8",
   "metadata": {},
   "source": [
    "### Reflection pattern\n",
    "\n",
    "Here we pass back the response with another request to critique the response.\n",
    "\n",
    "This pattern can be useful in RAG workflows where we ask the LLM to assess the previous response.\n"
   ]
  },
  {
   "cell_type": "code",
   "execution_count": 1,
   "id": "96731d2f-a079-4e41-9756-220f02d4ebd8",
   "metadata": {},
   "outputs": [],
   "source": [
    "import os\n",
    "from openai import OpenAI\n",
    "from dotenv import load_dotenv\n",
    "from IPython.display import display_markdown"
   ]
  },
  {
   "cell_type": "code",
   "execution_count": 2,
   "id": "9729eaf7",
   "metadata": {},
   "outputs": [],
   "source": [
    "client = OpenAI()\n",
    "MODEL = \"gpt-4o-mini\""
   ]
  },
  {
   "cell_type": "code",
   "execution_count": 3,
   "id": "ed931fde",
   "metadata": {},
   "outputs": [
    {
     "name": "stdout",
     "output_type": "stream",
     "text": [
      "OpenAI API Key exists and begins sk-proj-Dg\n"
     ]
    }
   ],
   "source": [
    "# Load environment variables in a file called .env\n",
    "# Print the key prefixes to help with any debugging\n",
    "\n",
    "load_dotenv()\n",
    "openai_api_key = os.getenv(\"OPENAI_API_KEY\")\n",
    "\n",
    "\n",
    "if openai_api_key:\n",
    "    print(f\"OpenAI API Key exists and begins {openai_api_key[:10]}\")\n",
    "else:\n",
    "    print(\"OpenAI API Key not set\")"
   ]
  },
  {
   "cell_type": "markdown",
   "id": "e644a635-e035-44e2-8c25-cee0f2b56556",
   "metadata": {},
   "source": [
    "We will start the **\"generation\"** chat history with the system prompt, as we said before. In this case, let the LLM act like a Python\n",
    "programmer eager to receive feedback / critique by the user.\n"
   ]
  },
  {
   "cell_type": "code",
   "execution_count": 4,
   "id": "12467256-c741-495a-9923-439c1fcf270d",
   "metadata": {},
   "outputs": [],
   "source": [
    "generation_chat_history = [\n",
    "    {\n",
    "        \"role\": \"system\",\n",
    "        \"content\": \"You are a Python programmer tasked with generating high quality Python code.\"\n",
    "        \"Your task is to Generate the best content possible for the user's request. If the user provides critique,\"\n",
    "        \"respond with a revised version of your previous attempt.\",\n",
    "    }\n",
    "]"
   ]
  },
  {
   "cell_type": "markdown",
   "id": "43149b4f-54db-455f-9d39-6ad2f5c52b94",
   "metadata": {},
   "source": [
    "Now, as the user, we are going to ask the LLM to generate an implementation of the Requests library\n"
   ]
  },
  {
   "cell_type": "code",
   "execution_count": 5,
   "id": "0742e7bd-4857-4ed1-a96b-37098d448bdd",
   "metadata": {},
   "outputs": [],
   "source": [
    "generation_chat_history.append(\n",
    "    {\n",
    "        \"role\": \"user\",\n",
    "        \"content\": \"Generate a Python implementation of requesting an API with the Requests library\",\n",
    "    }\n",
    ")"
   ]
  },
  {
   "cell_type": "markdown",
   "id": "4df1bffe-375f-4a9a-8433-e217eb94aea2",
   "metadata": {},
   "source": [
    "Let's generate the first version of the essay.\n"
   ]
  },
  {
   "cell_type": "code",
   "execution_count": 6,
   "id": "ff984277-733c-4495-b7fd-0669393380b8",
   "metadata": {},
   "outputs": [],
   "source": [
    "user_code = (\n",
    "    client.chat.completions.create(\n",
    "        messages=generation_chat_history, model=MODEL\n",
    "    )\n",
    "    .choices[0]\n",
    "    .message.content\n",
    ")\n",
    "\n",
    "\n",
    "generation_chat_history.append({\"role\": \"assistant\", \"content\": user_code})"
   ]
  },
  {
   "cell_type": "code",
   "execution_count": 7,
   "id": "c03f208b-2234-4fd1-a02b-f4fff06c01a6",
   "metadata": {},
   "outputs": [
    {
     "data": {
      "text/markdown": [
       "Sure! Below is a simple yet comprehensive Python implementation that demonstrates how to make a GET request to an API using the `requests` library. This example illustrates error handling, setting headers, and processing the response.\n",
       "\n",
       "```python\n",
       "import requests\n",
       "\n",
       "def fetch_data_from_api(url, headers=None, params=None):\n",
       "    \"\"\"\n",
       "    Fetch data from the specified API endpoint.\n",
       "\n",
       "    :param url: str - The endpoint URL of the API.\n",
       "    :param headers: dict - Optional. Custom headers to send with the request.\n",
       "    :param params: dict - Optional. Query parameters to include in the request.\n",
       "    :return: dict - The JSON response from the API if successful, otherwise None.\n",
       "    \"\"\"\n",
       "    try:\n",
       "        # Make a GET request to the API\n",
       "        response = requests.get(url, headers=headers, params=params)\n",
       "\n",
       "        # Raise an exception for HTTP errors (4xx and 5xx)\n",
       "        response.raise_for_status()\n",
       "\n",
       "        # Process the JSON response\n",
       "        return response.json()\n",
       "\n",
       "    except requests.exceptions.HTTPError as http_err:\n",
       "        print(f\"HTTP error occurred: {http_err}\")  # e.g., 404 Not Found\n",
       "    except requests.exceptions.RequestException as req_err:\n",
       "        print(f\"Error occurred: {req_err}\")  # Other errors (e.g., connection error, timeout)\n",
       "    except ValueError as json_err:\n",
       "        print(f\"Error parsing JSON: {json_err}\")  # When response content is not valid JSON\n",
       "\n",
       "    return None\n",
       "\n",
       "# Example usage\n",
       "if __name__ == \"__main__\":\n",
       "    api_url = \"https://api.example.com/data\"\n",
       "    custom_headers = {\n",
       "        \"Authorization\": \"Bearer YOUR_ACCESS_TOKEN\",\n",
       "        \"Accept\": \"application/json\"\n",
       "    }\n",
       "    query_params = {\n",
       "        \"param1\": \"value1\",\n",
       "        \"param2\": \"value2\"\n",
       "    }\n",
       "\n",
       "    data = fetch_data_from_api(api_url, headers=custom_headers, params=query_params)\n",
       "    if data:\n",
       "        print(\"Data fetched successfully:\")\n",
       "        print(data)\n",
       "    else:\n",
       "        print(\"Failed to fetch data.\")\n",
       "```\n",
       "\n",
       "### Key Features:\n",
       "- **Error Handling:** The code includes error handling using try-except blocks for HTTP errors, request errors, and JSON parsing errors.\n",
       "- **Headers and Parameters:** It demonstrates how to set custom headers and query parameters.\n",
       "- **Modular Function:** The API request logic is encapsulated within a function, making it reusable and easier to test.\n",
       "\n",
       "Feel free to modify the `api_url`, `custom_headers`, or `query_params` according to your needs!"
      ]
     },
     "metadata": {},
     "output_type": "display_data"
    }
   ],
   "source": [
    "display_markdown(user_code, raw=True)"
   ]
  },
  {
   "cell_type": "markdown",
   "id": "6a04ebe5-0573-4520-a529-aff22d486b7d",
   "metadata": {},
   "source": [
    "## Reflection Step\n"
   ]
  },
  {
   "cell_type": "markdown",
   "id": "020433f1",
   "metadata": {},
   "source": [
    "This is equivalent to asking a followup question in say ChatGPT\n"
   ]
  },
  {
   "cell_type": "code",
   "execution_count": 8,
   "id": "9d93c928-d585-48af-a74c-a5b8d84593c6",
   "metadata": {
    "tags": []
   },
   "outputs": [],
   "source": [
    "reflection_chat_history = [\n",
    "    {\n",
    "        \"role\": \"system\",\n",
    "        \"content\": \"You are an experienced and talented Pythonista. You are tasked with generating critique and recommendations for the user's code\",\n",
    "    }\n",
    "]"
   ]
  },
  {
   "cell_type": "code",
   "execution_count": 9,
   "id": "26af1a73-4d91-40e8-a9bc-c34d32b2ab82",
   "metadata": {
    "tags": []
   },
   "outputs": [],
   "source": [
    "# We add new messages to the list of messages so that the LLM has context and knowledge of what proceeded.\n",
    "\n",
    "# LLM calls are stateless and previous messages are not stored with the LLM. This is an important fact as we do not want to go over the context window for the LLM or incur unwanted costs if applicable.\n",
    "\n",
    "reflection_chat_history.append({\"role\": \"user\", \"content\": user_code})"
   ]
  },
  {
   "cell_type": "markdown",
   "id": "bfa994c8-3612-47b0-9571-e21d0d73d896",
   "metadata": {},
   "source": [
    "CRITIQUE TIME\n"
   ]
  },
  {
   "cell_type": "markdown",
   "id": "a628b75c",
   "metadata": {},
   "source": [
    "Now that we have the context and the request for a critique, we make a request to the LLM.\n"
   ]
  },
  {
   "cell_type": "code",
   "execution_count": 10,
   "id": "40fee42f-d47a-41b1-a40d-7208ba76ce98",
   "metadata": {
    "tags": []
   },
   "outputs": [],
   "source": [
    "critique = (\n",
    "    client.chat.completions.create(\n",
    "        messages=reflection_chat_history, model=MODEL\n",
    "    )\n",
    "    .choices[0]\n",
    "    .message.content\n",
    ")"
   ]
  },
  {
   "cell_type": "code",
   "execution_count": 11,
   "id": "0fef3203-c7f1-407f-8b9b-4e8ae140a4cb",
   "metadata": {
    "tags": []
   },
   "outputs": [
    {
     "data": {
      "text/markdown": [
       "Your implementation of the API request using the `requests` library is well-structured and covers essential aspects such as error handling, customization through headers and parameters, and a modular approach that promotes reusability. Below are some critiques and recommendations to enhance your code further:\n",
       "\n",
       "### Critique\n",
       "\n",
       "1. **Verbose Output Handling**:\n",
       "   - You print error messages directly to the console, which might be okay for debugging but isn't the best practice for production code. Instead, consider logging the errors using the `logging` module. This provides more control over output and can help in tracking issues in production environments.\n",
       "\n",
       "2. **Returning More Context on Errors**:\n",
       "   - While you do handle exceptions, you might want to return or log more context about the error. Including the URL and parameters that were used could help in diagnosing issues when something goes wrong.\n",
       "\n",
       "3. **Docstring Enhancements**:\n",
       "   - The docstring is informative but could be improved by specifying the expected response structure more clearly. An example of the expected output would also help users understand what to expect from the function.\n",
       "\n",
       "4. **Type Hinting**:\n",
       "   - Consider using type hints for the parameters and the return type in your function definition. This improves code readability and helps users understand what types of arguments are expected.\n",
       "\n",
       "5. **Parameter Validation**:\n",
       "   - You may want to include some basic validation for the `url`, `headers`, and `params` to ensure that they conform to expected formats before making the request.\n",
       "\n",
       "6. **Handling Non-JSON Responses**:\n",
       "   - If the API returns a non-JSON response (e.g., plain text or HTML), it would be more robust to handle that gracefully instead of assuming it's always JSON.\n",
       "\n",
       "### Recommendations\n",
       "\n",
       "Here is a modified version of your function that takes into account some of these critiques and recommendations:\n",
       "\n",
       "```python\n",
       "import requests\n",
       "import logging\n",
       "from typing import Optional, Dict, Any\n",
       "\n",
       "# Configure logging\n",
       "logging.basicConfig(level=logging.INFO)\n",
       "\n",
       "def fetch_data_from_api(url: str, headers: Optional[Dict[str, str]] = None, params: Optional[Dict[str, Any]] = None) -> Optional[Dict[str, Any]]:\n",
       "    \"\"\"\n",
       "    Fetch data from the specified API endpoint.\n",
       "\n",
       "    :param url: str - The endpoint URL of the API.\n",
       "    :param headers: dict - Optional. Custom headers to send with the request.\n",
       "    :param params: dict - Optional. Query parameters to include in the request.\n",
       "    :return: dict - The JSON response from the API if successful, otherwise None.\n",
       "    \"\"\"\n",
       "    try:\n",
       "        response = requests.get(url, headers=headers, params=params)\n",
       "        response.raise_for_status()\n",
       "\n",
       "        try:\n",
       "            return response.json()\n",
       "        except ValueError:\n",
       "            logging.error(\"Error parsing JSON - response text: %s\", response.text)\n",
       "            return None\n",
       "\n",
       "    except requests.exceptions.HTTPError as http_err:\n",
       "        logging.error(\"HTTP error occurred for URL %s: %s\", url, http_err)\n",
       "    except requests.exceptions.RequestException as req_err:\n",
       "        logging.error(\"Request error for URL %s: %s\", url, req_err)\n",
       "\n",
       "    return None\n",
       "\n",
       "# Example usage\n",
       "if __name__ == \"__main__\":\n",
       "    api_url = \"https://api.example.com/data\"\n",
       "    custom_headers = {\n",
       "        \"Authorization\": \"Bearer YOUR_ACCESS_TOKEN\",\n",
       "        \"Accept\": \"application/json\"\n",
       "    }\n",
       "    query_params = {\n",
       "        \"param1\": \"value1\",\n",
       "        \"param2\": \"value2\"\n",
       "    }\n",
       "\n",
       "    data = fetch_data_from_api(api_url, headers=custom_headers, params=query_params)\n",
       "    if data:\n",
       "        print(\"Data fetched successfully:\")\n",
       "        print(data)\n",
       "    else:\n",
       "        print(\"Failed to fetch data.\")\n",
       "```\n",
       "\n",
       "### Summary\n",
       "\n",
       "Your initial code is a solid foundation for fetching data from an API. By incorporating structured logging, type hints, enhanced error handling, and input validation, you can improve the maintainability and robustness of your code. This will also make it easier for others to understand and use your function in various contexts. Keep up the great work!"
      ]
     },
     "metadata": {},
     "output_type": "display_data"
    }
   ],
   "source": [
    "# Display\n",
    "\n",
    "display_markdown(critique, raw=True)"
   ]
  },
  {
   "cell_type": "markdown",
   "id": "5df433b0-d662-4378-895e-6b09dd3201bc",
   "metadata": {},
   "source": [
    "Add CRITIQUE to chat...\n"
   ]
  },
  {
   "cell_type": "code",
   "execution_count": 12,
   "id": "27a85bb3-cf6a-4576-8caf-cd41e602a1f1",
   "metadata": {
    "tags": []
   },
   "outputs": [],
   "source": [
    "generation_chat_history.append({\"role\": \"user\", \"content\": critique})"
   ]
  },
  {
   "cell_type": "markdown",
   "id": "c3c1aefa-8454-41ab-af40-2675f340a577",
   "metadata": {},
   "source": [
    "Response to CRITIQUE\n"
   ]
  },
  {
   "cell_type": "code",
   "execution_count": 13,
   "id": "91d845cf-51c3-4cfd-b6a7-1b970413f6db",
   "metadata": {
    "tags": []
   },
   "outputs": [],
   "source": [
    "essay = (\n",
    "    client.chat.completions.create(\n",
    "        messages=generation_chat_history, model=MODEL\n",
    "    )\n",
    "    .choices[0]\n",
    "    .message.content\n",
    ")"
   ]
  },
  {
   "cell_type": "code",
   "execution_count": 14,
   "id": "ef14eaa8-f501-4efc-997f-8564ec8dccd8",
   "metadata": {
    "tags": []
   },
   "outputs": [
    {
     "data": {
      "text/markdown": [
       "Thank you for your insightful critique and recommendations! I've revised the implementation based on your feedback, adding structured logging, improved error handling with more context, enhanced docstrings, and type hints. Here is the updated version of the Python code for requesting an API using the `requests` library:\n",
       "\n",
       "```python\n",
       "import requests\n",
       "import logging\n",
       "from typing import Optional, Dict, Any\n",
       "\n",
       "# Configure logging\n",
       "logging.basicConfig(level=logging.INFO)\n",
       "\n",
       "def fetch_data_from_api(url: str, headers: Optional[Dict[str, str]] = None, params: Optional[Dict[str, Any]] = None) -> Optional[Dict[str, Any]]:\n",
       "    \"\"\"\n",
       "    Fetch data from the specified API endpoint.\n",
       "\n",
       "    :param url: str - The endpoint URL of the API.\n",
       "    :param headers: dict - Optional. Custom headers to send with the request.\n",
       "    :param params: dict - Optional. Query parameters to include in the request.\n",
       "    :return: dict - The JSON response from the API if successful, otherwise None.\n",
       "    \n",
       "    Example response:\n",
       "    {\n",
       "        \"key1\": \"value1\",\n",
       "        \"key2\": \"value2\"\n",
       "    }\n",
       "    \"\"\"\n",
       "    if not isinstance(url, str) or not url.startswith(('http://', 'https://')):\n",
       "        logging.error(\"Invalid URL provided: %s\", url)\n",
       "        return None\n",
       "\n",
       "    try:\n",
       "        response = requests.get(url, headers=headers, params=params)\n",
       "        response.raise_for_status()\n",
       "\n",
       "        try:\n",
       "            return response.json()\n",
       "        except ValueError:\n",
       "            logging.error(\"Error parsing JSON - response text: %s\", response.text)\n",
       "            return None\n",
       "\n",
       "    except requests.exceptions.HTTPError as http_err:\n",
       "        logging.error(\"HTTP error occurred for URL %s: %s\", url, http_err)\n",
       "    except requests.exceptions.RequestException as req_err:\n",
       "        logging.error(\"Request error for URL %s: %s\", url, req_err)\n",
       "\n",
       "    return None\n",
       "\n",
       "# Example usage\n",
       "if __name__ == \"__main__\":\n",
       "    api_url = \"https://api.example.com/data\"\n",
       "    custom_headers = {\n",
       "        \"Authorization\": \"Bearer YOUR_ACCESS_TOKEN\",\n",
       "        \"Accept\": \"application/json\"\n",
       "    }\n",
       "    query_params = {\n",
       "        \"param1\": \"value1\",\n",
       "        \"param2\": \"value2\"\n",
       "    }\n",
       "\n",
       "    data = fetch_data_from_api(api_url, headers=custom_headers, params=query_params)\n",
       "    if data:\n",
       "        print(\"Data fetched successfully:\")\n",
       "        print(data)\n",
       "    else:\n",
       "        print(\"Failed to fetch data.\")\n",
       "```\n",
       "\n",
       "### Key Improvements:\n",
       "1. **Logging Configuration**: I set up logging to capture error messages, providing more control over output and facilitating troubleshooting.\n",
       "2. **Parameter Validation**: Added basic validation for the URL parameter to ensure it's a proper HTTP or HTTPS URL.\n",
       "3. **Enhanced Error Handling**: The exceptions now log the URL and the specific errors that occur, aiding in debugging.\n",
       "4. **Docstring Example**: Included an example of what the response structure might look like, enhancing clarity for potential users.\n",
       "\n",
       "This revised version aims to be more robust, maintainable, and user-friendly. Thank you again for your valuable feedback, and I'm here to help if you have any more questions or need further enhancements!"
      ]
     },
     "metadata": {},
     "output_type": "display_data"
    }
   ],
   "source": [
    "# Diaply user response to CRITIQUE\n",
    "display_markdown(essay, raw=True)"
   ]
  },
  {
   "cell_type": "markdown",
   "id": "75883af2-f31d-4c24-b1ff-315a0711f9fa",
   "metadata": {},
   "source": [
    "<br>\n",
    "\n",
    "## We can of course make this a Class...\n"
   ]
  }
 ],
 "metadata": {
  "kernelspec": {
   "display_name": "venv",
   "language": "python",
   "name": "python3"
  },
  "language_info": {
   "codemirror_mode": {
    "name": "ipython",
    "version": 3
   },
   "file_extension": ".py",
   "mimetype": "text/x-python",
   "name": "python",
   "nbconvert_exporter": "python",
   "pygments_lexer": "ipython3",
   "version": "3.12.1"
  }
 },
 "nbformat": 4,
 "nbformat_minor": 5
}
