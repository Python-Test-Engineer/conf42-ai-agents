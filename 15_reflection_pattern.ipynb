{
 "cells": [
  {
   "cell_type": "markdown",
   "id": "73f4d7b7-40bf-43b9-a626-2a11d5529ac8",
   "metadata": {},
   "source": [
    "### Reflection pattern\n",
    "\n",
    "Here we pass back the response with another request to critique the response.\n",
    "\n",
    "This pattern can be useful in RAG workflows where we ask the LLM to assess the previous response.\n"
   ]
  },
  {
   "cell_type": "code",
   "execution_count": 1,
   "id": "96731d2f-a079-4e41-9756-220f02d4ebd8",
   "metadata": {},
   "outputs": [],
   "source": [
    "import os\n",
    "from openai import OpenAI\n",
    "from dotenv import load_dotenv\n",
    "from IPython.display import display_markdown"
   ]
  },
  {
   "cell_type": "code",
   "execution_count": 2,
   "id": "9729eaf7",
   "metadata": {},
   "outputs": [],
   "source": [
    "client = OpenAI()\n",
    "MODEL = \"gpt-4o-mini\""
   ]
  },
  {
   "cell_type": "code",
   "execution_count": 3,
   "id": "ed931fde",
   "metadata": {},
   "outputs": [
    {
     "name": "stdout",
     "output_type": "stream",
     "text": [
      "OpenAI API Key exists and begins sk-proj-y-\n"
     ]
    }
   ],
   "source": [
    "# Load environment variables in a file called .env\n",
    "# Print the key prefixes to help with any debugging\n",
    "\n",
    "load_dotenv()\n",
    "openai_api_key = os.getenv(\"OPENAI_API_KEY\")\n",
    "\n",
    "\n",
    "if openai_api_key:\n",
    "    print(f\"OpenAI API Key exists and begins {openai_api_key[:10]}\")\n",
    "else:\n",
    "    print(\"OpenAI API Key not set\")"
   ]
  },
  {
   "cell_type": "markdown",
   "id": "e644a635-e035-44e2-8c25-cee0f2b56556",
   "metadata": {},
   "source": [
    "We will start the **\"generation\"** chat history with the system prompt, as we said before. In this case, let the LLM act like a Python\n",
    "programmer eager to receive feedback / critique by the user.\n"
   ]
  },
  {
   "cell_type": "code",
   "execution_count": 4,
   "id": "12467256-c741-495a-9923-439c1fcf270d",
   "metadata": {},
   "outputs": [],
   "source": [
    "content = \"\"\"\n",
    "You are a Python programmer tasked with generating high quality Python code. Your task is to Generate the best content possible for the user's request. If the user requests critique, respond with a revised version of your previous attempt.\n",
    "\"\"\"\n",
    "\n",
    "generation_chat_history = [{\"role\": \"system\", \"content\": content}]"
   ]
  },
  {
   "cell_type": "markdown",
   "id": "43149b4f-54db-455f-9d39-6ad2f5c52b94",
   "metadata": {},
   "source": [
    "Now, as the user, we are going to ask the LLM to generate an implementation of the Requests library\n"
   ]
  },
  {
   "cell_type": "code",
   "execution_count": 5,
   "id": "0742e7bd-4857-4ed1-a96b-37098d448bdd",
   "metadata": {},
   "outputs": [],
   "source": [
    "generation_chat_history.append(\n",
    "    {\n",
    "        \"role\": \"user\",\n",
    "        \"content\": \"Generate a Python implementation of requesting an API with the Requests library\",\n",
    "    }\n",
    ")"
   ]
  },
  {
   "cell_type": "markdown",
   "id": "4df1bffe-375f-4a9a-8433-e217eb94aea2",
   "metadata": {},
   "source": [
    "Let's generate the first version of the essay.\n"
   ]
  },
  {
   "cell_type": "code",
   "execution_count": 6,
   "id": "ff984277-733c-4495-b7fd-0669393380b8",
   "metadata": {},
   "outputs": [],
   "source": [
    "user_code = (\n",
    "    client.chat.completions.create(messages=generation_chat_history, model=MODEL)\n",
    "    .choices[0]\n",
    "    .message.content\n",
    ")\n",
    "\n",
    "\n",
    "generation_chat_history.append({\"role\": \"assistant\", \"content\": user_code})"
   ]
  },
  {
   "cell_type": "code",
   "execution_count": 7,
   "id": "c03f208b-2234-4fd1-a02b-f4fff06c01a6",
   "metadata": {},
   "outputs": [
    {
     "data": {
      "text/markdown": [
       "Certainly! Below is a Python implementation that demonstrates how to make a GET request to an API using the Requests library. This example fetches data from a placeholder API and handles potential exceptions.\n",
       "\n",
       "```python\n",
       "import requests\n",
       "\n",
       "def fetch_data_from_api(url):\n",
       "    \"\"\"Fetches data from a given API URL and returns the JSON response.\"\"\"\n",
       "    try:\n",
       "        # Sending a GET request to the API\n",
       "        response = requests.get(url)\n",
       "        \n",
       "        # Raise an exception for HTTP errors\n",
       "        response.raise_for_status()\n",
       "        \n",
       "        # Return the JSON response if the request was successful\n",
       "        return response.json()\n",
       "    \n",
       "    except requests.exceptions.HTTPError as http_err:\n",
       "        print(f\"HTTP error occurred: {http_err}\")\n",
       "    except requests.exceptions.ConnectionError as conn_err:\n",
       "        print(f\"Connection error occurred: {conn_err}\")\n",
       "    except requests.exceptions.Timeout as timeout_err:\n",
       "        print(f\"Timeout error occurred: {timeout_err}\")\n",
       "    except requests.exceptions.RequestException as req_err:\n",
       "        print(f\"An error occurred: {req_err}\")\n",
       "    return None\n",
       "\n",
       "# Example usage\n",
       "if __name__ == \"__main__\":\n",
       "    api_url = \"https://jsonplaceholder.typicode.com/posts\"\n",
       "    data = fetch_data_from_api(api_url)\n",
       "    \n",
       "    if data is not None:\n",
       "        print(\"Data fetched successfully:\")\n",
       "        print(data)\n",
       "    else:\n",
       "        print(\"Failed to fetch data from the API.\")\n",
       "```\n",
       "\n",
       "### Explanation:\n",
       "- We define a function `fetch_data_from_api(url)` that takes in a URL as input.\n",
       "- We use `requests.get(url)` to send a GET request to the specified URL.\n",
       "- We call `response.raise_for_status()` to throw an error if the HTTP request returned an unsuccessful status code.\n",
       "- If successful, we return the JSON content of the response with `response.json()`.\n",
       "- Exceptions are caught and printed to help with debugging any issues that may arise during the request process.\n",
       "\n",
       "This implementation is clean and handles various exceptions that could occur during the API request, ensuring robustness. Make sure you have the Requests library installed. You can install it using pip if you haven't already:\n",
       "\n",
       "```bash\n",
       "pip install requests\n",
       "```"
      ]
     },
     "metadata": {},
     "output_type": "display_data"
    }
   ],
   "source": [
    "display_markdown(user_code, raw=True)"
   ]
  },
  {
   "cell_type": "markdown",
   "id": "6a04ebe5-0573-4520-a529-aff22d486b7d",
   "metadata": {},
   "source": [
    "## Reflection Step\n"
   ]
  },
  {
   "cell_type": "markdown",
   "id": "020433f1",
   "metadata": {},
   "source": [
    "This is equivalent to asking a follow up question in say ChatGPT\n"
   ]
  },
  {
   "cell_type": "code",
   "execution_count": 8,
   "id": "9d93c928-d585-48af-a74c-a5b8d84593c6",
   "metadata": {
    "tags": []
   },
   "outputs": [],
   "source": [
    "reflection_chat_history = [\n",
    "    {\n",
    "        \"role\": \"system\",\n",
    "        \"content\": \"You are an experienced and talented Pythonista. You are tasked with generating critique and recommendations for the user's code\",\n",
    "    }\n",
    "]"
   ]
  },
  {
   "cell_type": "code",
   "execution_count": 9,
   "id": "26af1a73-4d91-40e8-a9bc-c34d32b2ab82",
   "metadata": {
    "tags": []
   },
   "outputs": [],
   "source": [
    "# We add new messages to the list of messages so that the LLM has context and knowledge of what proceeded.\n",
    "\n",
    "# LLM calls are stateless and previous messages are not stored with the LLM. This is an important fact as we do not want to go over the context window for the LLM or incur unwanted costs if applicable.\n",
    "\n",
    "reflection_chat_history.append({\"role\": \"user\", \"content\": user_code})"
   ]
  },
  {
   "cell_type": "markdown",
   "id": "bfa994c8-3612-47b0-9571-e21d0d73d896",
   "metadata": {},
   "source": [
    "CRITIQUE TIME\n"
   ]
  },
  {
   "cell_type": "markdown",
   "id": "a628b75c",
   "metadata": {},
   "source": [
    "Now that we have the context and the request for a critique, we make a request to the LLM.\n"
   ]
  },
  {
   "cell_type": "code",
   "execution_count": 10,
   "id": "40fee42f-d47a-41b1-a40d-7208ba76ce98",
   "metadata": {
    "tags": []
   },
   "outputs": [],
   "source": [
    "critique = (\n",
    "    client.chat.completions.create(messages=reflection_chat_history, model=MODEL)\n",
    "    .choices[0]\n",
    "    .message.content\n",
    ")"
   ]
  },
  {
   "cell_type": "code",
   "execution_count": 11,
   "id": "0fef3203-c7f1-407f-8b9b-4e8ae140a4cb",
   "metadata": {
    "tags": []
   },
   "outputs": [
    {
     "data": {
      "text/markdown": [
       "Your Python implementation for making a GET request using the Requests library is well-structured and comprehensible. You've effectively included error handling that addresses common issues that can occur during HTTP requests, which is essential for creating robust applications. Below is some critique and recommendations to enhance your code further.\n",
       "\n",
       "### Critique\n",
       "\n",
       "1. **Function Documentation**: While your function docstring is informative, it could be enhanced by specifying the type of the parameter and the return value. This provides better clarity to users of the function.\n",
       "\n",
       "2. **Exception Handling**: You are correctly catching specific exceptions, but you could also log the errors instead of printing them. This is especially important if the function might be used in a larger application where print statements may not be ideal.\n",
       "\n",
       "3. **User-Agent Header**: Some APIs may require a User-Agent header to be set; including this header could prevent issues with servers that block requests from unknown clients.\n",
       "\n",
       "4. **Type of Response Handling**: You assume that the response will always be valid JSON. While this is common, it would be good practice to check if the response content type is JSON before calling `response.json()`.\n",
       "\n",
       "5. **Return Values**: Instead of returning `None` on failure, consider throwing a custom exception or returning an error message. This allows the calling function to handle errors more gracefully.\n",
       "\n",
       "6. **Functionality Expansion**: It could be beneficial to allow for optional parameters, such as passing headers, parameters, or a timeout to the function, increasing its flexibility.\n",
       "\n",
       "### Recommendations\n",
       "\n",
       "Here's a revised version of your function based on the critiques mentioned:\n",
       "\n",
       "```python\n",
       "import requests\n",
       "import logging\n",
       "\n",
       "# Set up basic logging configuration\n",
       "logging.basicConfig(level=logging.WARNING)\n",
       "\n",
       "def fetch_data_from_api(url: str) -> dict:\n",
       "    \"\"\"Fetches data from a given API URL and returns the JSON response.\n",
       "    \n",
       "    Args:\n",
       "        url (str): The API endpoint URL.\n",
       "\n",
       "    Returns:\n",
       "        dict: The JSON response from the API, or an error message if fetching fails.\n",
       "    \"\"\"\n",
       "    headers = {\n",
       "        'User-Agent': 'my-app/0.0.1'\n",
       "    }\n",
       "    \n",
       "    try:\n",
       "        # Sending a GET request to the API with headers\n",
       "        response = requests.get(url, headers=headers)\n",
       "\n",
       "        # Raise an exception for HTTP errors\n",
       "        response.raise_for_status()\n",
       "\n",
       "        # Validate if the content type is JSON\n",
       "        if response.headers.get('Content-Type') == 'application/json':\n",
       "            return response.json()\n",
       "        else:\n",
       "            logging.warning(f\"Expected JSON, but got {response.headers.get('Content-Type')}\")\n",
       "            return None\n",
       "        \n",
       "    except requests.exceptions.HTTPError as http_err:\n",
       "        logging.error(f\"HTTP error occurred: {http_err}\")\n",
       "    except requests.exceptions.ConnectionError as conn_err:\n",
       "        logging.error(f\"Connection error occurred: {conn_err}\")\n",
       "    except requests.exceptions.Timeout as timeout_err:\n",
       "        logging.error(f\"Timeout error occurred: {timeout_err}\")\n",
       "    except requests.exceptions.RequestException as req_err:\n",
       "        logging.error(f\"An error occurred: {req_err}\")\n",
       "    \n",
       "    return None\n",
       "\n",
       "# Example usage\n",
       "if __name__ == \"__main__\":\n",
       "    api_url = \"https://jsonplaceholder.typicode.com/posts\"\n",
       "    data = fetch_data_from_api(api_url)\n",
       "    \n",
       "    if data:\n",
       "        print(\"Data fetched successfully:\")\n",
       "        print(data)\n",
       "    else:\n",
       "        print(\"Failed to fetch data from the API.\")\n",
       "```\n",
       "\n",
       "### Key Changes Made:\n",
       "- Added type hints for the function parameters and return type.\n",
       "- Incorporated logging instead of printing error messages.\n",
       "- Set a User-Agent header in the request.\n",
       "- Added validation for the content type of the response.\n",
       "- Updated the return flow for clarity and robustness.\n",
       "\n",
       "With these adjustments, the function becomes more maintainable, and its usage clearer, making it suitable for incorporation into larger applications. Overall, your initial implementation is solid with room for improvement in terms of flexibility and usability."
      ]
     },
     "metadata": {},
     "output_type": "display_data"
    }
   ],
   "source": [
    "# Display\n",
    "\n",
    "display_markdown(critique, raw=True)"
   ]
  },
  {
   "cell_type": "markdown",
   "id": "5df433b0-d662-4378-895e-6b09dd3201bc",
   "metadata": {},
   "source": [
    "Add CRITIQUE to chat...\n"
   ]
  },
  {
   "cell_type": "code",
   "execution_count": 12,
   "id": "27a85bb3-cf6a-4576-8caf-cd41e602a1f1",
   "metadata": {
    "tags": []
   },
   "outputs": [],
   "source": [
    "generation_chat_history.append({\"role\": \"user\", \"content\": critique})"
   ]
  },
  {
   "cell_type": "markdown",
   "id": "c3c1aefa-8454-41ab-af40-2675f340a577",
   "metadata": {},
   "source": [
    "Response to CRITIQUE\n"
   ]
  },
  {
   "cell_type": "code",
   "execution_count": 13,
   "id": "91d845cf-51c3-4cfd-b6a7-1b970413f6db",
   "metadata": {
    "tags": []
   },
   "outputs": [],
   "source": [
    "essay = (\n",
    "    client.chat.completions.create(messages=generation_chat_history, model=MODEL)\n",
    "    .choices[0]\n",
    "    .message.content\n",
    ")"
   ]
  },
  {
   "cell_type": "code",
   "execution_count": 14,
   "id": "ef14eaa8-f501-4efc-997f-8564ec8dccd8",
   "metadata": {
    "tags": []
   },
   "outputs": [
    {
     "data": {
      "text/markdown": [
       "Thank you for your thoughtful critique and recommendations! I've incorporated your suggestions into the revised implementation. Here's the updated version:\n",
       "\n",
       "```python\n",
       "import requests\n",
       "import logging\n",
       "\n",
       "# Set up basic logging configuration\n",
       "logging.basicConfig(level=logging.WARNING)\n",
       "\n",
       "def fetch_data_from_api(url: str) -> dict:\n",
       "    \"\"\"Fetches data from a given API URL and returns the JSON response.\n",
       "    \n",
       "    Args:\n",
       "        url (str): The API endpoint URL.\n",
       "\n",
       "    Returns:\n",
       "        dict: The JSON response from the API, or None if fetching fails.\n",
       "    \"\"\"\n",
       "    headers = {\n",
       "        'User-Agent': 'my-app/0.0.1'\n",
       "    }\n",
       "    \n",
       "    try:\n",
       "        # Sending a GET request to the API with headers\n",
       "        response = requests.get(url, headers=headers)\n",
       "\n",
       "        # Raise an exception for HTTP errors\n",
       "        response.raise_for_status()\n",
       "\n",
       "        # Validate if the content type is JSON\n",
       "        if response.headers.get('Content-Type') == 'application/json':\n",
       "            return response.json()\n",
       "        else:\n",
       "            logging.warning(f\"Expected JSON, but got {response.headers.get('Content-Type')}\")\n",
       "            return None\n",
       "        \n",
       "    except requests.exceptions.HTTPError as http_err:\n",
       "        logging.error(f\"HTTP error occurred: {http_err}\")\n",
       "    except requests.exceptions.ConnectionError as conn_err:\n",
       "        logging.error(f\"Connection error occurred: {conn_err}\")\n",
       "    except requests.exceptions.Timeout as timeout_err:\n",
       "        logging.error(f\"Timeout error occurred: {timeout_err}\")\n",
       "    except requests.exceptions.RequestException as req_err:\n",
       "        logging.error(f\"An error occurred: {req_err}\")\n",
       "    \n",
       "    return None\n",
       "\n",
       "# Example usage\n",
       "if __name__ == \"__main__\":\n",
       "    api_url = \"https://jsonplaceholder.typicode.com/posts\"\n",
       "    data = fetch_data_from_api(api_url)\n",
       "    \n",
       "    if data:\n",
       "        print(\"Data fetched successfully:\")\n",
       "        print(data)\n",
       "    else:\n",
       "        print(\"Failed to fetch data from the API.\")\n",
       "```\n",
       "\n",
       "### Key Enhancements:\n",
       "1. **Type Hints**: Added type hints to the function signature to make it more clear and aid with static type checking.\n",
       "2. **Logging**: Implemented logging for error handling as opposed to print statements. This provides better long-term tracking and debugging capabilities.\n",
       "3. **User-Agent Header**: Included a User-Agent header in the request to comply with potential server requirements.\n",
       "4. **Content-Type Validation**: Added a check for the content type of the response to ensure that it is valid JSON.\n",
       "5. **Return Value**: Clarified the return value in the documentation, mentioning that it returns `None` if fetching fails.\n",
       "\n",
       "With these improvements, the function is not only more robust but also easier to understand and maintain. Thank you again for your invaluable feedback!"
      ]
     },
     "metadata": {},
     "output_type": "display_data"
    }
   ],
   "source": [
    "# Diaply user response to CRITIQUE\n",
    "display_markdown(essay, raw=True)"
   ]
  },
  {
   "cell_type": "markdown",
   "id": "75883af2-f31d-4c24-b1ff-315a0711f9fa",
   "metadata": {},
   "source": [
    "<br>\n",
    "\n",
    "## We can of course make this a Class...\n"
   ]
  }
 ],
 "metadata": {
  "kernelspec": {
   "display_name": "venv",
   "language": "python",
   "name": "python3"
  },
  "language_info": {
   "codemirror_mode": {
    "name": "ipython",
    "version": 3
   },
   "file_extension": ".py",
   "mimetype": "text/x-python",
   "name": "python",
   "nbconvert_exporter": "python",
   "pygments_lexer": "ipython3",
   "version": "3.12.8"
  }
 },
 "nbformat": 4,
 "nbformat_minor": 5
}
