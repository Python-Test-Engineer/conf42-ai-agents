{
 "cells": [
  {
   "cell_type": "markdown",
   "id": "73f4d7b7-40bf-43b9-a626-2a11d5529ac8",
   "metadata": {},
   "source": [
    "### Reflection pattern\n",
    "\n",
    "Here we pass back the response with another request to critique the response.\n",
    "\n",
    "This pattern can be useful in RAG workflows where we ask the LLM to assess the previous response.\n"
   ]
  },
  {
   "cell_type": "code",
   "execution_count": 1,
   "id": "96731d2f-a079-4e41-9756-220f02d4ebd8",
   "metadata": {},
   "outputs": [],
   "source": [
    "import os\n",
    "from openai import OpenAI\n",
    "from dotenv import load_dotenv\n",
    "from IPython.display import display_markdown"
   ]
  },
  {
   "cell_type": "code",
   "execution_count": 2,
   "id": "9729eaf7",
   "metadata": {},
   "outputs": [],
   "source": [
    "client = OpenAI()\n",
    "MODEL = \"gpt-4o-mini\""
   ]
  },
  {
   "cell_type": "code",
   "execution_count": 3,
   "id": "ed931fde",
   "metadata": {},
   "outputs": [
    {
     "name": "stdout",
     "output_type": "stream",
     "text": [
      "OpenAI API Key exists and begins sk-proj-Dg\n"
     ]
    }
   ],
   "source": [
    "# Load environment variables in a file called .env\n",
    "# Print the key prefixes to help with any debugging\n",
    "\n",
    "load_dotenv()\n",
    "openai_api_key = os.getenv(\"OPENAI_API_KEY\")\n",
    "\n",
    "\n",
    "if openai_api_key:\n",
    "    print(f\"OpenAI API Key exists and begins {openai_api_key[:10]}\")\n",
    "else:\n",
    "    print(\"OpenAI API Key not set\")"
   ]
  },
  {
   "cell_type": "markdown",
   "id": "e644a635-e035-44e2-8c25-cee0f2b56556",
   "metadata": {},
   "source": [
    "We will start the **\"generation\"** chat history with the system prompt, as we said before. In this case, let the LLM act like a Python\n",
    "programmer eager to receive feedback / critique by the user.\n"
   ]
  },
  {
   "cell_type": "code",
   "execution_count": 15,
   "id": "12467256-c741-495a-9923-439c1fcf270d",
   "metadata": {},
   "outputs": [],
   "source": [
    "content = \"\"\"\n",
    "You are a Python programmer tasked with generating high quality Python code. Your task is to Generate the best content possible for the user's request. If the user provides critique,\n",
    "respond with a revised version of your previous attempt.\n",
    "\"\"\"\n",
    "\n",
    "generation_chat_history = [{\"role\": \"system\", \"content\": content}]"
   ]
  },
  {
   "cell_type": "markdown",
   "id": "43149b4f-54db-455f-9d39-6ad2f5c52b94",
   "metadata": {},
   "source": [
    "Now, as the user, we are going to ask the LLM to generate an implementation of the Requests library\n"
   ]
  },
  {
   "cell_type": "code",
   "execution_count": 5,
   "id": "0742e7bd-4857-4ed1-a96b-37098d448bdd",
   "metadata": {},
   "outputs": [],
   "source": [
    "generation_chat_history.append(\n",
    "    {\n",
    "        \"role\": \"user\",\n",
    "        \"content\": \"Generate a Python implementation of requesting an API with the Requests library\",\n",
    "    }\n",
    ")"
   ]
  },
  {
   "cell_type": "markdown",
   "id": "4df1bffe-375f-4a9a-8433-e217eb94aea2",
   "metadata": {},
   "source": [
    "Let's generate the first version of the essay.\n"
   ]
  },
  {
   "cell_type": "code",
   "execution_count": 6,
   "id": "ff984277-733c-4495-b7fd-0669393380b8",
   "metadata": {},
   "outputs": [],
   "source": [
    "user_code = (\n",
    "    client.chat.completions.create(messages=generation_chat_history, model=MODEL)\n",
    "    .choices[0]\n",
    "    .message.content\n",
    ")\n",
    "\n",
    "\n",
    "generation_chat_history.append({\"role\": \"assistant\", \"content\": user_code})"
   ]
  },
  {
   "cell_type": "code",
   "execution_count": 7,
   "id": "c03f208b-2234-4fd1-a02b-f4fff06c01a6",
   "metadata": {},
   "outputs": [
    {
     "data": {
      "text/markdown": [
       "Certainly! Below is a Python implementation that demonstrates how to make a request to an API using the `requests` library. This example includes handling different types of HTTP requests, setting headers, and handling responses.\n",
       "\n",
       "```python\n",
       "import requests\n",
       "\n",
       "def fetch_data_from_api(url, params=None, headers=None):\n",
       "    \"\"\"\n",
       "    Fetch data from the specified API using GET request.\n",
       "\n",
       "    :param url: The API endpoint URL.\n",
       "    :param params: Optional dictionary of query parameters.\n",
       "    :param headers: Optional dictionary of HTTP headers.\n",
       "    :return: JSON response from the API or None in case of an error.\n",
       "    \"\"\"\n",
       "    try:\n",
       "        response = requests.get(url, params=params, headers=headers)\n",
       "        response.raise_for_status()  # Raise an error for bad responses (4xx and 5xx)\n",
       "\n",
       "        # Check if the response contains JSON data\n",
       "        return response.json() if response.headers.get('Content-Type') == 'application/json' else response.text\n",
       "    except requests.exceptions.HTTPError as http_err:\n",
       "        print(f\"HTTP error occurred: {http_err}\")\n",
       "    except requests.exceptions.RequestException as req_err:\n",
       "        print(f\"Request exception occurred: {req_err}\")\n",
       "    except ValueError as json_err:\n",
       "        print(f\"JSON decoding error: {json_err}\")\n",
       "\n",
       "    return None\n",
       "\n",
       "# Example usage\n",
       "if __name__ == \"__main__\":\n",
       "    api_url = \"https://api.example.com/data\"\n",
       "    query_parameters = {'key': 'value'}\n",
       "    headers = {'Authorization': 'Bearer YOUR_ACCESS_TOKEN'}\n",
       "\n",
       "    result = fetch_data_from_api(api_url, params=query_parameters, headers=headers)\n",
       "    if result:\n",
       "        print(\"API Response:\")\n",
       "        print(result)\n",
       "    else:\n",
       "        print(\"Failed to retrieve data.\")\n",
       "```\n",
       "\n",
       "### Explanation\n",
       "- **Function Definition**: The function `fetch_data_from_api` is defined to accept a URL, optional query parameters, and optional headers.\n",
       "- **GET Request**: It uses `requests.get` to make a GET request to the API.\n",
       "- **Error Handling**: The function handles common exceptions like HTTP errors and request exceptions. \n",
       "- **Response Handling**: It checks if the response is JSON and returns it; otherwise, it returns the raw text.\n",
       "- **Example Usage**: The script demonstrates how to call the function and handle the returned data.\n",
       "\n",
       "Make sure to replace `\"https://api.example.com/data\"` and `'Bearer YOUR_ACCESS_TOKEN'` with the appropriate API endpoint and authentication token. You can also modify the query parameters based on the API requirements. \n",
       "\n",
       "Feel free to ask if you need further modifications or assistance!"
      ]
     },
     "metadata": {},
     "output_type": "display_data"
    }
   ],
   "source": [
    "display_markdown(user_code, raw=True)"
   ]
  },
  {
   "cell_type": "markdown",
   "id": "6a04ebe5-0573-4520-a529-aff22d486b7d",
   "metadata": {},
   "source": [
    "## Reflection Step\n"
   ]
  },
  {
   "cell_type": "markdown",
   "id": "020433f1",
   "metadata": {},
   "source": [
    "This is equivalent to asking a followup question in say ChatGPT\n"
   ]
  },
  {
   "cell_type": "code",
   "execution_count": 8,
   "id": "9d93c928-d585-48af-a74c-a5b8d84593c6",
   "metadata": {
    "tags": []
   },
   "outputs": [],
   "source": [
    "reflection_chat_history = [\n",
    "    {\n",
    "        \"role\": \"system\",\n",
    "        \"content\": \"You are an experienced and talented Pythonista. You are tasked with generating critique and recommendations for the user's code\",\n",
    "    }\n",
    "]"
   ]
  },
  {
   "cell_type": "code",
   "execution_count": 9,
   "id": "26af1a73-4d91-40e8-a9bc-c34d32b2ab82",
   "metadata": {
    "tags": []
   },
   "outputs": [],
   "source": [
    "# We add new messages to the list of messages so that the LLM has context and knowledge of what proceeded.\n",
    "\n",
    "# LLM calls are stateless and previous messages are not stored with the LLM. This is an important fact as we do not want to go over the context window for the LLM or incur unwanted costs if applicable.\n",
    "\n",
    "reflection_chat_history.append({\"role\": \"user\", \"content\": user_code})"
   ]
  },
  {
   "cell_type": "markdown",
   "id": "bfa994c8-3612-47b0-9571-e21d0d73d896",
   "metadata": {},
   "source": [
    "CRITIQUE TIME\n"
   ]
  },
  {
   "cell_type": "markdown",
   "id": "a628b75c",
   "metadata": {},
   "source": [
    "Now that we have the context and the request for a critique, we make a request to the LLM.\n"
   ]
  },
  {
   "cell_type": "code",
   "execution_count": 10,
   "id": "40fee42f-d47a-41b1-a40d-7208ba76ce98",
   "metadata": {
    "tags": []
   },
   "outputs": [],
   "source": [
    "critique = (\n",
    "    client.chat.completions.create(messages=reflection_chat_history, model=MODEL)\n",
    "    .choices[0]\n",
    "    .message.content\n",
    ")"
   ]
  },
  {
   "cell_type": "code",
   "execution_count": 11,
   "id": "0fef3203-c7f1-407f-8b9b-4e8ae140a4cb",
   "metadata": {
    "tags": []
   },
   "outputs": [
    {
     "data": {
      "text/markdown": [
       "Your implementation of making API requests using the `requests` library is solid and well-structured. Here are some critiques and recommendations for improvement:\n",
       "\n",
       "### Critiques:\n",
       "\n",
       "1. **Error Handling**: While you handle HTTP errors and request exceptions, it may be better to provide more feedback beyond just printing errors to the console. This can help users debug issues more effectively.\n",
       "\n",
       "2. **Returning Non-JSON Responses**: If the API returns a non-JSON response, your current implementation returns `response.text` but does not clarify the context of that response. It would be beneficial to indicate whether the response was expected (like a success message) or might have been an error message.\n",
       "\n",
       "3. **Documentation and Type Annotations**: While documentation strings are provided, adding type annotations to the function parameters and return type improves readability and usability, especially for those using type checkers or developing with IDEs that provide autocomplete features.\n",
       "\n",
       "4. **Limiting Scope of `except` Statements**: Instead of catching all exceptions (`requests.exceptions.RequestException`), you might want to be specific with the exceptions you're expecting. Catching broad exceptions can hide unexpected errors.\n",
       "\n",
       "5. **Global Constants**: If you have certain constants (like the API URL or the access token), consider defining them as constants at the beginning of the script instead of hard-coding them into the function or usage example.\n",
       "\n",
       "### Recommendations:\n",
       "\n",
       "1. **Enhanced Logging**: Use the `logging` module instead of `print` statements for better control over logging levels and output formatting. This way, you can easily toggle verbosity and redirect logs to files or other handlers.\n",
       "\n",
       "   ```python\n",
       "   import logging\n",
       "   logging.basicConfig(level=logging.INFO)\n",
       "   logger = logging.getLogger(__name__)\n",
       "   ```\n",
       "\n",
       "2. **Generic Request Function**: Consider extending your function to handle different types of HTTP requests (POST, PUT, DELETE) by allowing a method parameter.\n",
       "\n",
       "   ```python\n",
       "   def fetch_data_from_api(method='GET', url, params=None, headers=None, data=None):\n",
       "       ...\n",
       "       response = requests.request(method, url, params=params, headers=headers, json=data)\n",
       "       ...\n",
       "   ```\n",
       "\n",
       "3. **Improved API Response Handling**: Clearly define what to do if the response is JSON, but it has a status indicating an error (e.g., 400 or 500). You might want to return both the status code and response data for better debugging.\n",
       "\n",
       "4. **Optional Retry Logic**: For robustness, especially in network operations, consider implementing retry logic for transient issues, using `requests.adapters.HTTPAdapter`.\n",
       "\n",
       "5. **Environment Variables for Sensitive Data**: Use environment variables to store sensitive information like the API URL and access tokens. This can prevent accidental exposure of credentials.\n",
       "\n",
       "   ```python\n",
       "   import os\n",
       "   api_url = os.getenv(\"API_URL\")\n",
       "   headers = {'Authorization': f'Bearer {os.getenv(\"API_TOKEN\")}'}\n",
       "   ```\n",
       "\n",
       "### Revised Example:\n",
       "\n",
       "Here is how you could integrate some of these suggestions:\n",
       "\n",
       "```python\n",
       "import os\n",
       "import requests\n",
       "import logging\n",
       "\n",
       "logging.basicConfig(level=logging.INFO)\n",
       "logger = logging.getLogger(__name__)\n",
       "\n",
       "def fetch_data_from_api(method='GET', url=None, params=None, headers=None, data=None):\n",
       "    if url is None:\n",
       "        logger.error(\"URL is required for the API request.\")\n",
       "        return None\n",
       "\n",
       "    try:\n",
       "        response = requests.request(method, url, params=params, headers=headers, json=data)\n",
       "        response.raise_for_status()  # Raise an error for bad responses\n",
       "\n",
       "        logger.info(\"Request succeeded: %s\", response.status_code)\n",
       "        return response.json() if response.headers.get('Content-Type') == 'application/json' else response.text\n",
       "    except requests.exceptions.HTTPError as http_err:\n",
       "        logger.error(\"HTTP error occurred: %s\", http_err)\n",
       "    except requests.exceptions.RequestException as req_err:\n",
       "        logger.error(\"Request exception occurred: %s\", req_err)\n",
       "\n",
       "    return None\n",
       "\n",
       "if __name__ == \"__main__\":\n",
       "    api_url = os.getenv(\"API_URL\", \"https://api.example.com/data\")\n",
       "    query_parameters = {'key': 'value'}\n",
       "    headers = {'Authorization': f'Bearer {os.getenv(\"API_TOKEN\", \"YOUR_ACCESS_TOKEN\")}'}\n",
       "\n",
       "    result = fetch_data_from_api(url=api_url, params=query_parameters, headers=headers)\n",
       "    if result:\n",
       "        print(\"API Response:\", result)\n",
       "    else:\n",
       "        print(\"Failed to retrieve data.\")\n",
       "```\n",
       "\n",
       "These changes should enhance the code's clarity, maintainability, and robustness. Let me know if you have further questions or need additional modifications!"
      ]
     },
     "metadata": {},
     "output_type": "display_data"
    }
   ],
   "source": [
    "# Display\n",
    "\n",
    "display_markdown(critique, raw=True)"
   ]
  },
  {
   "cell_type": "markdown",
   "id": "5df433b0-d662-4378-895e-6b09dd3201bc",
   "metadata": {},
   "source": [
    "Add CRITIQUE to chat...\n"
   ]
  },
  {
   "cell_type": "code",
   "execution_count": 12,
   "id": "27a85bb3-cf6a-4576-8caf-cd41e602a1f1",
   "metadata": {
    "tags": []
   },
   "outputs": [],
   "source": [
    "generation_chat_history.append({\"role\": \"user\", \"content\": critique})"
   ]
  },
  {
   "cell_type": "markdown",
   "id": "c3c1aefa-8454-41ab-af40-2675f340a577",
   "metadata": {},
   "source": [
    "Response to CRITIQUE\n"
   ]
  },
  {
   "cell_type": "code",
   "execution_count": 13,
   "id": "91d845cf-51c3-4cfd-b6a7-1b970413f6db",
   "metadata": {
    "tags": []
   },
   "outputs": [],
   "source": [
    "essay = (\n",
    "    client.chat.completions.create(messages=generation_chat_history, model=MODEL)\n",
    "    .choices[0]\n",
    "    .message.content\n",
    ")"
   ]
  },
  {
   "cell_type": "code",
   "execution_count": 14,
   "id": "ef14eaa8-f501-4efc-997f-8564ec8dccd8",
   "metadata": {
    "tags": []
   },
   "outputs": [
    {
     "data": {
      "text/markdown": [
       "Thank you for your detailed critique and suggestions! Here’s a revised implementation that incorporates your recommendations for improving the API request handling:\n",
       "\n",
       "```python\n",
       "import os\n",
       "import requests\n",
       "import logging\n",
       "from typing import Optional, Dict, Any, Union\n",
       "\n",
       "# Set up logging\n",
       "logging.basicConfig(level=logging.INFO)\n",
       "logger = logging.getLogger(__name__)\n",
       "\n",
       "def fetch_data_from_api(\n",
       "    method: str = 'GET', \n",
       "    url: Optional[str] = None, \n",
       "    params: Optional[Dict[str, Any]] = None, \n",
       "    headers: Optional[Dict[str, str]] = None, \n",
       "    data: Optional[Any] = None\n",
       ") -> Optional[Union[Dict[str, Any], str]]:\n",
       "    \"\"\"\n",
       "    Fetch data from the specified API using the given HTTP method.\n",
       "\n",
       "    :param method: HTTP method (GET, POST, etc.)\n",
       "    :param url: The API endpoint URL.\n",
       "    :param params: Optional dictionary of query parameters.\n",
       "    :param headers: Optional dictionary of HTTP headers.\n",
       "    :param data: Optional data to send with the request.\n",
       "    :return: JSON response from the API, raw text if not JSON, or None in case of an error.\n",
       "    \"\"\"\n",
       "    if url is None:\n",
       "        logger.error(\"URL is required for the API request.\")\n",
       "        return None\n",
       "\n",
       "    try:\n",
       "        response = requests.request(method, url, params=params, headers=headers, json=data)\n",
       "        response.raise_for_status()  # Raise an error for bad responses\n",
       "\n",
       "        logger.info(\"Request succeeded: %s %s\", response.status_code, response.url)\n",
       "        # Check if the response contains JSON data\n",
       "        if response.headers.get('Content-Type') == 'application/json':\n",
       "            return response.json()\n",
       "        else:\n",
       "            logger.warning(\"Received non-JSON response.\")\n",
       "            return response.text\n",
       "    except requests.exceptions.HTTPError as http_err:\n",
       "        logger.error(\"HTTP error occurred: %s\", http_err)\n",
       "    except requests.exceptions.RequestException as req_err:\n",
       "        logger.error(\"Request exception occurred: %s\", req_err)\n",
       "\n",
       "    return None\n",
       "\n",
       "if __name__ == \"__main__\":\n",
       "    # Retrieve API URL and token from environment variables\n",
       "    api_url = os.getenv(\"API_URL\", \"https://api.example.com/data\")\n",
       "    query_parameters = {'key': 'value'}\n",
       "    headers = {'Authorization': f'Bearer {os.getenv(\"API_TOKEN\", \"YOUR_ACCESS_TOKEN\")}'}\n",
       "\n",
       "    # Make the API request\n",
       "    result = fetch_data_from_api(url=api_url, params=query_parameters, headers=headers)\n",
       "    if result:\n",
       "        print(\"API Response:\", result)\n",
       "    else:\n",
       "        print(\"Failed to retrieve data.\")\n",
       "```\n",
       "\n",
       "### Key Improvements:\n",
       "1. **Enhanced Logging**: Logging is now more structured and informative, which will aid in troubleshooting issues if they arise.\n",
       "2. **Dynamic HTTP Method**: The function supports multiple HTTP methods, making it reusable for various types of API interactions.\n",
       "3. **Type Annotations**: Added type hints for clearer parameter expectations and return types, enhancing code readability and compatibility with IDEs.\n",
       "4. **Environment Variables**: The API URL and token are retrieved from environment variables for security, preventing accidental exposure of sensitive information.\n",
       "5. **Response Handling**: After making the request, the function provides feedback on whether the response was JSON or not, improving transparency.\n",
       "\n",
       "This version should meet your expectations for a robust, clear, and maintainable API interaction implementation in Python. Let me know if you have any further questions or suggestions for improvement!"
      ]
     },
     "metadata": {},
     "output_type": "display_data"
    }
   ],
   "source": [
    "# Diaply user response to CRITIQUE\n",
    "display_markdown(essay, raw=True)"
   ]
  },
  {
   "cell_type": "markdown",
   "id": "75883af2-f31d-4c24-b1ff-315a0711f9fa",
   "metadata": {},
   "source": [
    "<br>\n",
    "\n",
    "## We can of course make this a Class...\n"
   ]
  }
 ],
 "metadata": {
  "kernelspec": {
   "display_name": "venv",
   "language": "python",
   "name": "python3"
  },
  "language_info": {
   "codemirror_mode": {
    "name": "ipython",
    "version": 3
   },
   "file_extension": ".py",
   "mimetype": "text/x-python",
   "name": "python",
   "nbconvert_exporter": "python",
   "pygments_lexer": "ipython3",
   "version": "3.12.1"
  }
 },
 "nbformat": 4,
 "nbformat_minor": 5
}
