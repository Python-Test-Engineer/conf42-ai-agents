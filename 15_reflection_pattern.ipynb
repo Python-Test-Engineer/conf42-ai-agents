{
 "cells": [
  {
   "cell_type": "markdown",
   "id": "73f4d7b7-40bf-43b9-a626-2a11d5529ac8",
   "metadata": {},
   "source": [
    "### Groq Client and relevant imports"
   ]
  },
  {
   "cell_type": "code",
   "execution_count": 1,
   "id": "96731d2f-a079-4e41-9756-220f02d4ebd8",
   "metadata": {},
   "outputs": [],
   "source": [
    "import os\n",
    "from pprint import pprint\n",
    "from groq import Groq\n",
    "from dotenv import load_dotenv\n",
    "from IPython.display import display_markdown\n",
    "\n",
    "# Remember to load the environment variables. You should have the Groq API Key in there :)\n",
    "load_dotenv()\n",
    "\n",
    "client = Groq()"
   ]
  },
  {
   "cell_type": "markdown",
   "id": "e644a635-e035-44e2-8c25-cee0f2b56556",
   "metadata": {},
   "source": [
    "We will start the **\"generation\"** chat history with the system prompt, as we said before. In this case, let the LLM act like a Python \n",
    "programmer eager to receive feedback / critique by the user."
   ]
  },
  {
   "cell_type": "code",
   "execution_count": 2,
   "id": "12467256-c741-495a-9923-439c1fcf270d",
   "metadata": {},
   "outputs": [],
   "source": [
    "generation_chat_history = [\n",
    "    {\n",
    "        \"role\": \"system\",\n",
    "        \"content\": \"You are a Python programmer tasked with generating high quality Python code.\"\n",
    "        \"Your task is to Generate the best content possible for the user's request. If the user provides critique,\"\n",
    "        \"respond with a revised version of your previous attempt.\",\n",
    "    }\n",
    "]"
   ]
  },
  {
   "cell_type": "markdown",
   "id": "43149b4f-54db-455f-9d39-6ad2f5c52b94",
   "metadata": {},
   "source": [
    "Now, as the user, we are going to ask the LLM to generate an implementation of the **Merge Sort** algorithm. Just add a new message with the **user** role to the chat history."
   ]
  },
  {
   "cell_type": "code",
   "execution_count": 3,
   "id": "0742e7bd-4857-4ed1-a96b-37098d448bdd",
   "metadata": {},
   "outputs": [],
   "source": [
    "generation_chat_history.append(\n",
    "    {\n",
    "        \"role\": \"user\",\n",
    "        \"content\": \"Generate a Python implementation of requesting an API with the Requests library\",\n",
    "    }\n",
    ")"
   ]
  },
  {
   "cell_type": "markdown",
   "id": "4df1bffe-375f-4a9a-8433-e217eb94aea2",
   "metadata": {},
   "source": [
    "Let's generate the first version of the essay."
   ]
  },
  {
   "cell_type": "code",
   "execution_count": 4,
   "id": "ff984277-733c-4495-b7fd-0669393380b8",
   "metadata": {},
   "outputs": [],
   "source": [
    "user_code = (\n",
    "    client.chat.completions.create(\n",
    "        messages=generation_chat_history, model=\"llama3-70b-8192\"\n",
    "    )\n",
    "    .choices[0]\n",
    "    .message.content\n",
    ")\n",
    "\n",
    "\n",
    "\n",
    "generation_chat_history.append({\"role\": \"assistant\", \"content\": user_code})"
   ]
  },
  {
   "cell_type": "code",
   "execution_count": 5,
   "id": "c03f208b-2234-4fd1-a02b-f4fff06c01a6",
   "metadata": {},
   "outputs": [
    {
     "data": {
      "text/markdown": [
       "Here is a basic Python implementation of requesting an API using the Requests library:\n",
       "```\n",
       "import requests\n",
       "\n",
       "def request_api(url, method=\"GET\", params=None, data=None, headers=None, auth=None):\n",
       "    \"\"\"\n",
       "    Send a request to the API and return the response.\n",
       "\n",
       "    Args:\n",
       "        url (str): The URL of the API endpoint.\n",
       "        method (str, optional): The HTTP method to use. Defaults to \"GET\".\n",
       "        params (dict, optional): A dictionary of URL parameters to send with the request.\n",
       "        data (dict, optional): A dictionary of data to send in the request body.\n",
       "        headers (dict, optional): A dictionary of headers to send with the request.\n",
       "        auth (tuple, optional): A tuple of username and password for basic authentication.\n",
       "\n",
       "    Returns:\n",
       "        response (requests.Response): The response from the API.\n",
       "    \"\"\"\n",
       "    try:\n",
       "        response = requests.request(\n",
       "            method=method,\n",
       "            url=url,\n",
       "            params=params,\n",
       "            data=data,\n",
       "            headers=headers,\n",
       "            auth=auth\n",
       "        )\n",
       "        response.raise_for_status()  # Raise an exception for bad status codes\n",
       "        return response\n",
       "    except requests.RequestException as e:\n",
       "        print(f\"Error requesting API: {e}\")\n",
       "        return None\n",
       "\n",
       "# Example usage:\n",
       "url = \"https://api.example.com/endpoint\"\n",
       "response = request_api(url)\n",
       "if response:\n",
       "    print(response.json())  # Print the JSON response\n",
       "```\n",
       "This implementation provides a flexible way to send requests to an API with various options for customizing the request. The `request_api` function takes in the following parameters:\n",
       "\n",
       "* `url`: The URL of the API endpoint.\n",
       "* `method`: The HTTP method to use (e.g. \"GET\", \"POST\", \"PUT\", etc.). Defaults to \"GET\".\n",
       "* `params`: A dictionary of URL parameters to send with the request.\n",
       "* `data`: A dictionary of data to send in the request body.\n",
       "* `headers`: A dictionary of headers to send with the request.\n",
       "* `auth`: A tuple of username and password for basic authentication.\n",
       "\n",
       "The function uses the `requests` library to send the request and returns the response. It also includes error handling to catch any exceptions that may occur during the request.\n",
       "\n",
       "Please let me know if this meets your requirements or if you have any critiques!"
      ]
     },
     "metadata": {},
     "output_type": "display_data"
    }
   ],
   "source": [
    "display_markdown(user_code, raw=True)"
   ]
  },
  {
   "cell_type": "markdown",
   "id": "6a04ebe5-0573-4520-a529-aff22d486b7d",
   "metadata": {},
   "source": [
    "## Reflection Step"
   ]
  },
  {
   "cell_type": "code",
   "execution_count": 6,
   "id": "9d93c928-d585-48af-a74c-a5b8d84593c6",
   "metadata": {
    "tags": []
   },
   "outputs": [],
   "source": [
    "reflection_chat_history = [\n",
    "    {\n",
    "        \"role\": \"system\",\n",
    "        \"content\": \"You are an experienced and talented Pythonista. You are tasked with generating critique and recommendations for the user's code\",\n",
    "    }\n",
    "]"
   ]
  },
  {
   "cell_type": "code",
   "execution_count": 7,
   "id": "26af1a73-4d91-40e8-a9bc-c34d32b2ab82",
   "metadata": {
    "tags": []
   },
   "outputs": [],
   "source": [
    "reflection_chat_history.append({\"role\": \"user\", \"content\": user_code})"
   ]
  },
  {
   "cell_type": "markdown",
   "id": "bfa994c8-3612-47b0-9571-e21d0d73d896",
   "metadata": {},
   "source": [
    "CRITIQUE TIME"
   ]
  },
  {
   "cell_type": "code",
   "execution_count": 8,
   "id": "40fee42f-d47a-41b1-a40d-7208ba76ce98",
   "metadata": {
    "tags": []
   },
   "outputs": [],
   "source": [
    "critique = (\n",
    "    client.chat.completions.create(\n",
    "        messages=reflection_chat_history, model=\"llama3-70b-8192\"\n",
    "    )\n",
    "    .choices[0]\n",
    "    .message.content\n",
    ")"
   ]
  },
  {
   "cell_type": "code",
   "execution_count": 9,
   "id": "0fef3203-c7f1-407f-8b9b-4e8ae140a4cb",
   "metadata": {
    "tags": []
   },
   "outputs": [
    {
     "data": {
      "text/markdown": [
       "Overall, the implementation looks good and provides a flexible way to send requests to an API. Here are some critiques and suggestions for improvement:\n",
       "\n",
       "1. **Error Handling**: Instead of just printing the error message and returning `None`, consider raising a custom exception or re-raising the caught exception. This allows the caller to handle the error more gracefully. You can create a custom exception class, e.g., `ApiRequestException`, and raise it with a meaningful error message.\n",
       "\n",
       "2. **Response Handling**: Instead of returning the raw `response` object, consider returning the parsed JSON response (using `response.json()`) or the response text (using `response.text`). This makes it easier for the caller to work with the response data.\n",
       "\n",
       "3. **Default Values**: Instead of using `None` as the default value for `params`, `data`, `headers`, and `auth`, consider using empty dictionaries and lists as default values. This makes it clear that these parameters can be optional and avoids the need for `None` checks.\n",
       "\n",
       "4. **Type Hints**: Add type hints for the function parameters and return types to make the code more readable and self-documenting.\n",
       "\n",
       "5. **Docstring**: The docstring is well-written, but consider adding an example usage section to demonstrate how to use the function.\n",
       "\n",
       "Here's the refactored code incorporating these suggestions:\n",
       "```\n",
       "import requests\n",
       "from requests.exceptions import RequestException\n",
       "\n",
       "class ApiRequestException(Exception):\n",
       "    pass\n",
       "\n",
       "def request_api(url: str, method: str = \"GET\", params: dict = {}, data: dict = {}, headers: dict = {}, auth: tuple = None) -> dict:\n",
       "    \"\"\"\n",
       "    Send a request to the API and return the response.\n",
       "\n",
       "    Args:\n",
       "        url (str): The URL of the API endpoint.\n",
       "        method (str, optional): The HTTP method to use. Defaults to \"GET\".\n",
       "        params (dict, optional): A dictionary of URL parameters to send with the request.\n",
       "        data (dict, optional): A dictionary of data to send in the request body.\n",
       "        headers (dict, optional): A dictionary of headers to send with the request.\n",
       "        auth (tuple, optional): A tuple of username and password for basic authentication.\n",
       "\n",
       "    Returns:\n",
       "        dict: The parsed JSON response.\n",
       "\n",
       "    Raises:\n",
       "        ApiRequestException: If the request fails or the response status code is not OK.\n",
       "    \"\"\"\n",
       "    try:\n",
       "        response = requests.request(\n",
       "            method=method,\n",
       "            url=url,\n",
       "            params=params,\n",
       "            data=data,\n",
       "            headers=headers,\n",
       "            auth=auth\n",
       "        )\n",
       "        response.raise_for_status()  # Raise an exception for bad status codes\n",
       "        return response.json()\n",
       "    except RequestException as e:\n",
       "        raise ApiRequestException(f\"Error requesting API: {e}\")\n",
       "\n",
       "# Example usage:\n",
       "url = \"https://api.example.com/endpoint\"\n",
       "try:\n",
       "    response = request_api(url)\n",
       "    print(response)  # Print the parsed JSON response\n",
       "except ApiRequestException as e:\n",
       "    print(f\"Error: {e}\")\n",
       "```\n",
       "These changes improve the code's readability, maintainability, and error handling."
      ]
     },
     "metadata": {},
     "output_type": "display_data"
    }
   ],
   "source": [
    "# Display\n",
    "\n",
    "display_markdown(critique, raw=True)"
   ]
  },
  {
   "cell_type": "markdown",
   "id": "5df433b0-d662-4378-895e-6b09dd3201bc",
   "metadata": {},
   "source": [
    "Add CRITIQUE to chat..."
   ]
  },
  {
   "cell_type": "code",
   "execution_count": 10,
   "id": "27a85bb3-cf6a-4576-8caf-cd41e602a1f1",
   "metadata": {
    "tags": []
   },
   "outputs": [],
   "source": [
    "generation_chat_history.append({\"role\": \"user\", \"content\": critique})"
   ]
  },
  {
   "cell_type": "markdown",
   "id": "c3c1aefa-8454-41ab-af40-2675f340a577",
   "metadata": {},
   "source": [
    "Response to CRITIQUE"
   ]
  },
  {
   "cell_type": "code",
   "execution_count": 11,
   "id": "91d845cf-51c3-4cfd-b6a7-1b970413f6db",
   "metadata": {
    "tags": []
   },
   "outputs": [],
   "source": [
    "essay = (\n",
    "    client.chat.completions.create(\n",
    "\n",
    "        messages=generation_chat_history, model=\"llama3-70b-8192\"\n",
    "\n",
    "    )\n",
    "    .choices[0]\n",
    "    .message.content\n",
    ")"
   ]
  },
  {
   "cell_type": "code",
   "execution_count": 12,
   "id": "ef14eaa8-f501-4efc-997f-8564ec8dccd8",
   "metadata": {
    "tags": []
   },
   "outputs": [
    {
     "data": {
      "text/markdown": [
       "Thank you so much for the detailed feedback and refactored code! I'm glad you liked the overall implementation, and I appreciate the suggestions for improvement.\n",
       "\n",
       "You're absolutely right, and I'm happy to address each of the points you raised:\n",
       "\n",
       "1. **Error Handling**: Raising a custom exception, `ApiRequestException`, is a great idea. It allows the caller to catch and handle the error more gracefully. I've updated the code to raise this exception instead of just printing the error message.\n",
       "\n",
       "2. **Response Handling**: Returning the parsed JSON response or response text is a good idea. In this case, I've chosen to return the parsed JSON response using `response.json()`. This makes it easier for the caller to work with the response data.\n",
       "\n",
       "3. **Default Values**: Using empty dictionaries and lists as default values is a better approach than using `None`. This makes it clear that these parameters can be optional and avoids the need for `None` checks.\n",
       "\n",
       "4. **Type Hints**: Adding type hints for the function parameters and return types makes the code more readable and self-documenting. I've updated the code to include these type hints.\n",
       "\n",
       "5. **Docstring**: The example usage section is a great addition to the docstring. It demonstrates how to use the function and makes it easier for others to understand the code.\n",
       "\n",
       "I've incorporated all these changes into the refactored code you provided. The updated code is more robust, readable, and maintainable. Thank you again for your thoughtful feedback!\n",
       "\n",
       "Here's the updated code:\n",
       "```\n",
       "import requests\n",
       "from requests.exceptions import RequestException\n",
       "\n",
       "class ApiRequestException(Exception):\n",
       "    pass\n",
       "\n",
       "def request_api(url: str, method: str = \"GET\", params: dict = {}, data: dict = {}, headers: dict = {}, auth: tuple = None) -> dict:\n",
       "    \"\"\"\n",
       "    Send a request to the API and return the response.\n",
       "\n",
       "    Args:\n",
       "        url (str): The URL of the API endpoint.\n",
       "        method (str, optional): The HTTP method to use. Defaults to \"GET\".\n",
       "        params (dict, optional): A dictionary of URL parameters to send with the request.\n",
       "        data (dict, optional): A dictionary of data to send in the request body.\n",
       "        headers (dict, optional): A dictionary of headers to send with the request.\n",
       "        auth (tuple, optional): A tuple of username and password for basic authentication.\n",
       "\n",
       "    Returns:\n",
       "        dict: The parsed JSON response.\n",
       "\n",
       "    Raises:\n",
       "        ApiRequestException: If the request fails or the response status code is not OK.\n",
       "    \"\"\"\n",
       "    try:\n",
       "        response = requests.request(\n",
       "            method=method,\n",
       "            url=url,\n",
       "            params=params,\n",
       "            data=data,\n",
       "            headers=headers,\n",
       "            auth=auth\n",
       "        )\n",
       "        response.raise_for_status()  # Raise an exception for bad status codes\n",
       "        return response.json()\n",
       "    except RequestException as e:\n",
       "        raise ApiRequestException(f\"Error requesting API: {e}\")\n",
       "\n",
       "# Example usage:\n",
       "url = \"https://api.example.com/endpoint\"\n",
       "try:\n",
       "    response = request_api(url)\n",
       "    print(response)  # Print the parsed JSON response\n",
       "except ApiRequestException as e:\n",
       "    print(f\"Error: {e}\")\n",
       "```\n",
       "Thank you again for your feedback, and I'm glad we could collaborate to improve the code!"
      ]
     },
     "metadata": {},
     "output_type": "display_data"
    }
   ],
   "source": [
    "# Diaply user response to CRITIQUE\n",
    "display_markdown(essay, raw=True)"
   ]
  },
  {
   "cell_type": "markdown",
   "id": "75883af2-f31d-4c24-b1ff-315a0711f9fa",
   "metadata": {},
   "source": [
    "<br>\n",
    "\n",
    "## We can of course make this a Class..."
   ]
  }
 ],
 "metadata": {
  "kernelspec": {
   "display_name": "venv",
   "language": "python",
   "name": "python3"
  },
  "language_info": {
   "codemirror_mode": {
    "name": "ipython",
    "version": 3
   },
   "file_extension": ".py",
   "mimetype": "text/x-python",
   "name": "python",
   "nbconvert_exporter": "python",
   "pygments_lexer": "ipython3",
   "version": "3.12.8"
  }
 },
 "nbformat": 4,
 "nbformat_minor": 5
}
