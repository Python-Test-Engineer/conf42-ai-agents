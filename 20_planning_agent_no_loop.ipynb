{
 "cells": [
  {
   "cell_type": "markdown",
   "metadata": {},
   "source": [
    "This example shows planning using ReAct - Reason and Act.\n",
    "\n",
    "Essentially, we pass the output of each step to the next request to the LLM, like we did in reflection but adding in tool calling.\n",
    "\n",
    "PLANNING is equivalent to REFLECTION and TOOL CALLING\n",
    "\n",
    "We continue to do this until we get to the end as specified in the prompt, which we will see later in the code.\n",
    "\n",
    "By giving examples, we are using Multi-Shot Prompting. If we gave just one example then this is called Single Shot Prompting, and no examples is Zero Shot Prompting.\n",
    "\n",
    "We will go through it iteratively in this notebook but the next file `20_planning_agent_w_loop.py` has this as a Class containing a loop.\n"
   ]
  },
  {
   "cell_type": "markdown",
   "metadata": {},
   "source": [
    "NB This example may need to be run through a number of times to get it to sink in so just focus on the high level view.\n"
   ]
  },
  {
   "cell_type": "code",
   "execution_count": 1,
   "metadata": {},
   "outputs": [],
   "source": [
    "import os\n",
    "from openai import OpenAI\n",
    "from dotenv import load_dotenv"
   ]
  },
  {
   "cell_type": "code",
   "execution_count": 2,
   "metadata": {},
   "outputs": [
    {
     "name": "stdout",
     "output_type": "stream",
     "text": [
      "OpenAI API Key exists and begins:sk-proj-Dg\n"
     ]
    }
   ],
   "source": [
    "# Load environment variables in a file called .env\n",
    "# Print the key prefixes to help with any debugging\n",
    "\n",
    "load_dotenv()\n",
    "openai_api_key = os.getenv(\"OPENAI_API_KEY\")\n",
    "\n",
    "if openai_api_key:\n",
    "    print(f\"OpenAI API Key exists and begins:{openai_api_key[:10]}\")\n",
    "else:\n",
    "    print(\"OpenAI API Key not set\")"
   ]
  },
  {
   "cell_type": "code",
   "execution_count": 3,
   "metadata": {},
   "outputs": [
    {
     "name": "stdout",
     "output_type": "stream",
     "text": [
      "An AI agent is a system or entity that uses artificial intelligence techniques to perceive its environment, make decisions, and take actions to achieve specific goals. AI agents can operate autonomously or semi-autonomously and can be found in various applications, ranging from simple rule-based systems to complex machine learning models.\n",
      "\n",
      "Key characteristics of AI agents include:\n",
      "\n",
      "1. **Perception**: AI agents can gather information from their environment through sensors or data inputs. This could involve processing visual data, audio signals, or other forms of input.\n",
      "\n",
      "2. **Decision-Making**: Based on the information they perceive, AI agents can analyze the data and make decisions. This can involve reasoning, planning, and learning from past experiences.\n",
      "\n",
      "3. **Action**: After making decisions, AI agents can take actions to interact with their environment. This could involve physical actions (like a robot moving) or digital actions (like a software agent executing commands).\n",
      "\n",
      "4. **Autonomy**: Many AI agents operate with a degree of autonomy, meaning they can perform tasks without human intervention. However, some may require human oversight or input.\n",
      "\n",
      "5. **Learning**: Some AI agents are designed to learn from their experiences and improve their performance over time, often using techniques from machine learning.\n",
      "\n",
      "AI agents can be categorized into different types, such as:\n",
      "\n",
      "- **Reactive Agents**: These agents respond to specific stimuli in their environment without maintaining a memory of past interactions.\n",
      "- **Deliberative Agents**: These agents have a model of the world and can plan and reason about their actions.\n",
      "- **Learning Agents**: These agents can adapt their behavior based on past experiences and improve their performance over time.\n",
      "\n",
      "Examples of AI agents include virtual assistants (like Siri or Alexa), autonomous vehicles, chatbots, recommendation systems, and game-playing AI.\n"
     ]
    }
   ],
   "source": [
    "client = OpenAI()\n",
    "MODEL = \"gpt-4o-mini\"\n",
    "\n",
    "# A quick test all is working\n",
    "chat_completion = client.chat.completions.create(\n",
    "    messages=[{\"role\": \"user\", \"content\": \"What is an AI Agent?\"}],\n",
    "    model=MODEL,\n",
    "    temperature=0,\n",
    ")\n",
    "\n",
    "print(chat_completion.choices[0].message.content)"
   ]
  },
  {
   "cell_type": "code",
   "execution_count": 4,
   "metadata": {},
   "outputs": [],
   "source": [
    "# We can make a class to show the ReAct (Reason - Act) pattern\n",
    "class PlanningAgent:\n",
    "\n",
    "    def __init__(self, client, model=MODEL, system: str = \"\") -> None:\n",
    "        self.client = client\n",
    "\n",
    "        self.system = system\n",
    "\n",
    "        self.messages: list = []\n",
    "\n",
    "        if self.system:\n",
    "\n",
    "            self.messages.append({\"role\": \"system\", \"content\": system})\n",
    "\n",
    "    def __call__(self, message=\"\"):\n",
    "        if message:\n",
    "\n",
    "            self.messages.append({\"role\": \"user\", \"content\": message})\n",
    "\n",
    "            result = self.execute()\n",
    "\n",
    "            self.messages.append({\"role\": \"assistant\", \"content\": result})\n",
    "\n",
    "            return result\n",
    "        else:\n",
    "\n",
    "            print(\"NO MESSAGE\")\n",
    "\n",
    "    def execute(self):\n",
    "\n",
    "        completion = client.chat.completions.create(model=MODEL, messages=self.messages)\n",
    "\n",
    "        return completion.choices[0].message.content"
   ]
  },
  {
   "cell_type": "code",
   "execution_count": 5,
   "metadata": {},
   "outputs": [],
   "source": [
    "system_prompt = \"\"\"\n",
    "You run in a loop of THOUGHT, ACTION, PAUSE, OBSERVATION.\n",
    "\n",
    "When you have a THOUGHT you return the THOUGHT and ACTION\n",
    "\n",
    "At the end of the loop you output an ANSWER\n",
    "\n",
    "Use THOUGHT to describe your THOUGHTs about the question you have been asked.\n",
    "\n",
    "Use ACTION to run one of the ACTIONs available to you - then return PAUSE.\n",
    "\n",
    "OBSERVATION will be the result of running those ACTIONs.\n",
    "\n",
    "Your available ACTIONs are:\n",
    "\n",
    "## calculate_total\n",
    "\n",
    "if amount = 200\n",
    "\n",
    "then calculate_total(amount)\n",
    "\n",
    "This returns amount * 1.2\n",
    "\n",
    "Runs the calculate_total function and returns a JSON FORMAT output as follows:\n",
    "\n",
    "{\"result\": 240, \"fn\": \"calculate_total\", \"next\": \"PAUSE\"}\n",
    "\n",
    "## get_product_price\n",
    "\n",
    "This uses the get_product_price function and passes in the value of the product\n",
    "\n",
    "e.g. get_product_price('bike')\n",
    "\n",
    "This uses the get_product_price with a product = 'bike', finds the price of the bike and then returns a JSON FORMAT output as follows:\n",
    "\n",
    "{\"result\": 200, \"fn\": \"get_product_price\", \"next\": \"PAUSE\"}\n",
    "\n",
    "Example session:\n",
    "\n",
    "Question: What is the cost of a bike??\n",
    "\n",
    "THOUGHT: I need to find the cost of a bike|ACTION|get_product_price|bike\n",
    "\n",
    "You will be called again with this:\n",
    "\n",
    "OBSERVATION|200\n",
    "\n",
    "THOUGHT: I need to calculate the total including the VAT|ACTION|calculate_total|200\n",
    "\n",
    "You will be called again with this: \n",
    "\n",
    "OBSERVATION|240\n",
    "\n",
    "If you have the answer, output it as the ANSWER.\n",
    "\n",
    "ANSWER|The price of the bike including VAT is 240\n",
    "\n",
    "Now it's your turn:\n",
    "\n",
    "\"\"\".strip()\n",
    "\n",
    "\n",
    "def calculate_total(amount) -> float:\n",
    "\n",
    "    return int(amount * 1.2)\n",
    "\n",
    "\n",
    "def get_product_price(product):\n",
    "\n",
    "    if product == \"bike\":\n",
    "\n",
    "        return 100\n",
    "\n",
    "    if product == \"tv\":\n",
    "\n",
    "        return 200\n",
    "\n",
    "    if product == \"laptop\":\n",
    "\n",
    "        return 300\n",
    "\n",
    "    return None"
   ]
  },
  {
   "cell_type": "code",
   "execution_count": 6,
   "metadata": {},
   "outputs": [],
   "source": [
    "agent = PlanningAgent(client=client, system=system_prompt)"
   ]
  },
  {
   "cell_type": "code",
   "execution_count": 7,
   "metadata": {},
   "outputs": [
    {
     "name": "stdout",
     "output_type": "stream",
     "text": [
      "THOUGHT: I need to find the cost of a laptop|ACTION|get_product_price|laptop\n"
     ]
    }
   ],
   "source": [
    "result = agent(\"What is cost of a laptop including the VAT?\")\n",
    "# result = agent(\"What is cost of a bike including the VAT?\")\n",
    "# result = agent(\"What is cost of a tv including the VAT?\")\n",
    "\n",
    "print(result)"
   ]
  },
  {
   "cell_type": "markdown",
   "metadata": {},
   "source": [
    "We pass the result to the next call, having extracted the function name and arguments from the output.\n"
   ]
  },
  {
   "cell_type": "code",
   "execution_count": 8,
   "metadata": {},
   "outputs": [
    {
     "name": "stdout",
     "output_type": "stream",
     "text": [
      "FUNCTION - get_product_price |  ARGUMENT - laptop\n"
     ]
    }
   ],
   "source": [
    "next = result.split(\"|\")\n",
    "# print(next)\n",
    "next_function = next[2]\n",
    "next_arg = next[3]\n",
    "print(f\"FUNCTION - {next_function} |  ARGUMENT - {next_arg}\")"
   ]
  },
  {
   "cell_type": "code",
   "execution_count": 9,
   "metadata": {},
   "outputs": [
    {
     "name": "stdout",
     "output_type": "stream",
     "text": [
      "300\n"
     ]
    }
   ],
   "source": [
    "if next_function == \"get_product_price\":\n",
    "    result = get_product_price(next_arg)\n",
    "    print(result)"
   ]
  },
  {
   "cell_type": "code",
   "execution_count": 10,
   "metadata": {},
   "outputs": [
    {
     "data": {
      "text/plain": [
       "'Observation|300'"
      ]
     },
     "execution_count": 10,
     "metadata": {},
     "output_type": "execute_result"
    }
   ],
   "source": [
    "next_prompt = f\"Observation|{result}\"\n",
    "next_prompt"
   ]
  },
  {
   "cell_type": "code",
   "execution_count": 11,
   "metadata": {},
   "outputs": [
    {
     "name": "stdout",
     "output_type": "stream",
     "text": [
      "THOUGHT: I need to calculate the total including the VAT for the laptop price of 300|ACTION|calculate_total|300\n"
     ]
    }
   ],
   "source": [
    "result = agent(next_prompt)\n",
    "print(result)"
   ]
  },
  {
   "cell_type": "code",
   "execution_count": 12,
   "metadata": {},
   "outputs": [
    {
     "name": "stdout",
     "output_type": "stream",
     "text": [
      "['THOUGHT: I need to calculate the total including the VAT for the laptop price of 300', 'ACTION', 'calculate_total', '300']\n",
      "FUNCTION - calculate_total |  ARGUMENT - 300\n"
     ]
    }
   ],
   "source": [
    "next = result.split(\"|\")\n",
    "print(next)\n",
    "next_function = next[2]\n",
    "next_arg = int(next[3])\n",
    "print(f\"FUNCTION - {next_function} |  ARGUMENT - {next_arg}\")"
   ]
  },
  {
   "cell_type": "code",
   "execution_count": 13,
   "metadata": {},
   "outputs": [
    {
     "name": "stdout",
     "output_type": "stream",
     "text": [
      "360\n"
     ]
    }
   ],
   "source": [
    "if next_function == \"calculate_total\":\n",
    "    result = calculate_total(next_arg)\n",
    "    print(result)"
   ]
  },
  {
   "cell_type": "code",
   "execution_count": 14,
   "metadata": {},
   "outputs": [
    {
     "data": {
      "text/plain": [
       "'OBSERVATION|360'"
      ]
     },
     "execution_count": 14,
     "metadata": {},
     "output_type": "execute_result"
    }
   ],
   "source": [
    "next_prompt = f\"OBSERVATION|{result}\"\n",
    "next_prompt"
   ]
  },
  {
   "cell_type": "code",
   "execution_count": 15,
   "metadata": {},
   "outputs": [
    {
     "name": "stdout",
     "output_type": "stream",
     "text": [
      "ANSWER|The price of the laptop including VAT is 360\n"
     ]
    }
   ],
   "source": [
    "result = agent(next_prompt)\n",
    "print(result)"
   ]
  }
 ],
 "metadata": {
  "kernelspec": {
   "display_name": "venv",
   "language": "python",
   "name": "python3"
  },
  "language_info": {
   "codemirror_mode": {
    "name": "ipython",
    "version": 3
   },
   "file_extension": ".py",
   "mimetype": "text/x-python",
   "name": "python",
   "nbconvert_exporter": "python",
   "pygments_lexer": "ipython3",
   "version": "3.12.1"
  }
 },
 "nbformat": 4,
 "nbformat_minor": 2
}
