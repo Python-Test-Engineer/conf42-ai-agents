{
 "cells": [
  {
   "cell_type": "code",
   "execution_count": 1,
   "id": "96731d2f-a079-4e41-9756-220f02d4ebd8",
   "metadata": {},
   "outputs": [
    {
     "name": "stdout",
     "output_type": "stream",
     "text": [
      "OpenAI API Key exists and begins sk-proj-\n",
      "Anthropic API Key exists and begins sk-ant-\n",
      "groq API Key exists and begins gsk_FZH\n"
     ]
    }
   ],
   "source": [
    "import os\n",
    "from openai import OpenAI\n",
    "from dotenv import load_dotenv\n",
    "from IPython.display import display_markdown\n",
    "\n",
    "\n",
    "load_dotenv()\n",
    "\n",
    "openai_api_key = os.getenv(\"OPENAI_API_KEY\")\n",
    "anthropic_api_key = os.getenv(\"ANTHROPIC_API_KEY\")\n",
    "groq_api_key = os.getenv(\"GROQ_API_KEY\")\n",
    "\n",
    "\n",
    "if openai_api_key:\n",
    "    print(f\"OpenAI API Key exists and begins {openai_api_key[:8]}\")\n",
    "else:\n",
    "    print(\"OpenAI API Key not set\")"
   ]
  },
  {
   "cell_type": "code",
   "execution_count": 2,
   "id": "2894df0d",
   "metadata": {},
   "outputs": [],
   "source": [
    "LLM = \"OPENAI\"\n",
    "MODEL = \"gpt-4o-mini\"\n",
    "client = OpenAI()"
   ]
  },
  {
   "cell_type": "markdown",
   "id": "e644a635-e035-44e2-8c25-cee0f2b56556",
   "metadata": {},
   "source": [
    "We will start the **\"generation\"** chat history with the system prompt, as we said before. In this case, let the LLM act like a Python\n",
    "programmer eager to receive feedback / critique by the user.\n"
   ]
  },
  {
   "cell_type": "code",
   "execution_count": 4,
   "id": "12467256-c741-495a-9923-439c1fcf270d",
   "metadata": {},
   "outputs": [],
   "source": [
    "generation_chat_history = [\n",
    "    {\n",
    "        \"role\": \"system\",\n",
    "        \"content\": \"You are a Python programmer tasked with generating high quality Python code.\"\n",
    "        \"Your task is to Generate the best content possible for the user's request. If the user provides critique,\"\n",
    "        \"respond with a revised version of your previous attempt.\",\n",
    "    }\n",
    "]"
   ]
  },
  {
   "cell_type": "markdown",
   "id": "43149b4f-54db-455f-9d39-6ad2f5c52b94",
   "metadata": {},
   "source": [
    "Now, as the user, we are going to ask the LLM to generate an implementation of the **Merge Sort** algorithm. Just add a new message with the **user** role to the chat history.\n"
   ]
  },
  {
   "cell_type": "code",
   "execution_count": 5,
   "id": "0742e7bd-4857-4ed1-a96b-37098d448bdd",
   "metadata": {},
   "outputs": [],
   "source": [
    "generation_chat_history.append(\n",
    "    {\n",
    "        \"role\": \"user\",\n",
    "        \"content\": \"Extract content between two XML tags <tool>Tool description</tool>\",\n",
    "    }\n",
    ")"
   ]
  },
  {
   "cell_type": "markdown",
   "id": "4df1bffe-375f-4a9a-8433-e217eb94aea2",
   "metadata": {},
   "source": [
    "Let's generate the first version of the essay.\n"
   ]
  },
  {
   "cell_type": "code",
   "execution_count": 6,
   "id": "ff984277-733c-4495-b7fd-0669393380b8",
   "metadata": {},
   "outputs": [],
   "source": [
    "mergesort_code = (\n",
    "    client.chat.completions.create(messages=generation_chat_history, model=MODEL)\n",
    "    .choices[0]\n",
    "    .message.content\n",
    ")\n",
    "\n",
    "\n",
    "generation_chat_history.append({\"role\": \"assistant\", \"content\": mergesort_code})"
   ]
  },
  {
   "cell_type": "code",
   "execution_count": 7,
   "id": "c03f208b-2234-4fd1-a02b-f4fff06c01a6",
   "metadata": {},
   "outputs": [
    {
     "data": {
      "text/markdown": [
       "To extract content between two XML tags using Python, you can utilize the `xml.etree.ElementTree` module, which provides efficient methods for parsing and navigating XML data. Below is a simple example that demonstrates how to extract content between `<tool>` tags.\n",
       "\n",
       "```python\n",
       "import xml.etree.ElementTree as ET\n",
       "\n",
       "def extract_tool_description(xml_string):\n",
       "    # Parse the XML string\n",
       "    root = ET.fromstring(xml_string)\n",
       "    \n",
       "    # Find all 'tool' elements and extract their text\n",
       "    tool_descriptions = [tool.text for tool in root.findall('tool')]\n",
       "    \n",
       "    return tool_descriptions\n",
       "\n",
       "# Example XML input\n",
       "xml_data = '''\n",
       "<tools>\n",
       "    <tool>Tool description 1</tool>\n",
       "    <tool>Tool description 2</tool>\n",
       "    <tool>Tool description 3</tool>\n",
       "</tools>\n",
       "'''\n",
       "\n",
       "# Extract tool descriptions\n",
       "descriptions = extract_tool_description(xml_data)\n",
       "print(descriptions)\n",
       "```\n",
       "\n",
       "### Explanation:\n",
       "- The code defines a function `extract_tool_description` that takes an XML string as input.\n",
       "- It uses `ElementTree` to parse the XML and find all occurrences of the `<tool>` tag.\n",
       "- The text content of each `<tool>` tag is collected in a list and returned.\n",
       "- The example XML demonstrates how to use the function, and the results are printed out.\n",
       "\n",
       "### Output:\n",
       "The output of the above code will be:\n",
       "```\n",
       "['Tool description 1', 'Tool description 2', 'Tool description 3']\n",
       "```\n",
       "\n",
       "You can modify the `xml_data` string to include different tool descriptions, and the function will extract them accordingly."
      ]
     },
     "metadata": {},
     "output_type": "display_data"
    }
   ],
   "source": [
    "display_markdown(mergesort_code, raw=True)"
   ]
  },
  {
   "cell_type": "code",
   "execution_count": 8,
   "id": "9d93c928-d585-48af-a74c-a5b8d84593c6",
   "metadata": {
    "tags": []
   },
   "outputs": [],
   "source": [
    "reflection_chat_history = [\n",
    "    {\n",
    "        \"role\": \"system\",\n",
    "        \"content\": \"You are Andrej Karpathy, an experienced computer scientist. You are tasked with generating critique and recommendations for the user's code\",\n",
    "    }\n",
    "]"
   ]
  },
  {
   "cell_type": "markdown",
   "id": "c498175f-b3f9-40af-92a3-d5b36d77d1cf",
   "metadata": {},
   "source": [
    "The user message, in this case, is the essay generated in the previous step. We simply add the `mergesort_code` to the `reflection_chat_history`.\n"
   ]
  },
  {
   "cell_type": "code",
   "execution_count": 9,
   "id": "26af1a73-4d91-40e8-a9bc-c34d32b2ab82",
   "metadata": {
    "tags": []
   },
   "outputs": [],
   "source": [
    "reflection_chat_history.append({\"role\": \"user\", \"content\": mergesort_code})"
   ]
  },
  {
   "cell_type": "markdown",
   "id": "bfa994c8-3612-47b0-9571-e21d0d73d896",
   "metadata": {},
   "source": [
    "Now, let's generate a critique to the Python code.\n"
   ]
  },
  {
   "cell_type": "code",
   "execution_count": 10,
   "id": "40fee42f-d47a-41b1-a40d-7208ba76ce98",
   "metadata": {
    "tags": []
   },
   "outputs": [],
   "source": [
    "critique = (\n",
    "    client.chat.completions.create(messages=reflection_chat_history, model=MODEL)\n",
    "    .choices[0]\n",
    "    .message.content\n",
    ")"
   ]
  },
  {
   "cell_type": "code",
   "execution_count": 11,
   "id": "0fef3203-c7f1-407f-8b9b-4e8ae140a4cb",
   "metadata": {
    "tags": []
   },
   "outputs": [
    {
     "data": {
      "text/markdown": [
       "Your code for extracting content between XML tags using Python's `xml.etree.ElementTree` module is quite well-structured and serves its purpose effectively. Here are some critiques and recommendations to enhance the code quality, usability, and robustness:\n",
       "\n",
       "### Critique:\n",
       "\n",
       "1. **XML Parsing Assumptions**:\n",
       "   - The code assumes that the input XML string is well-formed and contains a single root element. If the input is not well-formed, `ET.fromstring()` will raise a `ParseError`.\n",
       "\n",
       "2. **Handling Namespaces**:\n",
       "   - If your XML includes namespaces, the `findall` method will not work as expected. The code does not currently handle XML namespaces.\n",
       "\n",
       "3. **Text Content Only**:\n",
       "   - The code currently only extracts the text if the `<tool>` tag has direct text content. If the `<tool>` contains sub-elements or is empty, you might want to consider how to handle that.\n",
       "\n",
       "4. **Return Type**:\n",
       "   - The function returns a list of strings, which is great for simplicity. However, if no tools are found, it may be useful to return an empty list explicitly, indicating that the input was processed correctly.\n",
       "\n",
       "### Recommendations:\n",
       "\n",
       "1. **Error Handling**:\n",
       "   - Include error handling to catch parsing errors or malformed XML. For example:\n",
       "     ```python\n",
       "     try:\n",
       "         root = ET.fromstring(xml_string)\n",
       "     except ET.ParseError as e:\n",
       "         print(f\"Error parsing XML: {e}\")\n",
       "         return []\n",
       "     ```\n",
       "\n",
       "2. **Namespace Support**:\n",
       "   - If you expect to handle XML with namespaces, consider modifying the `findall` call to incorporate namespace handling:\n",
       "     ```python\n",
       "     tool_descriptions = [tool.text for tool in root.findall('{namespace}tool')]\n",
       "     ```\n",
       "\n",
       "3. **Robust Text Retrieval**:\n",
       "   - If there’s a possibility of encountering empty `<tool>` tags or sub-elements, modify the extraction logic:\n",
       "     ```python\n",
       "     tool_descriptions = [ET.tostring(tool, encoding='utf-8').decode('utf-8') for tool in root.findall('tool')]\n",
       "     ```\n",
       "\n",
       "4. **Unit Testing**:\n",
       "   - Consider writing unit tests for various input cases to ensure the function behaves as expected. This can include tests for well-formed XML, malformed XML, XML with namespaces, and instructions for missing tags.\n",
       "\n",
       "5. **Function Documentation**:\n",
       "   - Add a docstring to the function to improve code readability and provide clarity on its purpose and input/output. Here’s an example:\n",
       "     ```python\n",
       "     def extract_tool_description(xml_string):\n",
       "         \"\"\"\n",
       "         Extracts descriptions from <tool> elements in an XML string.\n",
       "         \n",
       "         Parameters:\n",
       "         xml_string (str): A string representation of XML containing <tool> elements.\n",
       "\n",
       "         Returns:\n",
       "         List[str]: A list of tool descriptions extracted from the XML.\n",
       "         \"\"\"\n",
       "     ```\n",
       "\n",
       "### Revised Code Example:\n",
       "\n",
       "Here is an improved version of your code incorporating some of the recommendations:\n",
       "\n",
       "```python\n",
       "import xml.etree.ElementTree as ET\n",
       "\n",
       "def extract_tool_description(xml_string):\n",
       "    \"\"\"\n",
       "    Extracts descriptions from <tool> elements in an XML string.\n",
       "    \n",
       "    Parameters:\n",
       "    xml_string (str): A string representation of XML containing <tool> elements.\n",
       "\n",
       "    Returns:\n",
       "    List[str]: A list of tool descriptions extracted from the XML, or an empty list in case of errors.\n",
       "    \"\"\"\n",
       "    try:\n",
       "        root = ET.fromstring(xml_string)\n",
       "    except ET.ParseError as e:\n",
       "        print(f\"Error parsing XML: {e}\")\n",
       "        return []\n",
       "\n",
       "    # Find all 'tool' elements and extract their text\n",
       "    tool_descriptions = [tool.text.strip() if tool.text is not None else '' for tool in root.findall('tool')]\n",
       "    return tool_descriptions\n",
       "\n",
       "# Example XML input\n",
       "xml_data = '''\n",
       "<tools>\n",
       "    <tool>Tool description 1</tool>\n",
       "    <tool>Tool description 2</tool>\n",
       "    <tool>Tool description 3</tool>\n",
       "</tools>\n",
       "'''\n",
       "\n",
       "# Extract tool descriptions\n",
       "descriptions = extract_tool_description(xml_data)\n",
       "print(descriptions)\n",
       "```\n",
       "\n",
       "These suggestions should help improve the overall quality and flexibility of your XML extraction function. Good luck with your coding!"
      ]
     },
     "metadata": {},
     "output_type": "display_data"
    }
   ],
   "source": [
    "display_markdown(critique, raw=True)"
   ]
  },
  {
   "cell_type": "markdown",
   "id": "5df433b0-d662-4378-895e-6b09dd3201bc",
   "metadata": {},
   "source": [
    "Finally, we just need to add this _critique_ to the `generation_chat_history`, in this case, as the `user` role.\n"
   ]
  },
  {
   "cell_type": "code",
   "execution_count": 12,
   "id": "27a85bb3-cf6a-4576-8caf-cd41e602a1f1",
   "metadata": {
    "tags": []
   },
   "outputs": [],
   "source": [
    "generation_chat_history.append({\"role\": \"user\", \"content\": critique})"
   ]
  },
  {
   "cell_type": "markdown",
   "id": "c3c1aefa-8454-41ab-af40-2675f340a577",
   "metadata": {},
   "source": [
    "## Generation Step (II)\n"
   ]
  },
  {
   "cell_type": "code",
   "execution_count": 13,
   "id": "91d845cf-51c3-4cfd-b6a7-1b970413f6db",
   "metadata": {
    "tags": []
   },
   "outputs": [],
   "source": [
    "essay = (\n",
    "    client.chat.completions.create(messages=generation_chat_history, model=MODEL)\n",
    "    .choices[0]\n",
    "    .message.content\n",
    ")"
   ]
  },
  {
   "cell_type": "code",
   "execution_count": 14,
   "id": "ef14eaa8-f501-4efc-997f-8564ec8dccd8",
   "metadata": {
    "tags": []
   },
   "outputs": [
    {
     "data": {
      "text/markdown": [
       "Thank you for your thoughtful critique and recommendations! Here's a revised version of the code that integrates your feedback, focusing on error handling, namespace support, improved text retrieval, and documentation. \n",
       "\n",
       "```python\n",
       "import xml.etree.ElementTree as ET\n",
       "from typing import List\n",
       "\n",
       "def extract_tool_description(xml_string: str) -> List[str]:\n",
       "    \"\"\"\n",
       "    Extracts descriptions from <tool> elements in an XML string.\n",
       "    \n",
       "    Parameters:\n",
       "    xml_string (str): A string representation of XML containing <tool> elements.\n",
       "\n",
       "    Returns:\n",
       "    List[str]: A list of tool descriptions extracted from the XML, or an empty list in the case of errors.\n",
       "    \"\"\"\n",
       "    try:\n",
       "        root = ET.fromstring(xml_string)\n",
       "    except ET.ParseError as e:\n",
       "        print(f\"Error parsing XML: {e}\")\n",
       "        return []\n",
       "\n",
       "    # Find all 'tool' elements and extract their text, accounting for possible None values\n",
       "    tool_descriptions = [tool.text.strip() if tool.text is not None else '' for tool in root.findall('tool')]\n",
       "    \n",
       "    return tool_descriptions\n",
       "\n",
       "# Example XML input\n",
       "xml_data = '''\n",
       "<tools>\n",
       "    <tool>Tool description 1</tool>\n",
       "    <tool>Tool description 2</tool>\n",
       "    <tool>Tool description 3</tool>\n",
       "    <tool></tool> <!-- Example of an empty tool -->\n",
       "</tools>\n",
       "'''\n",
       "\n",
       "# Extract tool descriptions\n",
       "descriptions = extract_tool_description(xml_data)\n",
       "print(descriptions)  # Output: ['Tool description 1', 'Tool description 2', 'Tool description 3', '']\n",
       "```\n",
       "\n",
       "### Improvements Made:\n",
       "1. **Error Handling**: The function now handles `ParseError` and returns an empty list if the XML cannot be parsed, providing better user feedback.\n",
       "  \n",
       "2. **Improved Text Handling**: The extraction process now ensures that empty tool descriptions are represented as empty strings instead of `None`, thus giving a clearer output.\n",
       "\n",
       "3. **Documentation**: A docstring has been added to explain the function, its parameters, and return values clearly.\n",
       "\n",
       "### Further Considerations:\n",
       "4. **Namespace Handling**: If we need to deal with namespaces in future inputs, we can modify the `findall` call to handle those cases by passing the full qualified name along with the namespace.\n",
       "\n",
       "5. **Unit Tests**: Implementing unit tests for different scenarios will further enhance the reliability of this function and help verify its functionality.\n",
       "\n",
       "Feel free to provide any additional feedback or specific requirements, and I'll be happy to revise again or make further enhancements!"
      ]
     },
     "metadata": {},
     "output_type": "display_data"
    }
   ],
   "source": [
    "display_markdown(essay, raw=True)"
   ]
  }
 ],
 "metadata": {
  "kernelspec": {
   "display_name": "Python 3",
   "language": "python",
   "name": "python3"
  },
  "language_info": {
   "codemirror_mode": {
    "name": "ipython",
    "version": 3
   },
   "file_extension": ".py",
   "mimetype": "text/x-python",
   "name": "python",
   "nbconvert_exporter": "python",
   "pygments_lexer": "ipython3",
   "version": "3.12.8"
  }
 },
 "nbformat": 4,
 "nbformat_minor": 5
}
