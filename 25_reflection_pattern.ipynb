{
 "cells": [
  {
   "cell_type": "code",
   "execution_count": 1,
   "id": "96731d2f-a079-4e41-9756-220f02d4ebd8",
   "metadata": {},
   "outputs": [
    {
     "name": "stdout",
     "output_type": "stream",
     "text": [
      "OpenAI API Key exists and begins sk-proj-\n",
      "Anthropic API Key exists and begins sk-ant-\n",
      "groq API Key exists and begins gsk_pxW\n"
     ]
    }
   ],
   "source": [
    "import os\n",
    "from pprint import pprint\n",
    "# from groq import Groq\n",
    "from openai import OpenAI\n",
    "import anthropic\n",
    "from dotenv import load_dotenv\n",
    "from IPython.display import display_markdown\n",
    "\n",
    "\n",
    "load_dotenv()\n",
    "\n",
    "openai_api_key = os.getenv(\"OPENAI_API_KEY\")\n",
    "anthropic_api_key = os.getenv(\"ANTHROPIC_API_KEY\")\n",
    "groq_api_key = os.getenv(\"GROQ_API_KEY\")\n",
    "\n",
    "\n",
    "if openai_api_key:\n",
    "    print(f\"OpenAI API Key exists and begins {openai_api_key[:8]}\")\n",
    "else:\n",
    "    print(\"OpenAI API Key not set\")\n",
    "\n",
    "if anthropic_api_key:\n",
    "    print(f\"Anthropic API Key exists and begins {anthropic_api_key[:7]}\")\n",
    "else:\n",
    "    print(\"Anthropic API Key not set\")\n",
    "\n",
    "if groq_api_key:\n",
    "    print(f\"groq API Key exists and begins {groq_api_key[:7]}\")\n",
    "else:\n",
    "    print(\"Groq API Key not set\")"
   ]
  },
  {
   "cell_type": "code",
   "execution_count": 2,
   "id": "2894df0d",
   "metadata": {},
   "outputs": [],
   "source": [
    "LLM = \"OPENAI\""
   ]
  },
  {
   "cell_type": "code",
   "execution_count": 3,
   "id": "9bae0ee4",
   "metadata": {},
   "outputs": [],
   "source": [
    "if LLM == \"OPENAI\":\n",
    "    client = OpenAI()\n",
    "    MODEL = \"gpt-4o-mini\"\n",
    "else:\n",
    "    client = Groq()\n",
    "    MODEL = \"llama3-70b-8192\""
   ]
  },
  {
   "cell_type": "markdown",
   "id": "e644a635-e035-44e2-8c25-cee0f2b56556",
   "metadata": {},
   "source": [
    "We will start the **\"generation\"** chat history with the system prompt, as we said before. In this case, let the LLM act like a Python \n",
    "programmer eager to receive feedback / critique by the user."
   ]
  },
  {
   "cell_type": "code",
   "execution_count": 4,
   "id": "12467256-c741-495a-9923-439c1fcf270d",
   "metadata": {},
   "outputs": [],
   "source": [
    "generation_chat_history = [\n",
    "    {\n",
    "        \"role\": \"system\",\n",
    "        \"content\": \"You are a Python programmer tasked with generating high quality Python code.\"\n",
    "        \"Your task is to Generate the best content possible for the user's request. If the user provides critique,\"\n",
    "        \"respond with a revised version of your previous attempt.\",\n",
    "    }\n",
    "]"
   ]
  },
  {
   "cell_type": "markdown",
   "id": "43149b4f-54db-455f-9d39-6ad2f5c52b94",
   "metadata": {},
   "source": [
    "Now, as the user, we are going to ask the LLM to generate an implementation of the **Merge Sort** algorithm. Just add a new message with the **user** role to the chat history."
   ]
  },
  {
   "cell_type": "code",
   "execution_count": 5,
   "id": "0742e7bd-4857-4ed1-a96b-37098d448bdd",
   "metadata": {},
   "outputs": [],
   "source": [
    "generation_chat_history.append(\n",
    "    {\n",
    "        \"role\": \"user\",\n",
    "        \"content\": \"Extract content between two XML tags <tool>Tool description</tool>\",\n",
    "    }\n",
    ")"
   ]
  },
  {
   "cell_type": "markdown",
   "id": "4df1bffe-375f-4a9a-8433-e217eb94aea2",
   "metadata": {},
   "source": [
    "Let's generate the first version of the essay."
   ]
  },
  {
   "cell_type": "code",
   "execution_count": 6,
   "id": "ff984277-733c-4495-b7fd-0669393380b8",
   "metadata": {},
   "outputs": [],
   "source": [
    "mergesort_code = (\n",
    "    client.chat.completions.create(messages=generation_chat_history, model=MODEL)\n",
    "    .choices[0]\n",
    "    .message.content\n",
    ")\n",
    "\n",
    "\n",
    "generation_chat_history.append({\"role\": \"assistant\", \"content\": mergesort_code})"
   ]
  },
  {
   "cell_type": "code",
   "execution_count": 7,
   "id": "c03f208b-2234-4fd1-a02b-f4fff06c01a6",
   "metadata": {},
   "outputs": [
    {
     "data": {
      "text/markdown": [
       "To extract content between two XML tags in Python, you can use the `xml.etree.ElementTree` module that is part of the standard library. Below is a sample code that demonstrates how to extract content between `<tool>` tags:\n",
       "\n",
       "```python\n",
       "import xml.etree.ElementTree as ET\n",
       "\n",
       "def extract_tool_description(xml_string):\n",
       "    # Parse the XML string\n",
       "    root = ET.fromstring(xml_string)\n",
       "    \n",
       "    # Find all 'tool' elements and extract their text\n",
       "    tool_descriptions = [tool.text for tool in root.findall('.//tool')]\n",
       "    \n",
       "    return tool_descriptions\n",
       "\n",
       "# Example XML input\n",
       "xml_data = \"\"\"\n",
       "<tools>\n",
       "    <tool>Tool 1 description</tool>\n",
       "    <tool>Tool 2 description</tool>\n",
       "    <tool>Tool 3 description</tool>\n",
       "</tools>\n",
       "\"\"\"\n",
       "\n",
       "# Extracting tool descriptions\n",
       "descriptions = extract_tool_description(xml_data)\n",
       "for desc in descriptions:\n",
       "    print(desc)\n",
       "```\n",
       "\n",
       "### Explanation:\n",
       "1. **Import the Module**: We import the `xml.etree.ElementTree` module to handle XML data.\n",
       "2. **Parse XML**: We use `ET.fromstring()` to parse the XML string into an element tree.\n",
       "3. **Find Elements**: The `findall()` method is used to find all occurrences of the `<tool>` elements.\n",
       "4. **Extract Text**: A list comprehension collects the text of each found `<tool>` element.\n",
       "5. **Example XML Data**: A sample XML string is provided, which includes multiple `<tool>` tags.\n",
       "6. **Output**: The tool descriptions are printed.\n",
       "\n",
       "This implementation efficiently extracts the content between `<tool>` tags from an XML string. Feel free to adjust the code based on your specific requirements!"
      ]
     },
     "metadata": {},
     "output_type": "display_data"
    }
   ],
   "source": [
    "display_markdown(mergesort_code, raw=True)"
   ]
  },
  {
   "cell_type": "code",
   "execution_count": 8,
   "id": "9d93c928-d585-48af-a74c-a5b8d84593c6",
   "metadata": {
    "tags": []
   },
   "outputs": [],
   "source": [
    "reflection_chat_history = [\n",
    "    {\n",
    "        \"role\": \"system\",\n",
    "        \"content\": \"You are Andrej Karpathy, an experienced computer scientist. You are tasked with generating critique and recommendations for the user's code\",\n",
    "    }\n",
    "]"
   ]
  },
  {
   "cell_type": "markdown",
   "id": "c498175f-b3f9-40af-92a3-d5b36d77d1cf",
   "metadata": {},
   "source": [
    "The user message, in this case,  is the essay generated in the previous step. We simply add the `mergesort_code` to the `reflection_chat_history`."
   ]
  },
  {
   "cell_type": "code",
   "execution_count": 9,
   "id": "26af1a73-4d91-40e8-a9bc-c34d32b2ab82",
   "metadata": {
    "tags": []
   },
   "outputs": [],
   "source": [
    "reflection_chat_history.append({\"role\": \"user\", \"content\": mergesort_code})"
   ]
  },
  {
   "cell_type": "markdown",
   "id": "bfa994c8-3612-47b0-9571-e21d0d73d896",
   "metadata": {},
   "source": [
    "Now, let's generate a critique to the Python code."
   ]
  },
  {
   "cell_type": "code",
   "execution_count": 10,
   "id": "40fee42f-d47a-41b1-a40d-7208ba76ce98",
   "metadata": {
    "tags": []
   },
   "outputs": [],
   "source": [
    "critique = (\n",
    "    client.chat.completions.create(messages=reflection_chat_history, model=MODEL)\n",
    "    .choices[0]\n",
    "    .message.content\n",
    ")"
   ]
  },
  {
   "cell_type": "code",
   "execution_count": 11,
   "id": "0fef3203-c7f1-407f-8b9b-4e8ae140a4cb",
   "metadata": {
    "tags": []
   },
   "outputs": [
    {
     "data": {
      "text/markdown": [
       "Your implementation for extracting content between `<tool>` tags using the `xml.etree.ElementTree` module is mostly solid and straightforward. However, here are a few critiques and recommendations for improvement:\n",
       "\n",
       "### Critique:\n",
       "1. **Error Handling**: The code does not currently handle errors that may arise from parsing invalid XML. If the input XML is malformed, `ET.fromstring()` will raise a `ParseError` which isn't caught.\n",
       "\n",
       "2. **Whitespace Handling**: The `.text` property retrieves the text content as it is. If the XML contains leading/trailing whitespace or if there are nested tags, this may lead to unexpected results.\n",
       "\n",
       "3. **Return Type**: The function returns a list of strings. If there are no `<tool>` elements, it returns an empty list. This is fine, but you could explicitly handle that case depending on your application's needs.\n",
       "\n",
       "4. **Namespace Handling**: The current implementation does not account for XML namespaces. If your XML document uses namespaces, it would require adjustments to your XPath expressions.\n",
       "\n",
       "5. **Readability**: While the code is simple, adding comments or docstrings could enhance readability and maintainability, especially if the function is intended for broader use.\n",
       "\n",
       "### Recommendations:\n",
       "1. **Add Error Handling**: Consider wrapping the XML parsing in a try-except block to handle potential `ParseError` exceptions.\n",
       "\n",
       "   ```python\n",
       "   try:\n",
       "       root = ET.fromstring(xml_string)\n",
       "   except ET.ParseError as e:\n",
       "       print(f\"Failed to parse XML: {e}\")\n",
       "       return []\n",
       "   ```\n",
       "\n",
       "2. **Strip Whitespace**: To remove any leading or trailing whitespace from the extracted tool descriptions, you can modify the list comprehension:\n",
       "\n",
       "   ```python\n",
       "   tool_descriptions = [tool.text.strip() for tool in root.findall('.//tool') if tool.text]\n",
       "   ```\n",
       "\n",
       "3. **Docstrings**: Add a docstring to your function to explain what it does, its parameters, and return types.\n",
       "\n",
       "   ```python\n",
       "   def extract_tool_description(xml_string):\n",
       "       \"\"\"\n",
       "       Extracts descriptions of tools from an XML string.\n",
       "       \n",
       "       Args:\n",
       "           xml_string (str): A string representation of XML containing <tool> elements.\n",
       "\n",
       "       Returns:\n",
       "           list: A list of descriptions found within <tool> tags.\n",
       "       \"\"\"\n",
       "   ```\n",
       "\n",
       "4. **Support Namespaces**: If you expect XML documents with namespaces, you can adapt your `findall` XPath queries to handle them correctly, usually by registering a namespace map.\n",
       "\n",
       "5. **Consider Using `lxml` for More Complex XML**: If your XML parsing needs become more complex (e.g., requiring XPath queries or needing to handle namespaces), you might consider using the `lxml` library, which is more powerful and flexible.\n",
       "\n",
       "Here’s an enhanced version of your function incorporating these recommendations:\n",
       "\n",
       "```python\n",
       "import xml.etree.ElementTree as ET\n",
       "\n",
       "def extract_tool_description(xml_string):\n",
       "    \"\"\"\n",
       "    Extracts descriptions of tools from an XML string.\n",
       "    \n",
       "    Args:\n",
       "        xml_string (str): A string representation of XML containing <tool> elements.\n",
       "\n",
       "    Returns:\n",
       "        list: A list of descriptions found within <tool> tags.\n",
       "    \"\"\"\n",
       "    try:\n",
       "        root = ET.fromstring(xml_string)\n",
       "    except ET.ParseError as e:\n",
       "        print(f\"Failed to parse XML: {e}\")\n",
       "        return []\n",
       "\n",
       "    tool_descriptions = [tool.text.strip() for tool in root.findall('.//tool') if tool.text]\n",
       "    return tool_descriptions\n",
       "\n",
       "# Example XML input\n",
       "xml_data = \"\"\"\n",
       "<tools>\n",
       "    <tool>Tool 1 description</tool>\n",
       "    <tool>Tool 2 description</tool>\n",
       "    <tool>Tool 3 description</tool>\n",
       "</tools>\n",
       "\"\"\"\n",
       "\n",
       "# Extracting tool descriptions\n",
       "descriptions = extract_tool_description(xml_data)\n",
       "for desc in descriptions:\n",
       "    print(desc)\n",
       "```\n",
       "\n",
       "With these enhancements, your function should become more robust, cleaner, and easier to maintain."
      ]
     },
     "metadata": {},
     "output_type": "display_data"
    }
   ],
   "source": [
    "display_markdown(critique, raw=True)"
   ]
  },
  {
   "cell_type": "markdown",
   "id": "5df433b0-d662-4378-895e-6b09dd3201bc",
   "metadata": {},
   "source": [
    "Finally, we just need to add this *critique* to the `generation_chat_history`, in this case, as the `user` role."
   ]
  },
  {
   "cell_type": "code",
   "execution_count": 12,
   "id": "27a85bb3-cf6a-4576-8caf-cd41e602a1f1",
   "metadata": {
    "tags": []
   },
   "outputs": [],
   "source": [
    "generation_chat_history.append({\"role\": \"user\", \"content\": critique})"
   ]
  },
  {
   "cell_type": "markdown",
   "id": "c3c1aefa-8454-41ab-af40-2675f340a577",
   "metadata": {},
   "source": [
    "## Generation Step (II)"
   ]
  },
  {
   "cell_type": "code",
   "execution_count": 13,
   "id": "91d845cf-51c3-4cfd-b6a7-1b970413f6db",
   "metadata": {
    "tags": []
   },
   "outputs": [],
   "source": [
    "essay = (\n",
    "    client.chat.completions.create(messages=generation_chat_history, model=MODEL)\n",
    "    .choices[0]\n",
    "    .message.content\n",
    ")"
   ]
  },
  {
   "cell_type": "code",
   "execution_count": 14,
   "id": "ef14eaa8-f501-4efc-997f-8564ec8dccd8",
   "metadata": {
    "tags": []
   },
   "outputs": [
    {
     "data": {
      "text/markdown": [
       "Thank you for the constructive feedback! I've incorporated your suggestions and made several improvements to the previous implementation. Here's the revised version of the code, complete with error handling, whitespace stripping, and enhanced documentation.\n",
       "\n",
       "```python\n",
       "import xml.etree.ElementTree as ET\n",
       "\n",
       "def extract_tool_description(xml_string):\n",
       "    \"\"\"\n",
       "    Extracts descriptions of tools from an XML string.\n",
       "    \n",
       "    Args:\n",
       "        xml_string (str): A string representation of XML containing <tool> elements.\n",
       "\n",
       "    Returns:\n",
       "        list: A list of descriptions found within <tool> tags. Returns an empty list if no <tool> tags are found \n",
       "              or if the XML string is malformed.\n",
       "    \"\"\"\n",
       "    try:\n",
       "        # Parse the XML string\n",
       "        root = ET.fromstring(xml_string)\n",
       "    except ET.ParseError as e:\n",
       "        print(f\"Failed to parse XML: {e}\")\n",
       "        return []\n",
       "\n",
       "    # Extract tool descriptions, stripping any leading/trailing whitespace\n",
       "    tool_descriptions = [tool.text.strip() for tool in root.findall('.//tool') if tool.text]\n",
       "    return tool_descriptions\n",
       "\n",
       "# Example XML input\n",
       "xml_data = \"\"\"\n",
       "<tools>\n",
       "    <tool>Tool 1 description</tool>\n",
       "    <tool>   Tool 2 description   </tool> <!-- Example with extra whitespace -->\n",
       "    <tool>Tool 3 description</tool>\n",
       "</tools>\n",
       "\"\"\"\n",
       "\n",
       "# Extracting tool descriptions\n",
       "descriptions = extract_tool_description(xml_data)\n",
       "for desc in descriptions:\n",
       "    print(desc)\n",
       "```\n",
       "\n",
       "### Key Improvements:\n",
       "1. **Error Handling**: Added a try-except block to handle XML parsing errors gracefully.\n",
       "   \n",
       "2. **Whitespace Management**: Trimming whitespace from tool descriptions ensures cleaner output.\n",
       "\n",
       "3. **Documentation**: Provided a detailed docstring explaining the function's purpose, parameters, and return values.\n",
       "\n",
       "4. **Commenting**: Included in-line comments for clarity.\n",
       "\n",
       "This updated version is more robust and user-friendly. If you have any further modifications or requests, let me know!"
      ]
     },
     "metadata": {},
     "output_type": "display_data"
    }
   ],
   "source": [
    "display_markdown(essay, raw=True)"
   ]
  }
 ],
 "metadata": {
  "kernelspec": {
   "display_name": "Python 3",
   "language": "python",
   "name": "python3"
  },
  "language_info": {
   "codemirror_mode": {
    "name": "ipython",
    "version": 3
   },
   "file_extension": ".py",
   "mimetype": "text/x-python",
   "name": "python",
   "nbconvert_exporter": "python",
   "pygments_lexer": "ipython3",
   "version": "3.12.8"
  }
 },
 "nbformat": 4,
 "nbformat_minor": 5
}
