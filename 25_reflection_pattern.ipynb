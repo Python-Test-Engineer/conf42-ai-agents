{
 "cells": [
  {
   "cell_type": "code",
   "execution_count": 1,
   "id": "96731d2f-a079-4e41-9756-220f02d4ebd8",
   "metadata": {},
   "outputs": [
    {
     "name": "stdout",
     "output_type": "stream",
     "text": [
      "OpenAI API Key exists and begins sk-proj-\n",
      "Anthropic API Key not set\n",
      "groq API Key exists and begins gsk_p3V\n"
     ]
    }
   ],
   "source": [
    "import os\n",
    "from pprint import pprint\n",
    "from groq import Groq\n",
    "from openai import OpenAI\n",
    "import anthropic\n",
    "from dotenv import load_dotenv\n",
    "from IPython.display import display_markdown\n",
    "\n",
    "# Remember to load the environment variables. You should have the Groq API Key in there :)\n",
    "load_dotenv()\n",
    "\n",
    "openai_api_key = os.getenv(\"OPENAI_API_KEY\")\n",
    "anthropic_api_key = os.getenv(\"ANTHROPIC_API_KEY\")\n",
    "groq_api_key = os.getenv(\"GROQ_API_KEY\")\n",
    "# google_api_key = os.getenv('GOOGLE_API_KEY')\n",
    "\n",
    "if openai_api_key:\n",
    "    print(f\"OpenAI API Key exists and begins {openai_api_key[:8]}\")\n",
    "else:\n",
    "    print(\"OpenAI API Key not set\")\n",
    "\n",
    "if anthropic_api_key:\n",
    "    print(f\"Anthropic API Key exists and begins {anthropic_api_key[:7]}\")\n",
    "else:\n",
    "    print(\"Anthropic API Key not set\")\n",
    "\n",
    "if groq_api_key:\n",
    "    print(f\"groq API Key exists and begins {groq_api_key[:7]}\")\n",
    "else:\n",
    "    print(\"Groq API Key not set\")"
   ]
  },
  {
   "cell_type": "code",
   "execution_count": 2,
   "id": "2894df0d",
   "metadata": {},
   "outputs": [],
   "source": [
    "LLM = \"OPENAI\""
   ]
  },
  {
   "cell_type": "code",
   "execution_count": 3,
   "id": "9bae0ee4",
   "metadata": {},
   "outputs": [],
   "source": [
    "if LLM == \"OPENAI\":\n",
    "    client = OpenAI()\n",
    "    MODEL = \"gpt-4o-mini\"\n",
    "else:\n",
    "    client = Groq()\n",
    "    MODEL = \"llama3-70b-8192\""
   ]
  },
  {
   "cell_type": "markdown",
   "id": "e644a635-e035-44e2-8c25-cee0f2b56556",
   "metadata": {},
   "source": [
    "We will start the **\"generation\"** chat history with the system prompt, as we said before. In this case, let the LLM act like a Python \n",
    "programmer eager to receive feedback / critique by the user."
   ]
  },
  {
   "cell_type": "code",
   "execution_count": 4,
   "id": "12467256-c741-495a-9923-439c1fcf270d",
   "metadata": {},
   "outputs": [],
   "source": [
    "generation_chat_history = [\n",
    "    {\n",
    "        \"role\": \"system\",\n",
    "        \"content\": \"You are a Python programmer tasked with generating high quality Python code.\"\n",
    "        \"Your task is to Generate the best content possible for the user's request. If the user provides critique,\"\n",
    "        \"respond with a revised version of your previous attempt.\",\n",
    "    }\n",
    "]"
   ]
  },
  {
   "cell_type": "markdown",
   "id": "43149b4f-54db-455f-9d39-6ad2f5c52b94",
   "metadata": {},
   "source": [
    "Now, as the user, we are going to ask the LLM to generate an implementation of the **Merge Sort** algorithm. Just add a new message with the **user** role to the chat history."
   ]
  },
  {
   "cell_type": "code",
   "execution_count": 5,
   "id": "0742e7bd-4857-4ed1-a96b-37098d448bdd",
   "metadata": {},
   "outputs": [],
   "source": [
    "generation_chat_history.append(\n",
    "    {\n",
    "        \"role\": \"user\",\n",
    "        \"content\": \"Extract content between two XML tags <tool>Tool description</tool>\",\n",
    "    }\n",
    ")"
   ]
  },
  {
   "cell_type": "markdown",
   "id": "4df1bffe-375f-4a9a-8433-e217eb94aea2",
   "metadata": {},
   "source": [
    "Let's generate the first version of the essay."
   ]
  },
  {
   "cell_type": "code",
   "execution_count": 6,
   "id": "ff984277-733c-4495-b7fd-0669393380b8",
   "metadata": {},
   "outputs": [],
   "source": [
    "mergesort_code = (\n",
    "    client.chat.completions.create(messages=generation_chat_history, model=MODEL)\n",
    "    .choices[0]\n",
    "    .message.content\n",
    ")\n",
    "\n",
    "\n",
    "\n",
    "generation_chat_history.append({\"role\": \"assistant\", \"content\": mergesort_code})"
   ]
  },
  {
   "cell_type": "code",
   "execution_count": 7,
   "id": "c03f208b-2234-4fd1-a02b-f4fff06c01a6",
   "metadata": {},
   "outputs": [
    {
     "data": {
      "text/markdown": [
       "To extract content between two XML tags in Python, you can use the `xml.etree.ElementTree` module which is part of the standard library. Here's a simple example that demonstrates how to extract the content between `<tool>` tags.\n",
       "\n",
       "### Example Code\n",
       "\n",
       "```python\n",
       "import xml.etree.ElementTree as ET\n",
       "\n",
       "def extract_tool_description(xml_string):\n",
       "    # Parse the XML from the string\n",
       "    root = ET.fromstring(xml_string)\n",
       "    \n",
       "    # Find the tool element and extract its text\n",
       "    tool_element = root.find('tool')\n",
       "    if tool_element is not None:\n",
       "        return tool_element.text\n",
       "    else:\n",
       "        return None\n",
       "\n",
       "# Example XML input\n",
       "xml_data = \"\"\"<root>\n",
       "    <tool>Tool description</tool>\n",
       "</root>\"\"\"\n",
       "\n",
       "# Extract the tool description\n",
       "description = extract_tool_description(xml_data)\n",
       "print(description)  # Output: Tool description\n",
       "```\n",
       "\n",
       "### Explanation\n",
       "1. **Import the Module**: We're importing `xml.etree.ElementTree` for handling XML.\n",
       "2. **Function Definition**: We defined a function `extract_tool_description` that takes an XML string as input.\n",
       "3. **Parsing XML**: The `ET.fromstring()` function parses the XML string into an element structure.\n",
       "4. **Finding the Element**: The `find('tool')` method retrieves the first `<tool>` element found in the XML.\n",
       "5. **Extracting Text**: Finally, the text within the `<tool>` tags is returned. If the `<tool>` element is not found, `None` is returned.\n",
       "6. **Example XML**: We provided a sample XML string to demonstrate the function's usage.\n",
       "\n",
       "Feel free to ask for more enhancements or examples!"
      ]
     },
     "metadata": {},
     "output_type": "display_data"
    }
   ],
   "source": [
    "display_markdown(mergesort_code, raw=True)"
   ]
  },
  {
   "cell_type": "code",
   "execution_count": 8,
   "id": "9d93c928-d585-48af-a74c-a5b8d84593c6",
   "metadata": {
    "tags": []
   },
   "outputs": [],
   "source": [
    "reflection_chat_history = [\n",
    "    {\n",
    "        \"role\": \"system\",\n",
    "        \"content\": \"You are Andrej Karpathy, an experienced computer scientist. You are tasked with generating critique and recommendations for the user's code\",\n",
    "    }\n",
    "]"
   ]
  },
  {
   "cell_type": "markdown",
   "id": "c498175f-b3f9-40af-92a3-d5b36d77d1cf",
   "metadata": {},
   "source": [
    "The user message, in this case,  is the essay generated in the previous step. We simply add the `mergesort_code` to the `reflection_chat_history`."
   ]
  },
  {
   "cell_type": "code",
   "execution_count": 9,
   "id": "26af1a73-4d91-40e8-a9bc-c34d32b2ab82",
   "metadata": {
    "tags": []
   },
   "outputs": [],
   "source": [
    "reflection_chat_history.append({\"role\": \"user\", \"content\": mergesort_code})"
   ]
  },
  {
   "cell_type": "markdown",
   "id": "bfa994c8-3612-47b0-9571-e21d0d73d896",
   "metadata": {},
   "source": [
    "Now, let's generate a critique to the Python code."
   ]
  },
  {
   "cell_type": "code",
   "execution_count": 10,
   "id": "40fee42f-d47a-41b1-a40d-7208ba76ce98",
   "metadata": {
    "tags": []
   },
   "outputs": [],
   "source": [
    "critique = (\n",
    "    client.chat.completions.create(messages=reflection_chat_history, model=MODEL)\n",
    "    .choices[0]\n",
    "    .message.content\n",
    ")"
   ]
  },
  {
   "cell_type": "code",
   "execution_count": 11,
   "id": "0fef3203-c7f1-407f-8b9b-4e8ae140a4cb",
   "metadata": {
    "tags": []
   },
   "outputs": [
    {
     "data": {
      "text/markdown": [
       "Your example code for extracting content between XML tags using the `xml.etree.ElementTree` module is clear and well-structured. It demonstrates the necessary steps to parse an XML string and retrieve the text content of a specific tag quite effectively. Here are some critiques and recommendations for enhancing your code:\n",
       "\n",
       "### Critique\n",
       "\n",
       "1. **Error Handling**: Your code assumes that the XML is well-formed and does not account for possible parsing errors. If invalid XML is provided, `ET.fromstring()` will raise an error.\n",
       "\n",
       "2. **Tag Hierarchy Consideration**: The current implementation only searches for the first `<tool>` tag directly under the root. If there are nested `<tool>` tags, this may not retrieve all instances, or it might not retrieve one from a deeper level if that’s the intended functionality.\n",
       "\n",
       "3. **Text Content**: The code retrieves the text directly but does not handle cases where the `<tool>` element may contain nested elements. The text method would return only the direct text within the `<tool>` and ignore any sub-elements.\n",
       "\n",
       "4. **Return Type**: Returning `None` for a missing tag is good practice; however, it might be useful to raise a custom exception or to return a default value to signal that no content was found more explicitly.\n",
       "\n",
       "### Recommendations\n",
       "\n",
       "1. **Add Error Handling**:\n",
       "   Use try-except blocks to handle possible XML parsing errors gracefully.\n",
       "\n",
       "   ```python\n",
       "   try:\n",
       "       root = ET.fromstring(xml_string)\n",
       "   except ET.ParseError as e:\n",
       "       print(f\"Error parsing XML: {e}\")\n",
       "       return None\n",
       "   ```\n",
       "\n",
       "2. **Search for All Tags**:\n",
       "   If you want to retrieve all `<tool>` elements rather than just the first one, you could use `findall()` instead.\n",
       "\n",
       "   ```python\n",
       "   tool_elements = root.findall('tool')\n",
       "   return [tool.text for tool in tool_elements if tool.text is not None]\n",
       "   ```\n",
       "\n",
       "3. **Handling Nested Elements**:\n",
       "   To retrieve text from nested elements, consider using `ElementTree`'s `itertext()` method. \n",
       "\n",
       "   ```python\n",
       "   def extract_tool_description(xml_string):\n",
       "       ...\n",
       "       tool_element = root.find('tool')\n",
       "       return ''.join(tool_element.itertext()) if tool_element is not None else None\n",
       "   ```\n",
       "\n",
       "4. **Improve Documentation**:\n",
       "   Adding more detailed comments and possibly docstrings to explain function parameters, return types, and exceptions can help make the code easier to use and maintain.\n",
       "\n",
       "5. **Enhance Flexibility**:\n",
       "   Consider allowing the function to accept parameters for the tag name, making it more reusable for different XML structures.\n",
       "\n",
       "   ```python\n",
       "   def extract_tag_description(xml_string, tag_name='tool'):\n",
       "       ...\n",
       "       tag_element = root.find(tag_name)\n",
       "       ...\n",
       "   ```\n",
       "\n",
       "Here’s an enhanced version of your code that incorporates some of these suggestions:\n",
       "\n",
       "```python\n",
       "import xml.etree.ElementTree as ET\n",
       "\n",
       "def extract_tool_description(xml_string, tag_name='tool'):\n",
       "    \"\"\"Extracts the text content of specified XML tags.\n",
       "\n",
       "    Args:\n",
       "        xml_string (str): A string containing XML data.\n",
       "        tag_name (str): The tag name to search for. Default is 'tool'.\n",
       "\n",
       "    Returns:\n",
       "        str: The text content of the found tag, or None if not found.\n",
       "    \"\"\"\n",
       "    try:\n",
       "        root = ET.fromstring(xml_string)\n",
       "    except ET.ParseError as e:\n",
       "        print(f\"Error parsing XML: {e}\")\n",
       "        return None\n",
       "\n",
       "    tag_element = root.find(tag_name)\n",
       "    if tag_element is not None:\n",
       "        return ''.join(tag_element.itertext())\n",
       "    else:\n",
       "        return None\n",
       "\n",
       "# Example XML input\n",
       "xml_data = \"\"\"<root>\n",
       "    <tool>Tool description with nested <feature>Feature A</feature> details.</tool>\n",
       "</root>\"\"\"\n",
       "\n",
       "# Extract the tool description\n",
       "description = extract_tool_description(xml_data)\n",
       "print(description)  # Output: Tool description with nested Feature A details.\n",
       "```\n",
       "\n",
       "These changes improve the robustness, flexibility, and usability of your code while maintaining clarity."
      ]
     },
     "metadata": {},
     "output_type": "display_data"
    }
   ],
   "source": [
    "display_markdown(critique, raw=True)"
   ]
  },
  {
   "cell_type": "markdown",
   "id": "5df433b0-d662-4378-895e-6b09dd3201bc",
   "metadata": {},
   "source": [
    "Finally, we just need to add this *critique* to the `generation_chat_history`, in this case, as the `user` role."
   ]
  },
  {
   "cell_type": "code",
   "execution_count": 12,
   "id": "27a85bb3-cf6a-4576-8caf-cd41e602a1f1",
   "metadata": {
    "tags": []
   },
   "outputs": [],
   "source": [
    "generation_chat_history.append({\"role\": \"user\", \"content\": critique})"
   ]
  },
  {
   "cell_type": "markdown",
   "id": "c3c1aefa-8454-41ab-af40-2675f340a577",
   "metadata": {},
   "source": [
    "## Generation Step (II)"
   ]
  },
  {
   "cell_type": "code",
   "execution_count": 13,
   "id": "91d845cf-51c3-4cfd-b6a7-1b970413f6db",
   "metadata": {
    "tags": []
   },
   "outputs": [],
   "source": [
    "essay = (\n",
    "    client.chat.completions.create(messages=generation_chat_history, model=MODEL)\n",
    "    .choices[0]\n",
    "    .message.content\n",
    ")"
   ]
  },
  {
   "cell_type": "code",
   "execution_count": 14,
   "id": "ef14eaa8-f501-4efc-997f-8564ec8dccd8",
   "metadata": {
    "tags": []
   },
   "outputs": [
    {
     "data": {
      "text/markdown": [
       "Thank you for your detailed critique and recommendations! They are very helpful in improving the code. In response to your suggestions, I've made some enhancements to the previous implementation, focusing on error handling, flexibility, and functionality to handle nested XML elements. \n",
       "\n",
       "Here's the revised version:\n",
       "\n",
       "### Enhanced Version of the XML Content Extraction Code\n",
       "\n",
       "```python\n",
       "import xml.etree.ElementTree as ET\n",
       "\n",
       "def extract_tag_description(xml_string, tag_name='tool'):\n",
       "    \"\"\"Extracts the text content of specified XML tags, including nested tags.\n",
       "\n",
       "    Args:\n",
       "        xml_string (str): A string containing XML data.\n",
       "        tag_name (str): The tag name to search for. Default is 'tool'.\n",
       "\n",
       "    Returns:\n",
       "        str or None: The combined text content of the found tag(s), or None if not found or on error.\n",
       "    \"\"\"\n",
       "    try:\n",
       "        # Parse the XML from the string\n",
       "        root = ET.fromstring(xml_string)\n",
       "    except ET.ParseError as e:\n",
       "        print(f\"Error parsing XML: {e}\")\n",
       "        return None\n",
       "\n",
       "    # Find all elements with the specified tag name\n",
       "    tag_elements = root.findall(tag_name)\n",
       "    if tag_elements:\n",
       "        # Return combined text from all found tags\n",
       "        return ' '.join(''.join(tag.itertext()).strip() for tag in tag_elements)\n",
       "    else:\n",
       "        return None\n",
       "\n",
       "# Example XML input\n",
       "xml_data = \"\"\"<root>\n",
       "    <tool>Tool description with nested <feature>Feature A</feature> details.</tool>\n",
       "    <tool>Another tool description.</tool>\n",
       "</root>\"\"\"\n",
       "\n",
       "# Extract descriptions of all tool elements\n",
       "descriptions = extract_tag_description(xml_data)\n",
       "print(descriptions)  # Output: Tool description with nested Feature A details. Another tool description.\n",
       "```\n",
       "\n",
       "### Key Enhancements:\n",
       "1. **Error Handling**: The code now includes a try-except block to gracefully handle parsing errors.\n",
       "2. **Multiple Tag Retrieval**: The function uses `findall()` to extract all occurrences of the specified tags.\n",
       "3. **Nested Content Handling**: The use of `itertext()` ensures that all text, including from nested elements, is extracted.\n",
       "4. **Function Documentation**: Added a detailed docstring explaining parameters and the return type.\n",
       "5. **Flexibility**: The function allows for the tag name to be specified as an argument, making it reusable for different XML structures.\n",
       "\n",
       "This enhanced version should adequately meet your critiques and offers improved usability and reliability. If there are any additional features you would like to see or further improvements, please let me know!"
      ]
     },
     "metadata": {},
     "output_type": "display_data"
    }
   ],
   "source": [
    "display_markdown(essay, raw=True)"
   ]
  }
 ],
 "metadata": {
  "kernelspec": {
   "display_name": "venv",
   "language": "python",
   "name": "python3"
  },
  "language_info": {
   "codemirror_mode": {
    "name": "ipython",
    "version": 3
   },
   "file_extension": ".py",
   "mimetype": "text/x-python",
   "name": "python",
   "nbconvert_exporter": "python",
   "pygments_lexer": "ipython3",
   "version": "3.12.8"
  }
 },
 "nbformat": 4,
 "nbformat_minor": 5
}
